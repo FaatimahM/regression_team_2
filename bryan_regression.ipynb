{
  "nbformat": 4,
  "nbformat_minor": 0,
  "metadata": {
    "colab": {
      "name": "bryan_regression.ipynb",
      "provenance": [],
      "collapsed_sections": [],
      "include_colab_link": true
    },
    "kernelspec": {
      "name": "python3",
      "display_name": "Python 3"
    }
  },
  "cells": [
    {
      "cell_type": "markdown",
      "metadata": {
        "id": "view-in-github",
        "colab_type": "text"
      },
      "source": [
        "<a href=\"https://colab.research.google.com/github/Mangalis0/regression_team_2/blob/master/bryan_regression.ipynb\" target=\"_parent\"><img src=\"https://colab.research.google.com/assets/colab-badge.svg\" alt=\"Open In Colab\"/></a>"
      ]
    },
    {
      "cell_type": "code",
      "metadata": {
        "id": "f91Zqmwdm7pw",
        "colab_type": "code",
        "colab": {}
      },
      "source": [
        ""
      ],
      "execution_count": 0,
      "outputs": []
    },
    {
      "cell_type": "markdown",
      "metadata": {
        "id": "bnz3utyzTxUR",
        "colab_type": "text"
      },
      "source": [
        "# ***BRYAN REGRESSION NOTEBOOK***"
      ]
    },
    {
      "cell_type": "markdown",
      "metadata": {
        "id": "bVgTuSu2UYaI",
        "colab_type": "text"
      },
      "source": [
        "<h3>Import Libraries</h3>"
      ]
    },
    {
      "cell_type": "code",
      "metadata": {
        "id": "6O3GrwNLIqG4",
        "colab_type": "code",
        "colab": {}
      },
      "source": [
        "import numpy as np\n",
        "import pandas as pd"
      ],
      "execution_count": 0,
      "outputs": []
    },
    {
      "cell_type": "markdown",
      "metadata": {
        "id": "8fbmeZo-UyfQ",
        "colab_type": "text"
      },
      "source": [
        "<h3>Importing Datasets</h3>"
      ]
    },
    {
      "cell_type": "code",
      "metadata": {
        "id": "w23-ElbxJGCf",
        "colab_type": "code",
        "colab": {}
      },
      "source": [
        "train_df = pd.read_csv(\"/Train.csv\")\n",
        "test_df = pd.read_csv(\"/Test.csv\")\n",
        "riders_df = pd.read_csv(\"/Riders.csv\")"
      ],
      "execution_count": 0,
      "outputs": []
    },
    {
      "cell_type": "markdown",
      "metadata": {
        "id": "e2Wn0MxeV7PD",
        "colab_type": "text"
      },
      "source": [
        "<h3>Taking Care Of Missing Values</h3>"
      ]
    },
    {
      "cell_type": "markdown",
      "metadata": {
        "id": "yeMuOsqUVGZJ",
        "colab_type": "text"
      },
      "source": [
        "*Checking For Missing Values* "
      ]
    },
    {
      "cell_type": "code",
      "metadata": {
        "id": "NTJ2FhZdRP8Q",
        "colab_type": "code",
        "colab": {}
      },
      "source": [
        "def check_missing_Values(input_df):\n",
        "  \n",
        "  cp_df = input_df.copy()\n",
        "\n",
        "  missing_values = cp_df.isnull().sum().round(1)\n",
        "\n",
        "  return dict(missing_values)"
      ],
      "execution_count": 0,
      "outputs": []
    },
    {
      "cell_type": "markdown",
      "metadata": {
        "id": "smhh7s-bWRNk",
        "colab_type": "text"
      },
      "source": [
        "Checking Percentage Of Missing Values Per Column"
      ]
    },
    {
      "cell_type": "code",
      "metadata": {
        "id": "fmaZSyS6RQuZ",
        "colab_type": "code",
        "colab": {}
      },
      "source": [
        "def percentage_missing_values(input_df, column_name):\n",
        "  \n",
        "  cp_df = input_df.copy()\n",
        "\n",
        "  missing_col_values = sum(cp_df[column_name].isnull())\n",
        "\n",
        "  per_col_missing = (missing_col_values / len(df[column_name]) * 100).round(1)\n",
        "\n",
        "  return dict(per_col_missing)"
      ],
      "execution_count": 0,
      "outputs": []
    },
    {
      "cell_type": "code",
      "metadata": {
        "id": "j3AZ3pxnKg4b",
        "colab_type": "code",
        "colab": {}
      },
      "source": [
        "# Display The Dataframe"
      ],
      "execution_count": 0,
      "outputs": []
    },
    {
      "cell_type": "markdown",
      "metadata": {
        "id": "awJ_0QBrW8bI",
        "colab_type": "text"
      },
      "source": [
        "<h3>Display The Dataframes</h3>"
      ]
    }
  ]
}