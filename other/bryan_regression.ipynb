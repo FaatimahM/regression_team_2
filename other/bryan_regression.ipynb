{
  "nbformat": 4,
  "nbformat_minor": 0,
  "metadata": {
    "colab": {
      "name": "bryan_regression.ipynb",
      "provenance": [],
      "collapsed_sections": [],
      "toc_visible": true,
      "include_colab_link": true
    },
    "kernelspec": {
      "name": "python3",
      "display_name": "Python 3"
    }
  },
  "cells": [
    {
      "cell_type": "markdown",
      "metadata": {
        "id": "view-in-github",
        "colab_type": "text"
      },
      "source": [
        "<a href=\"https://colab.research.google.com/github/Mangalis0/regression_team_2/blob/master/bryan_regression.ipynb\" target=\"_parent\"><img src=\"https://colab.research.google.com/assets/colab-badge.svg\" alt=\"Open In Colab\"/></a>"
      ]
    },
    {
      "cell_type": "markdown",
      "metadata": {
        "id": "bnz3utyzTxUR",
        "colab_type": "text"
      },
      "source": [
        "# ***BRYAN REGRESSION NOTEBOOK***"
      ]
    },
    {
      "cell_type": "markdown",
      "metadata": {
        "id": "bVgTuSu2UYaI",
        "colab_type": "text"
      },
      "source": [
        "<h3>Import Libraries</h3>"
      ]
    },
    {
      "cell_type": "code",
      "metadata": {
        "id": "6O3GrwNLIqG4",
        "colab_type": "code",
        "colab": {}
      },
      "source": [
        "import numpy as np\n",
        "import pandas as pd"
      ],
      "execution_count": 0,
      "outputs": []
    },
    {
      "cell_type": "markdown",
      "metadata": {
        "id": "8fbmeZo-UyfQ",
        "colab_type": "text"
      },
      "source": [
        "<h3>Importing Datasets</h3>"
      ]
    },
    {
      "cell_type": "code",
      "metadata": {
        "id": "w23-ElbxJGCf",
        "colab_type": "code",
        "colab": {}
      },
      "source": [
        "train_df1 = pd.read_csv(\"/content/sample_data/Train.csv\")\n",
        "test_df1 = pd.read_csv(\"/content/sample_data/Test.csv\")\n",
        "riders_df1 = pd.read_csv(\"/content/sample_data/Riders.csv\")"
      ],
      "execution_count": 0,
      "outputs": []
    },
    {
      "cell_type": "markdown",
      "metadata": {
        "id": "e2Wn0MxeV7PD",
        "colab_type": "text"
      },
      "source": [
        "<h3>Taking Care Of Missing Values</h3>"
      ]
    },
    {
      "cell_type": "markdown",
      "metadata": {
        "id": "yeMuOsqUVGZJ",
        "colab_type": "text"
      },
      "source": [
        "*Checking For Missing Values* "
      ]
    },
    {
      "cell_type": "code",
      "metadata": {
        "id": "NTJ2FhZdRP8Q",
        "colab_type": "code",
        "colab": {}
      },
      "source": [
        "def check_missing_Values(input_df):\n",
        "\n",
        "  missing_values = input_df.isnull().sum().round(2)\n",
        "\n",
        "  return missing_values"
      ],
      "execution_count": 0,
      "outputs": []
    },
    {
      "cell_type": "markdown",
      "metadata": {
        "id": "smhh7s-bWRNk",
        "colab_type": "text"
      },
      "source": [
        "Checking Percentage Of Missing Values Per Column"
      ]
    },
    {
      "cell_type": "code",
      "metadata": {
        "id": "fmaZSyS6RQuZ",
        "colab_type": "code",
        "colab": {}
      },
      "source": [
        "def percentage_missing_values(input_df, column_name):\n",
        "\n",
        "  missing_col_values = sum(input_df[column_name].isnull())\n",
        "\n",
        "  per_col_missing = round(missing_col_values / len(input_df[column_name]) * 100, 1)\n",
        "\n",
        "  return print(column_name, \":\" ,per_col_missing, \"percentage of the data is missing\")"
      ],
      "execution_count": 0,
      "outputs": []
    },
    {
      "cell_type": "markdown",
      "metadata": {
        "id": "0STLYTGJicwy",
        "colab_type": "text"
      },
      "source": [
        "Dropping Dataframe Columns"
      ]
    },
    {
      "cell_type": "code",
      "metadata": {
        "id": "YGIeC4JWibTn",
        "colab_type": "code",
        "colab": {}
      },
      "source": [
        "def drop_df_columns(input_df, column_name):\n",
        "\n",
        "  drop_col = input_df.drop([column_name], axis = 1)\n",
        "\n",
        "  return drop_col"
      ],
      "execution_count": 0,
      "outputs": []
    },
    {
      "cell_type": "markdown",
      "metadata": {
        "id": "9cVosOrGnOA8",
        "colab_type": "text"
      },
      "source": [
        "Filling Missing Values"
      ]
    },
    {
      "cell_type": "code",
      "metadata": {
        "id": "vuQlUm1ynVMT",
        "colab_type": "code",
        "colab": {}
      },
      "source": [
        "def fill_missing_values(input_df):\n",
        "\n",
        "  fill = input_df.fillna(input_df.median())\n",
        "\n",
        "  return fill"
      ],
      "execution_count": 0,
      "outputs": []
    },
    {
      "cell_type": "markdown",
      "metadata": {
        "id": "B50kB-M1YgDh",
        "colab_type": "text"
      },
      "source": [
        "<h2> Train Dataset </h2>"
      ]
    },
    {
      "cell_type": "markdown",
      "metadata": {
        "id": "p0vv-UH_pZPc",
        "colab_type": "text"
      },
      "source": [
        "<h3>Cleaning DataFrames</h3>"
      ]
    },
    {
      "cell_type": "markdown",
      "metadata": {
        "id": "U9RwsK9tqZfD",
        "colab_type": "text"
      },
      "source": [
        "*Check If Dataframe Has Missing Values*"
      ]
    },
    {
      "cell_type": "code",
      "metadata": {
        "id": "9NO6FBhlYg8e",
        "colab_type": "code",
        "outputId": "54b14bc7-5f0f-4f95-97ed-54328506e6af",
        "colab": {
          "base_uri": "https://localhost:8080/",
          "height": 527
        }
      },
      "source": [
        "check_missing_Values(train_df1)"
      ],
      "execution_count": 7,
      "outputs": [
        {
          "output_type": "execute_result",
          "data": {
            "text/plain": [
              "Order No                                         0\n",
              "User Id                                          0\n",
              "Vehicle Type                                     0\n",
              "Platform Type                                    0\n",
              "Personal or Business                             0\n",
              "Placement - Day of Month                         0\n",
              "Placement - Weekday (Mo = 1)                     0\n",
              "Placement - Time                                 0\n",
              "Confirmation - Day of Month                      0\n",
              "Confirmation - Weekday (Mo = 1)                  0\n",
              "Confirmation - Time                              0\n",
              "Arrival at Pickup - Day of Month                 0\n",
              "Arrival at Pickup - Weekday (Mo = 1)             0\n",
              "Arrival at Pickup - Time                         0\n",
              "Pickup - Day of Month                            0\n",
              "Pickup - Weekday (Mo = 1)                        0\n",
              "Pickup - Time                                    0\n",
              "Arrival at Destination - Day of Month            0\n",
              "Arrival at Destination - Weekday (Mo = 1)        0\n",
              "Arrival at Destination - Time                    0\n",
              "Distance (KM)                                    0\n",
              "Temperature                                   4366\n",
              "Precipitation in millimeters                 20649\n",
              "Pickup Lat                                       0\n",
              "Pickup Long                                      0\n",
              "Destination Lat                                  0\n",
              "Destination Long                                 0\n",
              "Rider Id                                         0\n",
              "Time from Pickup to Arrival                      0\n",
              "dtype: int64"
            ]
          },
          "metadata": {
            "tags": []
          },
          "execution_count": 7
        }
      ]
    },
    {
      "cell_type": "code",
      "metadata": {
        "id": "S6CXxlSmaZdQ",
        "colab_type": "code",
        "colab": {
          "base_uri": "https://localhost:8080/",
          "height": 34
        },
        "outputId": "d368df6a-bbee-461d-c5c8-163266105085"
      },
      "source": [
        "train_df1.shape"
      ],
      "execution_count": 18,
      "outputs": [
        {
          "output_type": "execute_result",
          "data": {
            "text/plain": [
              "(21201, 29)"
            ]
          },
          "metadata": {
            "tags": []
          },
          "execution_count": 18
        }
      ]
    },
    {
      "cell_type": "markdown",
      "metadata": {
        "id": "vtsPG01iqnCa",
        "colab_type": "text"
      },
      "source": [
        "Check The Percentage Of Missing Values In A Column"
      ]
    },
    {
      "cell_type": "code",
      "metadata": {
        "id": "GCZQZ_lFYufw",
        "colab_type": "code",
        "outputId": "0fbbad89-de01-4e5d-93e5-5fb9491cd19a",
        "colab": {
          "base_uri": "https://localhost:8080/",
          "height": 34
        }
      },
      "source": [
        "percentage_missing_values(train_df1, \"Temperature\")"
      ],
      "execution_count": 8,
      "outputs": [
        {
          "output_type": "stream",
          "text": [
            "Temperature : 20.6 percentage of the data is missing\n"
          ],
          "name": "stdout"
        }
      ]
    },
    {
      "cell_type": "markdown",
      "metadata": {
        "id": "MXqj4Dyhq97B",
        "colab_type": "text"
      },
      "source": [
        "<h5> This Column Has Over 90 Percent Missing Value Due To That Reason We Drop The Column </h5>"
      ]
    },
    {
      "cell_type": "code",
      "metadata": {
        "id": "I3GbrZLwZP3c",
        "colab_type": "code",
        "outputId": "6e755cc5-14d1-46fd-ceaa-1255a505ecb8",
        "colab": {
          "base_uri": "https://localhost:8080/",
          "height": 34
        }
      },
      "source": [
        "percentage_missing_values(train_df1, \"Precipitation in millimeters\")"
      ],
      "execution_count": 9,
      "outputs": [
        {
          "output_type": "stream",
          "text": [
            "Precipitation in millimeters : 97.4 percentage of the data is missing\n"
          ],
          "name": "stdout"
        }
      ]
    },
    {
      "cell_type": "markdown",
      "metadata": {
        "id": "b5mw9opcr9Y5",
        "colab_type": "text"
      },
      "source": [
        "Drop Columns And Fill In Missing Values"
      ]
    },
    {
      "cell_type": "code",
      "metadata": {
        "id": "EjRWELr5bZDr",
        "colab_type": "code",
        "colab": {}
      },
      "source": [
        "# Create A Copied DataFrame\n",
        "new_train_df = train_df1.copy()"
      ],
      "execution_count": 0,
      "outputs": []
    },
    {
      "cell_type": "code",
      "metadata": {
        "id": "D7_liKukm3Q9",
        "colab_type": "code",
        "colab": {}
      },
      "source": [
        "# Drop Precipitation in millimeters column\n",
        "train_df_sp = drop_df_columns(new_train_df, \"Precipitation in millimeters\")"
      ],
      "execution_count": 0,
      "outputs": []
    },
    {
      "cell_type": "code",
      "metadata": {
        "id": "cC9aHP0bw_mm",
        "colab_type": "code",
        "colab": {}
      },
      "source": [
        "# Filling In Missing Values\n",
        "train_df = fill_missing_values(train_df_sp)"
      ],
      "execution_count": 0,
      "outputs": []
    },
    {
      "cell_type": "code",
      "metadata": {
        "id": "fCRw7peqxU1Z",
        "colab_type": "code",
        "outputId": "c2a3c603-6102-4773-c076-79fa3d636b20",
        "colab": {
          "base_uri": "https://localhost:8080/",
          "height": 510
        }
      },
      "source": [
        "# Check For Missing Values Again\n",
        "check_missing_Values(train_df)"
      ],
      "execution_count": 13,
      "outputs": [
        {
          "output_type": "execute_result",
          "data": {
            "text/plain": [
              "Order No                                     0\n",
              "User Id                                      0\n",
              "Vehicle Type                                 0\n",
              "Platform Type                                0\n",
              "Personal or Business                         0\n",
              "Placement - Day of Month                     0\n",
              "Placement - Weekday (Mo = 1)                 0\n",
              "Placement - Time                             0\n",
              "Confirmation - Day of Month                  0\n",
              "Confirmation - Weekday (Mo = 1)              0\n",
              "Confirmation - Time                          0\n",
              "Arrival at Pickup - Day of Month             0\n",
              "Arrival at Pickup - Weekday (Mo = 1)         0\n",
              "Arrival at Pickup - Time                     0\n",
              "Pickup - Day of Month                        0\n",
              "Pickup - Weekday (Mo = 1)                    0\n",
              "Pickup - Time                                0\n",
              "Arrival at Destination - Day of Month        0\n",
              "Arrival at Destination - Weekday (Mo = 1)    0\n",
              "Arrival at Destination - Time                0\n",
              "Distance (KM)                                0\n",
              "Temperature                                  0\n",
              "Pickup Lat                                   0\n",
              "Pickup Long                                  0\n",
              "Destination Lat                              0\n",
              "Destination Long                             0\n",
              "Rider Id                                     0\n",
              "Time from Pickup to Arrival                  0\n",
              "dtype: int64"
            ]
          },
          "metadata": {
            "tags": []
          },
          "execution_count": 13
        }
      ]
    },
    {
      "cell_type": "markdown",
      "metadata": {
        "id": "GIntnLob0MDP",
        "colab_type": "text"
      },
      "source": [
        "Display Dataframe Results"
      ]
    },
    {
      "cell_type": "code",
      "metadata": {
        "id": "13yIdHsox69k",
        "colab_type": "code",
        "outputId": "d9b1c882-b4f7-4aee-d75f-7c49c2d577c9",
        "colab": {
          "base_uri": "https://localhost:8080/",
          "height": 1000
        }
      },
      "source": [
        "train_df.head(20)"
      ],
      "execution_count": 14,
      "outputs": [
        {
          "output_type": "execute_result",
          "data": {
            "text/html": [
              "<div>\n",
              "<style scoped>\n",
              "    .dataframe tbody tr th:only-of-type {\n",
              "        vertical-align: middle;\n",
              "    }\n",
              "\n",
              "    .dataframe tbody tr th {\n",
              "        vertical-align: top;\n",
              "    }\n",
              "\n",
              "    .dataframe thead th {\n",
              "        text-align: right;\n",
              "    }\n",
              "</style>\n",
              "<table border=\"1\" class=\"dataframe\">\n",
              "  <thead>\n",
              "    <tr style=\"text-align: right;\">\n",
              "      <th></th>\n",
              "      <th>Order No</th>\n",
              "      <th>User Id</th>\n",
              "      <th>Vehicle Type</th>\n",
              "      <th>Platform Type</th>\n",
              "      <th>Personal or Business</th>\n",
              "      <th>Placement - Day of Month</th>\n",
              "      <th>Placement - Weekday (Mo = 1)</th>\n",
              "      <th>Placement - Time</th>\n",
              "      <th>Confirmation - Day of Month</th>\n",
              "      <th>Confirmation - Weekday (Mo = 1)</th>\n",
              "      <th>Confirmation - Time</th>\n",
              "      <th>Arrival at Pickup - Day of Month</th>\n",
              "      <th>Arrival at Pickup - Weekday (Mo = 1)</th>\n",
              "      <th>Arrival at Pickup - Time</th>\n",
              "      <th>Pickup - Day of Month</th>\n",
              "      <th>Pickup - Weekday (Mo = 1)</th>\n",
              "      <th>Pickup - Time</th>\n",
              "      <th>Arrival at Destination - Day of Month</th>\n",
              "      <th>Arrival at Destination - Weekday (Mo = 1)</th>\n",
              "      <th>Arrival at Destination - Time</th>\n",
              "      <th>Distance (KM)</th>\n",
              "      <th>Temperature</th>\n",
              "      <th>Pickup Lat</th>\n",
              "      <th>Pickup Long</th>\n",
              "      <th>Destination Lat</th>\n",
              "      <th>Destination Long</th>\n",
              "      <th>Rider Id</th>\n",
              "      <th>Time from Pickup to Arrival</th>\n",
              "    </tr>\n",
              "  </thead>\n",
              "  <tbody>\n",
              "    <tr>\n",
              "      <th>0</th>\n",
              "      <td>Order_No_4211</td>\n",
              "      <td>User_Id_633</td>\n",
              "      <td>Bike</td>\n",
              "      <td>3</td>\n",
              "      <td>Business</td>\n",
              "      <td>9</td>\n",
              "      <td>5</td>\n",
              "      <td>9:35:46 AM</td>\n",
              "      <td>9</td>\n",
              "      <td>5</td>\n",
              "      <td>9:40:10 AM</td>\n",
              "      <td>9</td>\n",
              "      <td>5</td>\n",
              "      <td>10:04:47 AM</td>\n",
              "      <td>9</td>\n",
              "      <td>5</td>\n",
              "      <td>10:27:30 AM</td>\n",
              "      <td>9</td>\n",
              "      <td>5</td>\n",
              "      <td>10:39:55 AM</td>\n",
              "      <td>4</td>\n",
              "      <td>20.4</td>\n",
              "      <td>-1.317755</td>\n",
              "      <td>36.830370</td>\n",
              "      <td>-1.300406</td>\n",
              "      <td>36.829741</td>\n",
              "      <td>Rider_Id_432</td>\n",
              "      <td>745</td>\n",
              "    </tr>\n",
              "    <tr>\n",
              "      <th>1</th>\n",
              "      <td>Order_No_25375</td>\n",
              "      <td>User_Id_2285</td>\n",
              "      <td>Bike</td>\n",
              "      <td>3</td>\n",
              "      <td>Personal</td>\n",
              "      <td>12</td>\n",
              "      <td>5</td>\n",
              "      <td>11:16:16 AM</td>\n",
              "      <td>12</td>\n",
              "      <td>5</td>\n",
              "      <td>11:23:21 AM</td>\n",
              "      <td>12</td>\n",
              "      <td>5</td>\n",
              "      <td>11:40:22 AM</td>\n",
              "      <td>12</td>\n",
              "      <td>5</td>\n",
              "      <td>11:44:09 AM</td>\n",
              "      <td>12</td>\n",
              "      <td>5</td>\n",
              "      <td>12:17:22 PM</td>\n",
              "      <td>16</td>\n",
              "      <td>26.4</td>\n",
              "      <td>-1.351453</td>\n",
              "      <td>36.899315</td>\n",
              "      <td>-1.295004</td>\n",
              "      <td>36.814358</td>\n",
              "      <td>Rider_Id_856</td>\n",
              "      <td>1993</td>\n",
              "    </tr>\n",
              "    <tr>\n",
              "      <th>2</th>\n",
              "      <td>Order_No_1899</td>\n",
              "      <td>User_Id_265</td>\n",
              "      <td>Bike</td>\n",
              "      <td>3</td>\n",
              "      <td>Business</td>\n",
              "      <td>30</td>\n",
              "      <td>2</td>\n",
              "      <td>12:39:25 PM</td>\n",
              "      <td>30</td>\n",
              "      <td>2</td>\n",
              "      <td>12:42:44 PM</td>\n",
              "      <td>30</td>\n",
              "      <td>2</td>\n",
              "      <td>12:49:34 PM</td>\n",
              "      <td>30</td>\n",
              "      <td>2</td>\n",
              "      <td>12:53:03 PM</td>\n",
              "      <td>30</td>\n",
              "      <td>2</td>\n",
              "      <td>1:00:38 PM</td>\n",
              "      <td>3</td>\n",
              "      <td>23.5</td>\n",
              "      <td>-1.308284</td>\n",
              "      <td>36.843419</td>\n",
              "      <td>-1.300921</td>\n",
              "      <td>36.828195</td>\n",
              "      <td>Rider_Id_155</td>\n",
              "      <td>455</td>\n",
              "    </tr>\n",
              "    <tr>\n",
              "      <th>3</th>\n",
              "      <td>Order_No_9336</td>\n",
              "      <td>User_Id_1402</td>\n",
              "      <td>Bike</td>\n",
              "      <td>3</td>\n",
              "      <td>Business</td>\n",
              "      <td>15</td>\n",
              "      <td>5</td>\n",
              "      <td>9:25:34 AM</td>\n",
              "      <td>15</td>\n",
              "      <td>5</td>\n",
              "      <td>9:26:05 AM</td>\n",
              "      <td>15</td>\n",
              "      <td>5</td>\n",
              "      <td>9:37:56 AM</td>\n",
              "      <td>15</td>\n",
              "      <td>5</td>\n",
              "      <td>9:43:06 AM</td>\n",
              "      <td>15</td>\n",
              "      <td>5</td>\n",
              "      <td>10:05:27 AM</td>\n",
              "      <td>9</td>\n",
              "      <td>19.2</td>\n",
              "      <td>-1.281301</td>\n",
              "      <td>36.832396</td>\n",
              "      <td>-1.257147</td>\n",
              "      <td>36.795063</td>\n",
              "      <td>Rider_Id_855</td>\n",
              "      <td>1341</td>\n",
              "    </tr>\n",
              "    <tr>\n",
              "      <th>4</th>\n",
              "      <td>Order_No_27883</td>\n",
              "      <td>User_Id_1737</td>\n",
              "      <td>Bike</td>\n",
              "      <td>1</td>\n",
              "      <td>Personal</td>\n",
              "      <td>13</td>\n",
              "      <td>1</td>\n",
              "      <td>9:55:18 AM</td>\n",
              "      <td>13</td>\n",
              "      <td>1</td>\n",
              "      <td>9:56:18 AM</td>\n",
              "      <td>13</td>\n",
              "      <td>1</td>\n",
              "      <td>10:03:53 AM</td>\n",
              "      <td>13</td>\n",
              "      <td>1</td>\n",
              "      <td>10:05:23 AM</td>\n",
              "      <td>13</td>\n",
              "      <td>1</td>\n",
              "      <td>10:25:37 AM</td>\n",
              "      <td>9</td>\n",
              "      <td>15.4</td>\n",
              "      <td>-1.266597</td>\n",
              "      <td>36.792118</td>\n",
              "      <td>-1.295041</td>\n",
              "      <td>36.809817</td>\n",
              "      <td>Rider_Id_770</td>\n",
              "      <td>1214</td>\n",
              "    </tr>\n",
              "    <tr>\n",
              "      <th>5</th>\n",
              "      <td>Order_No_7408</td>\n",
              "      <td>User_Id_1342</td>\n",
              "      <td>Bike</td>\n",
              "      <td>3</td>\n",
              "      <td>Business</td>\n",
              "      <td>14</td>\n",
              "      <td>5</td>\n",
              "      <td>3:07:35 PM</td>\n",
              "      <td>14</td>\n",
              "      <td>5</td>\n",
              "      <td>3:08:57 PM</td>\n",
              "      <td>14</td>\n",
              "      <td>5</td>\n",
              "      <td>3:21:36 PM</td>\n",
              "      <td>14</td>\n",
              "      <td>5</td>\n",
              "      <td>3:30:30 PM</td>\n",
              "      <td>14</td>\n",
              "      <td>5</td>\n",
              "      <td>4:23:41 PM</td>\n",
              "      <td>9</td>\n",
              "      <td>27.2</td>\n",
              "      <td>-1.302583</td>\n",
              "      <td>36.767081</td>\n",
              "      <td>-1.257309</td>\n",
              "      <td>36.806008</td>\n",
              "      <td>Rider_Id_124</td>\n",
              "      <td>3191</td>\n",
              "    </tr>\n",
              "    <tr>\n",
              "      <th>6</th>\n",
              "      <td>Order_No_22680</td>\n",
              "      <td>User_Id_2803</td>\n",
              "      <td>Bike</td>\n",
              "      <td>3</td>\n",
              "      <td>Business</td>\n",
              "      <td>9</td>\n",
              "      <td>5</td>\n",
              "      <td>9:33:45 AM</td>\n",
              "      <td>9</td>\n",
              "      <td>5</td>\n",
              "      <td>9:49:47 AM</td>\n",
              "      <td>9</td>\n",
              "      <td>5</td>\n",
              "      <td>9:53:12 AM</td>\n",
              "      <td>9</td>\n",
              "      <td>5</td>\n",
              "      <td>9:56:45 AM</td>\n",
              "      <td>9</td>\n",
              "      <td>5</td>\n",
              "      <td>10:19:45 AM</td>\n",
              "      <td>5</td>\n",
              "      <td>20.3</td>\n",
              "      <td>-1.279395</td>\n",
              "      <td>36.825364</td>\n",
              "      <td>-1.276574</td>\n",
              "      <td>36.851365</td>\n",
              "      <td>Rider_Id_114</td>\n",
              "      <td>1380</td>\n",
              "    </tr>\n",
              "    <tr>\n",
              "      <th>7</th>\n",
              "      <td>Order_No_21578</td>\n",
              "      <td>User_Id_1075</td>\n",
              "      <td>Bike</td>\n",
              "      <td>3</td>\n",
              "      <td>Business</td>\n",
              "      <td>11</td>\n",
              "      <td>1</td>\n",
              "      <td>2:13:01 PM</td>\n",
              "      <td>11</td>\n",
              "      <td>1</td>\n",
              "      <td>2:14:13 PM</td>\n",
              "      <td>11</td>\n",
              "      <td>1</td>\n",
              "      <td>2:21:33 PM</td>\n",
              "      <td>11</td>\n",
              "      <td>1</td>\n",
              "      <td>2:22:40 PM</td>\n",
              "      <td>11</td>\n",
              "      <td>1</td>\n",
              "      <td>2:33:26 PM</td>\n",
              "      <td>3</td>\n",
              "      <td>28.7</td>\n",
              "      <td>-1.252796</td>\n",
              "      <td>36.800313</td>\n",
              "      <td>-1.255189</td>\n",
              "      <td>36.782203</td>\n",
              "      <td>Rider_Id_913</td>\n",
              "      <td>646</td>\n",
              "    </tr>\n",
              "    <tr>\n",
              "      <th>8</th>\n",
              "      <td>Order_No_5234</td>\n",
              "      <td>User_Id_733</td>\n",
              "      <td>Bike</td>\n",
              "      <td>3</td>\n",
              "      <td>Business</td>\n",
              "      <td>30</td>\n",
              "      <td>2</td>\n",
              "      <td>11:10:44 AM</td>\n",
              "      <td>30</td>\n",
              "      <td>2</td>\n",
              "      <td>11:15:49 AM</td>\n",
              "      <td>30</td>\n",
              "      <td>2</td>\n",
              "      <td>12:13:18 PM</td>\n",
              "      <td>30</td>\n",
              "      <td>2</td>\n",
              "      <td>12:22:57 PM</td>\n",
              "      <td>30</td>\n",
              "      <td>2</td>\n",
              "      <td>1:19:35 PM</td>\n",
              "      <td>9</td>\n",
              "      <td>23.5</td>\n",
              "      <td>-1.255189</td>\n",
              "      <td>36.782203</td>\n",
              "      <td>-1.300255</td>\n",
              "      <td>36.825657</td>\n",
              "      <td>Rider_Id_394</td>\n",
              "      <td>3398</td>\n",
              "    </tr>\n",
              "    <tr>\n",
              "      <th>9</th>\n",
              "      <td>Order_No_1768</td>\n",
              "      <td>User_Id_2112</td>\n",
              "      <td>Bike</td>\n",
              "      <td>3</td>\n",
              "      <td>Business</td>\n",
              "      <td>23</td>\n",
              "      <td>5</td>\n",
              "      <td>4:48:54 PM</td>\n",
              "      <td>23</td>\n",
              "      <td>5</td>\n",
              "      <td>5:17:56 PM</td>\n",
              "      <td>23</td>\n",
              "      <td>5</td>\n",
              "      <td>5:32:41 PM</td>\n",
              "      <td>23</td>\n",
              "      <td>5</td>\n",
              "      <td>5:34:38 PM</td>\n",
              "      <td>23</td>\n",
              "      <td>5</td>\n",
              "      <td>6:31:57 PM</td>\n",
              "      <td>14</td>\n",
              "      <td>24.6</td>\n",
              "      <td>-1.225322</td>\n",
              "      <td>36.808550</td>\n",
              "      <td>-1.215601</td>\n",
              "      <td>36.891686</td>\n",
              "      <td>Rider_Id_660</td>\n",
              "      <td>3439</td>\n",
              "    </tr>\n",
              "    <tr>\n",
              "      <th>10</th>\n",
              "      <td>Order_No_823</td>\n",
              "      <td>User_Id_2820</td>\n",
              "      <td>Bike</td>\n",
              "      <td>3</td>\n",
              "      <td>Personal</td>\n",
              "      <td>15</td>\n",
              "      <td>3</td>\n",
              "      <td>9:23:37 AM</td>\n",
              "      <td>15</td>\n",
              "      <td>3</td>\n",
              "      <td>9:31:27 AM</td>\n",
              "      <td>15</td>\n",
              "      <td>3</td>\n",
              "      <td>10:10:28 AM</td>\n",
              "      <td>15</td>\n",
              "      <td>3</td>\n",
              "      <td>10:14:53 AM</td>\n",
              "      <td>15</td>\n",
              "      <td>3</td>\n",
              "      <td>10:32:29 AM</td>\n",
              "      <td>9</td>\n",
              "      <td>16.4</td>\n",
              "      <td>-1.329118</td>\n",
              "      <td>36.789237</td>\n",
              "      <td>-1.290342</td>\n",
              "      <td>36.788528</td>\n",
              "      <td>Rider_Id_208</td>\n",
              "      <td>1056</td>\n",
              "    </tr>\n",
              "    <tr>\n",
              "      <th>11</th>\n",
              "      <td>Order_No_2533</td>\n",
              "      <td>User_Id_704</td>\n",
              "      <td>Bike</td>\n",
              "      <td>1</td>\n",
              "      <td>Business</td>\n",
              "      <td>2</td>\n",
              "      <td>2</td>\n",
              "      <td>3:43:20 PM</td>\n",
              "      <td>2</td>\n",
              "      <td>2</td>\n",
              "      <td>3:44:16 PM</td>\n",
              "      <td>2</td>\n",
              "      <td>2</td>\n",
              "      <td>3:59:18 PM</td>\n",
              "      <td>2</td>\n",
              "      <td>2</td>\n",
              "      <td>4:17:27 PM</td>\n",
              "      <td>2</td>\n",
              "      <td>2</td>\n",
              "      <td>5:22:25 PM</td>\n",
              "      <td>17</td>\n",
              "      <td>26.1</td>\n",
              "      <td>-1.258414</td>\n",
              "      <td>36.804800</td>\n",
              "      <td>-1.286018</td>\n",
              "      <td>36.897534</td>\n",
              "      <td>Rider_Id_937</td>\n",
              "      <td>3898</td>\n",
              "    </tr>\n",
              "    <tr>\n",
              "      <th>12</th>\n",
              "      <td>Order_No_7842</td>\n",
              "      <td>User_Id_1990</td>\n",
              "      <td>Bike</td>\n",
              "      <td>3</td>\n",
              "      <td>Business</td>\n",
              "      <td>23</td>\n",
              "      <td>4</td>\n",
              "      <td>2:37:42 PM</td>\n",
              "      <td>23</td>\n",
              "      <td>4</td>\n",
              "      <td>2:39:00 PM</td>\n",
              "      <td>23</td>\n",
              "      <td>4</td>\n",
              "      <td>2:49:27 PM</td>\n",
              "      <td>23</td>\n",
              "      <td>4</td>\n",
              "      <td>3:01:57 PM</td>\n",
              "      <td>23</td>\n",
              "      <td>4</td>\n",
              "      <td>3:45:59 PM</td>\n",
              "      <td>10</td>\n",
              "      <td>24.6</td>\n",
              "      <td>-1.255872</td>\n",
              "      <td>36.722296</td>\n",
              "      <td>-1.275442</td>\n",
              "      <td>36.766021</td>\n",
              "      <td>Rider_Id_868</td>\n",
              "      <td>2642</td>\n",
              "    </tr>\n",
              "    <tr>\n",
              "      <th>13</th>\n",
              "      <td>Order_No_6452</td>\n",
              "      <td>User_Id_3295</td>\n",
              "      <td>Bike</td>\n",
              "      <td>3</td>\n",
              "      <td>Business</td>\n",
              "      <td>25</td>\n",
              "      <td>5</td>\n",
              "      <td>9:12:08 AM</td>\n",
              "      <td>25</td>\n",
              "      <td>5</td>\n",
              "      <td>9:14:08 AM</td>\n",
              "      <td>25</td>\n",
              "      <td>5</td>\n",
              "      <td>9:14:53 AM</td>\n",
              "      <td>25</td>\n",
              "      <td>5</td>\n",
              "      <td>9:27:34 AM</td>\n",
              "      <td>25</td>\n",
              "      <td>5</td>\n",
              "      <td>10:15:58 AM</td>\n",
              "      <td>21</td>\n",
              "      <td>20.9</td>\n",
              "      <td>-1.257147</td>\n",
              "      <td>36.795063</td>\n",
              "      <td>-1.390867</td>\n",
              "      <td>36.767424</td>\n",
              "      <td>Rider_Id_536</td>\n",
              "      <td>2904</td>\n",
              "    </tr>\n",
              "    <tr>\n",
              "      <th>14</th>\n",
              "      <td>Order_No_9463</td>\n",
              "      <td>User_Id_248</td>\n",
              "      <td>Bike</td>\n",
              "      <td>3</td>\n",
              "      <td>Business</td>\n",
              "      <td>23</td>\n",
              "      <td>4</td>\n",
              "      <td>10:05:04 AM</td>\n",
              "      <td>23</td>\n",
              "      <td>4</td>\n",
              "      <td>10:05:49 AM</td>\n",
              "      <td>23</td>\n",
              "      <td>4</td>\n",
              "      <td>10:17:51 AM</td>\n",
              "      <td>23</td>\n",
              "      <td>4</td>\n",
              "      <td>10:27:05 AM</td>\n",
              "      <td>23</td>\n",
              "      <td>4</td>\n",
              "      <td>10:33:52 AM</td>\n",
              "      <td>1</td>\n",
              "      <td>23.5</td>\n",
              "      <td>-1.304735</td>\n",
              "      <td>36.784605</td>\n",
              "      <td>-1.299323</td>\n",
              "      <td>36.775337</td>\n",
              "      <td>Rider_Id_607</td>\n",
              "      <td>407</td>\n",
              "    </tr>\n",
              "    <tr>\n",
              "      <th>15</th>\n",
              "      <td>Order_No_21335</td>\n",
              "      <td>User_Id_3599</td>\n",
              "      <td>Bike</td>\n",
              "      <td>3</td>\n",
              "      <td>Business</td>\n",
              "      <td>2</td>\n",
              "      <td>4</td>\n",
              "      <td>12:33:50 PM</td>\n",
              "      <td>2</td>\n",
              "      <td>4</td>\n",
              "      <td>12:52:23 PM</td>\n",
              "      <td>2</td>\n",
              "      <td>4</td>\n",
              "      <td>1:17:57 PM</td>\n",
              "      <td>2</td>\n",
              "      <td>4</td>\n",
              "      <td>1:38:25 PM</td>\n",
              "      <td>2</td>\n",
              "      <td>4</td>\n",
              "      <td>2:10:11 PM</td>\n",
              "      <td>13</td>\n",
              "      <td>23.5</td>\n",
              "      <td>-1.330300</td>\n",
              "      <td>36.870793</td>\n",
              "      <td>-1.264474</td>\n",
              "      <td>36.808346</td>\n",
              "      <td>Rider_Id_427</td>\n",
              "      <td>1906</td>\n",
              "    </tr>\n",
              "    <tr>\n",
              "      <th>16</th>\n",
              "      <td>Order_No_21307</td>\n",
              "      <td>User_Id_198</td>\n",
              "      <td>Bike</td>\n",
              "      <td>3</td>\n",
              "      <td>Business</td>\n",
              "      <td>19</td>\n",
              "      <td>3</td>\n",
              "      <td>11:57:55 AM</td>\n",
              "      <td>19</td>\n",
              "      <td>3</td>\n",
              "      <td>11:58:07 AM</td>\n",
              "      <td>19</td>\n",
              "      <td>3</td>\n",
              "      <td>12:07:53 PM</td>\n",
              "      <td>19</td>\n",
              "      <td>3</td>\n",
              "      <td>12:15:32 PM</td>\n",
              "      <td>19</td>\n",
              "      <td>3</td>\n",
              "      <td>12:54:00 PM</td>\n",
              "      <td>17</td>\n",
              "      <td>23.5</td>\n",
              "      <td>-1.339626</td>\n",
              "      <td>36.886313</td>\n",
              "      <td>-1.270530</td>\n",
              "      <td>36.798717</td>\n",
              "      <td>Rider_Id_265</td>\n",
              "      <td>2308</td>\n",
              "    </tr>\n",
              "    <tr>\n",
              "      <th>17</th>\n",
              "      <td>Order_No_8201</td>\n",
              "      <td>User_Id_1500</td>\n",
              "      <td>Bike</td>\n",
              "      <td>3</td>\n",
              "      <td>Business</td>\n",
              "      <td>15</td>\n",
              "      <td>2</td>\n",
              "      <td>11:34:28 AM</td>\n",
              "      <td>15</td>\n",
              "      <td>2</td>\n",
              "      <td>11:35:48 AM</td>\n",
              "      <td>15</td>\n",
              "      <td>2</td>\n",
              "      <td>12:19:58 PM</td>\n",
              "      <td>15</td>\n",
              "      <td>2</td>\n",
              "      <td>12:25:08 PM</td>\n",
              "      <td>15</td>\n",
              "      <td>2</td>\n",
              "      <td>1:09:07 PM</td>\n",
              "      <td>13</td>\n",
              "      <td>24.4</td>\n",
              "      <td>-1.257422</td>\n",
              "      <td>36.792707</td>\n",
              "      <td>-1.322800</td>\n",
              "      <td>36.830644</td>\n",
              "      <td>Rider_Id_725</td>\n",
              "      <td>2639</td>\n",
              "    </tr>\n",
              "    <tr>\n",
              "      <th>18</th>\n",
              "      <td>Order_No_11630</td>\n",
              "      <td>User_Id_391</td>\n",
              "      <td>Bike</td>\n",
              "      <td>3</td>\n",
              "      <td>Business</td>\n",
              "      <td>14</td>\n",
              "      <td>3</td>\n",
              "      <td>9:12:10 AM</td>\n",
              "      <td>14</td>\n",
              "      <td>3</td>\n",
              "      <td>11:21:57 AM</td>\n",
              "      <td>14</td>\n",
              "      <td>3</td>\n",
              "      <td>11:31:02 AM</td>\n",
              "      <td>14</td>\n",
              "      <td>3</td>\n",
              "      <td>11:33:31 AM</td>\n",
              "      <td>14</td>\n",
              "      <td>3</td>\n",
              "      <td>11:59:41 AM</td>\n",
              "      <td>5</td>\n",
              "      <td>24.4</td>\n",
              "      <td>-1.259956</td>\n",
              "      <td>36.799344</td>\n",
              "      <td>-1.286745</td>\n",
              "      <td>36.825902</td>\n",
              "      <td>Rider_Id_436</td>\n",
              "      <td>1570</td>\n",
              "    </tr>\n",
              "    <tr>\n",
              "      <th>19</th>\n",
              "      <td>Order_No_19866</td>\n",
              "      <td>User_Id_3722</td>\n",
              "      <td>Bike</td>\n",
              "      <td>1</td>\n",
              "      <td>Personal</td>\n",
              "      <td>28</td>\n",
              "      <td>2</td>\n",
              "      <td>2:12:53 PM</td>\n",
              "      <td>28</td>\n",
              "      <td>2</td>\n",
              "      <td>2:14:55 PM</td>\n",
              "      <td>28</td>\n",
              "      <td>2</td>\n",
              "      <td>2:42:22 PM</td>\n",
              "      <td>28</td>\n",
              "      <td>2</td>\n",
              "      <td>2:50:07 PM</td>\n",
              "      <td>28</td>\n",
              "      <td>2</td>\n",
              "      <td>4:00:27 PM</td>\n",
              "      <td>5</td>\n",
              "      <td>19.4</td>\n",
              "      <td>-1.287290</td>\n",
              "      <td>36.820434</td>\n",
              "      <td>-1.289835</td>\n",
              "      <td>36.787270</td>\n",
              "      <td>Rider_Id_447</td>\n",
              "      <td>4220</td>\n",
              "    </tr>\n",
              "  </tbody>\n",
              "</table>\n",
              "</div>"
            ],
            "text/plain": [
              "          Order No       User Id  ...      Rider Id  Time from Pickup to Arrival\n",
              "0    Order_No_4211   User_Id_633  ...  Rider_Id_432                          745\n",
              "1   Order_No_25375  User_Id_2285  ...  Rider_Id_856                         1993\n",
              "2    Order_No_1899   User_Id_265  ...  Rider_Id_155                          455\n",
              "3    Order_No_9336  User_Id_1402  ...  Rider_Id_855                         1341\n",
              "4   Order_No_27883  User_Id_1737  ...  Rider_Id_770                         1214\n",
              "5    Order_No_7408  User_Id_1342  ...  Rider_Id_124                         3191\n",
              "6   Order_No_22680  User_Id_2803  ...  Rider_Id_114                         1380\n",
              "7   Order_No_21578  User_Id_1075  ...  Rider_Id_913                          646\n",
              "8    Order_No_5234   User_Id_733  ...  Rider_Id_394                         3398\n",
              "9    Order_No_1768  User_Id_2112  ...  Rider_Id_660                         3439\n",
              "10    Order_No_823  User_Id_2820  ...  Rider_Id_208                         1056\n",
              "11   Order_No_2533   User_Id_704  ...  Rider_Id_937                         3898\n",
              "12   Order_No_7842  User_Id_1990  ...  Rider_Id_868                         2642\n",
              "13   Order_No_6452  User_Id_3295  ...  Rider_Id_536                         2904\n",
              "14   Order_No_9463   User_Id_248  ...  Rider_Id_607                          407\n",
              "15  Order_No_21335  User_Id_3599  ...  Rider_Id_427                         1906\n",
              "16  Order_No_21307   User_Id_198  ...  Rider_Id_265                         2308\n",
              "17   Order_No_8201  User_Id_1500  ...  Rider_Id_725                         2639\n",
              "18  Order_No_11630   User_Id_391  ...  Rider_Id_436                         1570\n",
              "19  Order_No_19866  User_Id_3722  ...  Rider_Id_447                         4220\n",
              "\n",
              "[20 rows x 28 columns]"
            ]
          },
          "metadata": {
            "tags": []
          },
          "execution_count": 14
        }
      ]
    },
    {
      "cell_type": "code",
      "metadata": {
        "id": "SQp569Ncy8HX",
        "colab_type": "code",
        "outputId": "1bd5f1bc-f279-4371-9d49-829df01465cb",
        "colab": {
          "base_uri": "https://localhost:8080/",
          "height": 34
        }
      },
      "source": [
        "# Display Shape Of The DataFrame\n",
        "train_df.shape"
      ],
      "execution_count": 15,
      "outputs": [
        {
          "output_type": "execute_result",
          "data": {
            "text/plain": [
              "(21201, 28)"
            ]
          },
          "metadata": {
            "tags": []
          },
          "execution_count": 15
        }
      ]
    },
    {
      "cell_type": "markdown",
      "metadata": {
        "id": "5BfoYjaEZgTD",
        "colab_type": "text"
      },
      "source": [
        "<h2>Test Dataset</h2>"
      ]
    },
    {
      "cell_type": "markdown",
      "metadata": {
        "id": "NxFFM1tRZqSv",
        "colab_type": "text"
      },
      "source": [
        "<h3>Cleaning DataFrames</h3>"
      ]
    },
    {
      "cell_type": "markdown",
      "metadata": {
        "id": "FRlzWN8jZykA",
        "colab_type": "text"
      },
      "source": [
        "Check If Dataframe Has Missing Values"
      ]
    },
    {
      "cell_type": "code",
      "metadata": {
        "id": "qGwtEzg2zjya",
        "colab_type": "code",
        "colab": {
          "base_uri": "https://localhost:8080/",
          "height": 459
        },
        "outputId": "9a702453-7163-441d-f494-70af2b1bf841"
      },
      "source": [
        "check_missing_Values(test_df1)"
      ],
      "execution_count": 16,
      "outputs": [
        {
          "output_type": "execute_result",
          "data": {
            "text/plain": [
              "Order No                                   0\n",
              "User Id                                    0\n",
              "Vehicle Type                               0\n",
              "Platform Type                              0\n",
              "Personal or Business                       0\n",
              "Placement - Day of Month                   0\n",
              "Placement - Weekday (Mo = 1)               0\n",
              "Placement - Time                           0\n",
              "Confirmation - Day of Month                0\n",
              "Confirmation - Weekday (Mo = 1)            0\n",
              "Confirmation - Time                        0\n",
              "Arrival at Pickup - Day of Month           0\n",
              "Arrival at Pickup - Weekday (Mo = 1)       0\n",
              "Arrival at Pickup - Time                   0\n",
              "Pickup - Day of Month                      0\n",
              "Pickup - Weekday (Mo = 1)                  0\n",
              "Pickup - Time                              0\n",
              "Distance (KM)                              0\n",
              "Temperature                             1437\n",
              "Precipitation in millimeters            6869\n",
              "Pickup Lat                                 0\n",
              "Pickup Long                                0\n",
              "Destination Lat                            0\n",
              "Destination Long                           0\n",
              "Rider Id                                   0\n",
              "dtype: int64"
            ]
          },
          "metadata": {
            "tags": []
          },
          "execution_count": 16
        }
      ]
    },
    {
      "cell_type": "code",
      "metadata": {
        "id": "KkR9PNmIaMlS",
        "colab_type": "code",
        "colab": {
          "base_uri": "https://localhost:8080/",
          "height": 34
        },
        "outputId": "2d324842-e62c-4ad8-e633-d51a81eaf730"
      },
      "source": [
        "test_df1.shape"
      ],
      "execution_count": 17,
      "outputs": [
        {
          "output_type": "execute_result",
          "data": {
            "text/plain": [
              "(7068, 25)"
            ]
          },
          "metadata": {
            "tags": []
          },
          "execution_count": 17
        }
      ]
    },
    {
      "cell_type": "markdown",
      "metadata": {
        "id": "CK2F22dParNI",
        "colab_type": "text"
      },
      "source": [
        "Check The Percentage Of Missing Values In A Column"
      ]
    },
    {
      "cell_type": "code",
      "metadata": {
        "id": "411lEhhIaRja",
        "colab_type": "code",
        "colab": {
          "base_uri": "https://localhost:8080/",
          "height": 34
        },
        "outputId": "fbe5070d-6e0b-4f58-f653-a4ec2aba44d3"
      },
      "source": [
        "percentage_missing_values(test_df1, \"Temperature\")"
      ],
      "execution_count": 19,
      "outputs": [
        {
          "output_type": "stream",
          "text": [
            "Temperature : 20.3 percentage of the data is missing\n"
          ],
          "name": "stdout"
        }
      ]
    },
    {
      "cell_type": "code",
      "metadata": {
        "id": "pfJFGSPAa99d",
        "colab_type": "code",
        "colab": {
          "base_uri": "https://localhost:8080/",
          "height": 34
        },
        "outputId": "01c96d3f-8c1b-42d0-a330-7fc66c02799e"
      },
      "source": [
        "percentage_missing_values(test_df1, \"Precipitation in millimeters\")"
      ],
      "execution_count": 20,
      "outputs": [
        {
          "output_type": "stream",
          "text": [
            "Precipitation in millimeters : 97.2 percentage of the data is missing\n"
          ],
          "name": "stdout"
        }
      ]
    },
    {
      "cell_type": "markdown",
      "metadata": {
        "id": "lGKBJjKNbdf3",
        "colab_type": "text"
      },
      "source": [
        "Drop Columns And Fill In Missing Values"
      ]
    },
    {
      "cell_type": "code",
      "metadata": {
        "id": "-IYVR1-QbHi3",
        "colab_type": "code",
        "colab": {}
      },
      "source": [
        "# Create A Copied DataFrame\n",
        "new_test_df = test_df1.copy()"
      ],
      "execution_count": 0,
      "outputs": []
    },
    {
      "cell_type": "code",
      "metadata": {
        "id": "3fDvU5PMbw1C",
        "colab_type": "code",
        "colab": {}
      },
      "source": [
        "# Drop Precipitation in millimeters column\n",
        "test_df_sp = drop_df_columns(new_test_df, \"Precipitation in millimeters\")"
      ],
      "execution_count": 0,
      "outputs": []
    },
    {
      "cell_type": "code",
      "metadata": {
        "id": "dCoVzzzVb-53",
        "colab_type": "code",
        "colab": {}
      },
      "source": [
        "# Filling In Missing Values\n",
        "test_df = fill_missing_values(test_df_sp)"
      ],
      "execution_count": 0,
      "outputs": []
    },
    {
      "cell_type": "code",
      "metadata": {
        "id": "6prqLxXfcI0b",
        "colab_type": "code",
        "colab": {
          "base_uri": "https://localhost:8080/",
          "height": 442
        },
        "outputId": "45c1a098-426f-4954-b7d2-61a17222d738"
      },
      "source": [
        "# Check For Missing Values Again\n",
        "check_missing_Values(test_df)"
      ],
      "execution_count": 24,
      "outputs": [
        {
          "output_type": "execute_result",
          "data": {
            "text/plain": [
              "Order No                                0\n",
              "User Id                                 0\n",
              "Vehicle Type                            0\n",
              "Platform Type                           0\n",
              "Personal or Business                    0\n",
              "Placement - Day of Month                0\n",
              "Placement - Weekday (Mo = 1)            0\n",
              "Placement - Time                        0\n",
              "Confirmation - Day of Month             0\n",
              "Confirmation - Weekday (Mo = 1)         0\n",
              "Confirmation - Time                     0\n",
              "Arrival at Pickup - Day of Month        0\n",
              "Arrival at Pickup - Weekday (Mo = 1)    0\n",
              "Arrival at Pickup - Time                0\n",
              "Pickup - Day of Month                   0\n",
              "Pickup - Weekday (Mo = 1)               0\n",
              "Pickup - Time                           0\n",
              "Distance (KM)                           0\n",
              "Temperature                             0\n",
              "Pickup Lat                              0\n",
              "Pickup Long                             0\n",
              "Destination Lat                         0\n",
              "Destination Long                        0\n",
              "Rider Id                                0\n",
              "dtype: int64"
            ]
          },
          "metadata": {
            "tags": []
          },
          "execution_count": 24
        }
      ]
    },
    {
      "cell_type": "markdown",
      "metadata": {
        "id": "nE8UjLdhcyGy",
        "colab_type": "text"
      },
      "source": [
        "Display Dataframe Results"
      ]
    },
    {
      "cell_type": "code",
      "metadata": {
        "id": "KX8XejYMcTkH",
        "colab_type": "code",
        "colab": {
          "base_uri": "https://localhost:8080/",
          "height": 1000
        },
        "outputId": "2c8d0e40-765f-429b-ee89-0c268c749c53"
      },
      "source": [
        "test_df.head(20)"
      ],
      "execution_count": 25,
      "outputs": [
        {
          "output_type": "execute_result",
          "data": {
            "text/html": [
              "<div>\n",
              "<style scoped>\n",
              "    .dataframe tbody tr th:only-of-type {\n",
              "        vertical-align: middle;\n",
              "    }\n",
              "\n",
              "    .dataframe tbody tr th {\n",
              "        vertical-align: top;\n",
              "    }\n",
              "\n",
              "    .dataframe thead th {\n",
              "        text-align: right;\n",
              "    }\n",
              "</style>\n",
              "<table border=\"1\" class=\"dataframe\">\n",
              "  <thead>\n",
              "    <tr style=\"text-align: right;\">\n",
              "      <th></th>\n",
              "      <th>Order No</th>\n",
              "      <th>User Id</th>\n",
              "      <th>Vehicle Type</th>\n",
              "      <th>Platform Type</th>\n",
              "      <th>Personal or Business</th>\n",
              "      <th>Placement - Day of Month</th>\n",
              "      <th>Placement - Weekday (Mo = 1)</th>\n",
              "      <th>Placement - Time</th>\n",
              "      <th>Confirmation - Day of Month</th>\n",
              "      <th>Confirmation - Weekday (Mo = 1)</th>\n",
              "      <th>Confirmation - Time</th>\n",
              "      <th>Arrival at Pickup - Day of Month</th>\n",
              "      <th>Arrival at Pickup - Weekday (Mo = 1)</th>\n",
              "      <th>Arrival at Pickup - Time</th>\n",
              "      <th>Pickup - Day of Month</th>\n",
              "      <th>Pickup - Weekday (Mo = 1)</th>\n",
              "      <th>Pickup - Time</th>\n",
              "      <th>Distance (KM)</th>\n",
              "      <th>Temperature</th>\n",
              "      <th>Pickup Lat</th>\n",
              "      <th>Pickup Long</th>\n",
              "      <th>Destination Lat</th>\n",
              "      <th>Destination Long</th>\n",
              "      <th>Rider Id</th>\n",
              "    </tr>\n",
              "  </thead>\n",
              "  <tbody>\n",
              "    <tr>\n",
              "      <th>0</th>\n",
              "      <td>Order_No_19248</td>\n",
              "      <td>User_Id_3355</td>\n",
              "      <td>Bike</td>\n",
              "      <td>3</td>\n",
              "      <td>Business</td>\n",
              "      <td>27</td>\n",
              "      <td>3</td>\n",
              "      <td>4:44:10 PM</td>\n",
              "      <td>27</td>\n",
              "      <td>3</td>\n",
              "      <td>4:44:29 PM</td>\n",
              "      <td>27</td>\n",
              "      <td>3</td>\n",
              "      <td>4:53:04 PM</td>\n",
              "      <td>27</td>\n",
              "      <td>3</td>\n",
              "      <td>5:06:47 PM</td>\n",
              "      <td>8</td>\n",
              "      <td>23.4</td>\n",
              "      <td>-1.333275</td>\n",
              "      <td>36.870815</td>\n",
              "      <td>-1.305249</td>\n",
              "      <td>36.822390</td>\n",
              "      <td>Rider_Id_192</td>\n",
              "    </tr>\n",
              "    <tr>\n",
              "      <th>1</th>\n",
              "      <td>Order_No_12736</td>\n",
              "      <td>User_Id_3647</td>\n",
              "      <td>Bike</td>\n",
              "      <td>3</td>\n",
              "      <td>Business</td>\n",
              "      <td>17</td>\n",
              "      <td>5</td>\n",
              "      <td>12:57:35 PM</td>\n",
              "      <td>17</td>\n",
              "      <td>5</td>\n",
              "      <td>12:59:17 PM</td>\n",
              "      <td>17</td>\n",
              "      <td>5</td>\n",
              "      <td>1:20:27 PM</td>\n",
              "      <td>17</td>\n",
              "      <td>5</td>\n",
              "      <td>1:25:37 PM</td>\n",
              "      <td>5</td>\n",
              "      <td>23.4</td>\n",
              "      <td>-1.272639</td>\n",
              "      <td>36.794723</td>\n",
              "      <td>-1.277007</td>\n",
              "      <td>36.823907</td>\n",
              "      <td>Rider_Id_868</td>\n",
              "    </tr>\n",
              "    <tr>\n",
              "      <th>2</th>\n",
              "      <td>Order_No_768</td>\n",
              "      <td>User_Id_2154</td>\n",
              "      <td>Bike</td>\n",
              "      <td>3</td>\n",
              "      <td>Business</td>\n",
              "      <td>27</td>\n",
              "      <td>4</td>\n",
              "      <td>11:08:14 AM</td>\n",
              "      <td>27</td>\n",
              "      <td>4</td>\n",
              "      <td>11:25:05 AM</td>\n",
              "      <td>27</td>\n",
              "      <td>4</td>\n",
              "      <td>11:33:20 AM</td>\n",
              "      <td>27</td>\n",
              "      <td>4</td>\n",
              "      <td>11:57:54 AM</td>\n",
              "      <td>5</td>\n",
              "      <td>22.8</td>\n",
              "      <td>-1.290894</td>\n",
              "      <td>36.822971</td>\n",
              "      <td>-1.276574</td>\n",
              "      <td>36.851365</td>\n",
              "      <td>Rider_Id_26</td>\n",
              "    </tr>\n",
              "    <tr>\n",
              "      <th>3</th>\n",
              "      <td>Order_No_15332</td>\n",
              "      <td>User_Id_2910</td>\n",
              "      <td>Bike</td>\n",
              "      <td>3</td>\n",
              "      <td>Business</td>\n",
              "      <td>17</td>\n",
              "      <td>1</td>\n",
              "      <td>1:51:35 PM</td>\n",
              "      <td>17</td>\n",
              "      <td>1</td>\n",
              "      <td>1:53:27 PM</td>\n",
              "      <td>17</td>\n",
              "      <td>1</td>\n",
              "      <td>2:02:41 PM</td>\n",
              "      <td>17</td>\n",
              "      <td>1</td>\n",
              "      <td>2:16:52 PM</td>\n",
              "      <td>5</td>\n",
              "      <td>24.5</td>\n",
              "      <td>-1.290503</td>\n",
              "      <td>36.809646</td>\n",
              "      <td>-1.303382</td>\n",
              "      <td>36.790658</td>\n",
              "      <td>Rider_Id_685</td>\n",
              "    </tr>\n",
              "    <tr>\n",
              "      <th>4</th>\n",
              "      <td>Order_No_21373</td>\n",
              "      <td>User_Id_1205</td>\n",
              "      <td>Bike</td>\n",
              "      <td>3</td>\n",
              "      <td>Business</td>\n",
              "      <td>11</td>\n",
              "      <td>2</td>\n",
              "      <td>11:30:28 AM</td>\n",
              "      <td>11</td>\n",
              "      <td>2</td>\n",
              "      <td>11:34:45 AM</td>\n",
              "      <td>11</td>\n",
              "      <td>2</td>\n",
              "      <td>11:47:19 AM</td>\n",
              "      <td>11</td>\n",
              "      <td>2</td>\n",
              "      <td>11:56:04 AM</td>\n",
              "      <td>6</td>\n",
              "      <td>24.4</td>\n",
              "      <td>-1.281081</td>\n",
              "      <td>36.814423</td>\n",
              "      <td>-1.266467</td>\n",
              "      <td>36.792161</td>\n",
              "      <td>Rider_Id_858</td>\n",
              "    </tr>\n",
              "    <tr>\n",
              "      <th>5</th>\n",
              "      <td>Order_No_14573</td>\n",
              "      <td>User_Id_2338</td>\n",
              "      <td>Bike</td>\n",
              "      <td>1</td>\n",
              "      <td>Personal</td>\n",
              "      <td>13</td>\n",
              "      <td>1</td>\n",
              "      <td>6:29:29 PM</td>\n",
              "      <td>13</td>\n",
              "      <td>1</td>\n",
              "      <td>6:29:33 PM</td>\n",
              "      <td>13</td>\n",
              "      <td>1</td>\n",
              "      <td>6:36:46 PM</td>\n",
              "      <td>13</td>\n",
              "      <td>1</td>\n",
              "      <td>6:39:02 PM</td>\n",
              "      <td>16</td>\n",
              "      <td>19.3</td>\n",
              "      <td>-1.256606</td>\n",
              "      <td>36.795974</td>\n",
              "      <td>-1.223983</td>\n",
              "      <td>36.898452</td>\n",
              "      <td>Rider_Id_452</td>\n",
              "    </tr>\n",
              "    <tr>\n",
              "      <th>6</th>\n",
              "      <td>Order_No_6731</td>\n",
              "      <td>User_Id_488</td>\n",
              "      <td>Bike</td>\n",
              "      <td>2</td>\n",
              "      <td>Personal</td>\n",
              "      <td>17</td>\n",
              "      <td>3</td>\n",
              "      <td>9:53:29 AM</td>\n",
              "      <td>17</td>\n",
              "      <td>3</td>\n",
              "      <td>9:53:50 AM</td>\n",
              "      <td>17</td>\n",
              "      <td>3</td>\n",
              "      <td>9:56:31 AM</td>\n",
              "      <td>17</td>\n",
              "      <td>3</td>\n",
              "      <td>10:08:00 AM</td>\n",
              "      <td>18</td>\n",
              "      <td>20.9</td>\n",
              "      <td>-1.225272</td>\n",
              "      <td>36.875672</td>\n",
              "      <td>-1.304713</td>\n",
              "      <td>36.808955</td>\n",
              "      <td>Rider_Id_704</td>\n",
              "    </tr>\n",
              "    <tr>\n",
              "      <th>7</th>\n",
              "      <td>Order_No_18436</td>\n",
              "      <td>User_Id_3764</td>\n",
              "      <td>Bike</td>\n",
              "      <td>3</td>\n",
              "      <td>Business</td>\n",
              "      <td>28</td>\n",
              "      <td>4</td>\n",
              "      <td>8:51:13 AM</td>\n",
              "      <td>28</td>\n",
              "      <td>4</td>\n",
              "      <td>8:52:46 AM</td>\n",
              "      <td>28</td>\n",
              "      <td>4</td>\n",
              "      <td>8:57:45 AM</td>\n",
              "      <td>28</td>\n",
              "      <td>4</td>\n",
              "      <td>8:58:53 AM</td>\n",
              "      <td>8</td>\n",
              "      <td>22.7</td>\n",
              "      <td>-1.273539</td>\n",
              "      <td>36.833775</td>\n",
              "      <td>-1.297299</td>\n",
              "      <td>36.789446</td>\n",
              "      <td>Rider_Id_62</td>\n",
              "    </tr>\n",
              "    <tr>\n",
              "      <th>8</th>\n",
              "      <td>Order_No_2288</td>\n",
              "      <td>User_Id_2866</td>\n",
              "      <td>Bike</td>\n",
              "      <td>3</td>\n",
              "      <td>Business</td>\n",
              "      <td>28</td>\n",
              "      <td>4</td>\n",
              "      <td>8:58:21 AM</td>\n",
              "      <td>28</td>\n",
              "      <td>4</td>\n",
              "      <td>8:58:40 AM</td>\n",
              "      <td>28</td>\n",
              "      <td>4</td>\n",
              "      <td>9:27:17 AM</td>\n",
              "      <td>28</td>\n",
              "      <td>4</td>\n",
              "      <td>9:30:35 AM</td>\n",
              "      <td>8</td>\n",
              "      <td>19.4</td>\n",
              "      <td>-1.255189</td>\n",
              "      <td>36.782203</td>\n",
              "      <td>-1.285770</td>\n",
              "      <td>36.759172</td>\n",
              "      <td>Rider_Id_177</td>\n",
              "    </tr>\n",
              "    <tr>\n",
              "      <th>9</th>\n",
              "      <td>Order_No_9063</td>\n",
              "      <td>User_Id_1329</td>\n",
              "      <td>Bike</td>\n",
              "      <td>3</td>\n",
              "      <td>Business</td>\n",
              "      <td>4</td>\n",
              "      <td>5</td>\n",
              "      <td>4:28:28 PM</td>\n",
              "      <td>4</td>\n",
              "      <td>5</td>\n",
              "      <td>4:29:22 PM</td>\n",
              "      <td>4</td>\n",
              "      <td>5</td>\n",
              "      <td>4:42:33 PM</td>\n",
              "      <td>4</td>\n",
              "      <td>5</td>\n",
              "      <td>4:44:01 PM</td>\n",
              "      <td>15</td>\n",
              "      <td>21.7</td>\n",
              "      <td>-1.273056</td>\n",
              "      <td>36.811298</td>\n",
              "      <td>-1.330552</td>\n",
              "      <td>36.714289</td>\n",
              "      <td>Rider_Id_674</td>\n",
              "    </tr>\n",
              "    <tr>\n",
              "      <th>10</th>\n",
              "      <td>Order_No_4814</td>\n",
              "      <td>User_Id_1500</td>\n",
              "      <td>Bike</td>\n",
              "      <td>3</td>\n",
              "      <td>Business</td>\n",
              "      <td>6</td>\n",
              "      <td>6</td>\n",
              "      <td>9:22:04 AM</td>\n",
              "      <td>6</td>\n",
              "      <td>6</td>\n",
              "      <td>9:23:03 AM</td>\n",
              "      <td>6</td>\n",
              "      <td>6</td>\n",
              "      <td>9:28:17 AM</td>\n",
              "      <td>6</td>\n",
              "      <td>6</td>\n",
              "      <td>10:01:44 AM</td>\n",
              "      <td>8</td>\n",
              "      <td>19.6</td>\n",
              "      <td>-1.300406</td>\n",
              "      <td>36.829741</td>\n",
              "      <td>-1.263818</td>\n",
              "      <td>36.793006</td>\n",
              "      <td>Rider_Id_576</td>\n",
              "    </tr>\n",
              "    <tr>\n",
              "      <th>11</th>\n",
              "      <td>Order_No_16747</td>\n",
              "      <td>User_Id_1927</td>\n",
              "      <td>Bike</td>\n",
              "      <td>3</td>\n",
              "      <td>Business</td>\n",
              "      <td>15</td>\n",
              "      <td>4</td>\n",
              "      <td>3:53:01 PM</td>\n",
              "      <td>15</td>\n",
              "      <td>4</td>\n",
              "      <td>3:54:41 PM</td>\n",
              "      <td>15</td>\n",
              "      <td>4</td>\n",
              "      <td>4:00:13 PM</td>\n",
              "      <td>15</td>\n",
              "      <td>4</td>\n",
              "      <td>4:03:53 PM</td>\n",
              "      <td>20</td>\n",
              "      <td>27.4</td>\n",
              "      <td>-1.347207</td>\n",
              "      <td>36.769264</td>\n",
              "      <td>-1.241332</td>\n",
              "      <td>36.878553</td>\n",
              "      <td>Rider_Id_779</td>\n",
              "    </tr>\n",
              "    <tr>\n",
              "      <th>12</th>\n",
              "      <td>Order_No_6376</td>\n",
              "      <td>User_Id_3217</td>\n",
              "      <td>Bike</td>\n",
              "      <td>1</td>\n",
              "      <td>Business</td>\n",
              "      <td>21</td>\n",
              "      <td>2</td>\n",
              "      <td>2:04:28 PM</td>\n",
              "      <td>21</td>\n",
              "      <td>2</td>\n",
              "      <td>2:04:36 PM</td>\n",
              "      <td>21</td>\n",
              "      <td>2</td>\n",
              "      <td>2:12:18 PM</td>\n",
              "      <td>21</td>\n",
              "      <td>2</td>\n",
              "      <td>2:30:47 PM</td>\n",
              "      <td>10</td>\n",
              "      <td>20.7</td>\n",
              "      <td>-1.252796</td>\n",
              "      <td>36.800313</td>\n",
              "      <td>-1.214339</td>\n",
              "      <td>36.791455</td>\n",
              "      <td>Rider_Id_400</td>\n",
              "    </tr>\n",
              "    <tr>\n",
              "      <th>13</th>\n",
              "      <td>Order_No_1199</td>\n",
              "      <td>User_Id_3674</td>\n",
              "      <td>Bike</td>\n",
              "      <td>3</td>\n",
              "      <td>Business</td>\n",
              "      <td>18</td>\n",
              "      <td>2</td>\n",
              "      <td>10:34:56 AM</td>\n",
              "      <td>18</td>\n",
              "      <td>2</td>\n",
              "      <td>10:49:04 AM</td>\n",
              "      <td>18</td>\n",
              "      <td>2</td>\n",
              "      <td>10:51:30 AM</td>\n",
              "      <td>18</td>\n",
              "      <td>2</td>\n",
              "      <td>10:56:03 AM</td>\n",
              "      <td>7</td>\n",
              "      <td>23.4</td>\n",
              "      <td>-1.255189</td>\n",
              "      <td>36.782203</td>\n",
              "      <td>-1.288542</td>\n",
              "      <td>36.810052</td>\n",
              "      <td>Rider_Id_685</td>\n",
              "    </tr>\n",
              "    <tr>\n",
              "      <th>14</th>\n",
              "      <td>Order_No_17119</td>\n",
              "      <td>User_Id_718</td>\n",
              "      <td>Bike</td>\n",
              "      <td>3</td>\n",
              "      <td>Business</td>\n",
              "      <td>4</td>\n",
              "      <td>4</td>\n",
              "      <td>3:54:08 PM</td>\n",
              "      <td>4</td>\n",
              "      <td>4</td>\n",
              "      <td>3:57:45 PM</td>\n",
              "      <td>4</td>\n",
              "      <td>4</td>\n",
              "      <td>3:58:28 PM</td>\n",
              "      <td>4</td>\n",
              "      <td>4</td>\n",
              "      <td>4:00:47 PM</td>\n",
              "      <td>9</td>\n",
              "      <td>27.2</td>\n",
              "      <td>-1.255189</td>\n",
              "      <td>36.782203</td>\n",
              "      <td>-1.286147</td>\n",
              "      <td>36.790372</td>\n",
              "      <td>Rider_Id_250</td>\n",
              "    </tr>\n",
              "    <tr>\n",
              "      <th>15</th>\n",
              "      <td>Order_No_14832</td>\n",
              "      <td>User_Id_3721</td>\n",
              "      <td>Bike</td>\n",
              "      <td>1</td>\n",
              "      <td>Personal</td>\n",
              "      <td>14</td>\n",
              "      <td>1</td>\n",
              "      <td>2:47:50 PM</td>\n",
              "      <td>14</td>\n",
              "      <td>1</td>\n",
              "      <td>2:57:32 PM</td>\n",
              "      <td>14</td>\n",
              "      <td>1</td>\n",
              "      <td>2:58:00 PM</td>\n",
              "      <td>14</td>\n",
              "      <td>1</td>\n",
              "      <td>3:06:39 PM</td>\n",
              "      <td>6</td>\n",
              "      <td>25.7</td>\n",
              "      <td>-1.304382</td>\n",
              "      <td>36.784059</td>\n",
              "      <td>-1.285264</td>\n",
              "      <td>36.822413</td>\n",
              "      <td>Rider_Id_544</td>\n",
              "    </tr>\n",
              "    <tr>\n",
              "      <th>16</th>\n",
              "      <td>Order_No_12321</td>\n",
              "      <td>User_Id_3557</td>\n",
              "      <td>Bike</td>\n",
              "      <td>3</td>\n",
              "      <td>Business</td>\n",
              "      <td>8</td>\n",
              "      <td>5</td>\n",
              "      <td>8:47:43 AM</td>\n",
              "      <td>8</td>\n",
              "      <td>5</td>\n",
              "      <td>8:48:06 AM</td>\n",
              "      <td>8</td>\n",
              "      <td>5</td>\n",
              "      <td>8:56:33 AM</td>\n",
              "      <td>8</td>\n",
              "      <td>5</td>\n",
              "      <td>9:07:12 AM</td>\n",
              "      <td>3</td>\n",
              "      <td>20.4</td>\n",
              "      <td>-1.255189</td>\n",
              "      <td>36.782203</td>\n",
              "      <td>-1.254673</td>\n",
              "      <td>36.808680</td>\n",
              "      <td>Rider_Id_931</td>\n",
              "    </tr>\n",
              "    <tr>\n",
              "      <th>17</th>\n",
              "      <td>Order_No_24820</td>\n",
              "      <td>User_Id_2939</td>\n",
              "      <td>Bike</td>\n",
              "      <td>2</td>\n",
              "      <td>Personal</td>\n",
              "      <td>29</td>\n",
              "      <td>2</td>\n",
              "      <td>8:35:55 AM</td>\n",
              "      <td>29</td>\n",
              "      <td>2</td>\n",
              "      <td>8:38:41 AM</td>\n",
              "      <td>29</td>\n",
              "      <td>2</td>\n",
              "      <td>9:23:07 AM</td>\n",
              "      <td>29</td>\n",
              "      <td>2</td>\n",
              "      <td>9:25:37 AM</td>\n",
              "      <td>9</td>\n",
              "      <td>16.8</td>\n",
              "      <td>-1.266036</td>\n",
              "      <td>36.789822</td>\n",
              "      <td>-1.307774</td>\n",
              "      <td>36.840754</td>\n",
              "      <td>Rider_Id_726</td>\n",
              "    </tr>\n",
              "    <tr>\n",
              "      <th>18</th>\n",
              "      <td>Order_No_6065</td>\n",
              "      <td>User_Id_635</td>\n",
              "      <td>Bike</td>\n",
              "      <td>3</td>\n",
              "      <td>Business</td>\n",
              "      <td>14</td>\n",
              "      <td>1</td>\n",
              "      <td>10:10:26 AM</td>\n",
              "      <td>14</td>\n",
              "      <td>1</td>\n",
              "      <td>10:11:28 AM</td>\n",
              "      <td>14</td>\n",
              "      <td>1</td>\n",
              "      <td>10:25:10 AM</td>\n",
              "      <td>14</td>\n",
              "      <td>1</td>\n",
              "      <td>10:27:35 AM</td>\n",
              "      <td>7</td>\n",
              "      <td>20.3</td>\n",
              "      <td>-1.260234</td>\n",
              "      <td>36.799055</td>\n",
              "      <td>-1.301738</td>\n",
              "      <td>36.770681</td>\n",
              "      <td>Rider_Id_65</td>\n",
              "    </tr>\n",
              "    <tr>\n",
              "      <th>19</th>\n",
              "      <td>Order_No_13176</td>\n",
              "      <td>User_Id_1724</td>\n",
              "      <td>Bike</td>\n",
              "      <td>3</td>\n",
              "      <td>Business</td>\n",
              "      <td>20</td>\n",
              "      <td>1</td>\n",
              "      <td>10:44:10 AM</td>\n",
              "      <td>20</td>\n",
              "      <td>1</td>\n",
              "      <td>10:44:32 AM</td>\n",
              "      <td>20</td>\n",
              "      <td>1</td>\n",
              "      <td>10:48:56 AM</td>\n",
              "      <td>20</td>\n",
              "      <td>1</td>\n",
              "      <td>10:50:00 AM</td>\n",
              "      <td>2</td>\n",
              "      <td>23.4</td>\n",
              "      <td>-1.257544</td>\n",
              "      <td>36.790227</td>\n",
              "      <td>-1.255189</td>\n",
              "      <td>36.782203</td>\n",
              "      <td>Rider_Id_161</td>\n",
              "    </tr>\n",
              "  </tbody>\n",
              "</table>\n",
              "</div>"
            ],
            "text/plain": [
              "          Order No       User Id  ... Destination Long      Rider Id\n",
              "0   Order_No_19248  User_Id_3355  ...        36.822390  Rider_Id_192\n",
              "1   Order_No_12736  User_Id_3647  ...        36.823907  Rider_Id_868\n",
              "2     Order_No_768  User_Id_2154  ...        36.851365   Rider_Id_26\n",
              "3   Order_No_15332  User_Id_2910  ...        36.790658  Rider_Id_685\n",
              "4   Order_No_21373  User_Id_1205  ...        36.792161  Rider_Id_858\n",
              "5   Order_No_14573  User_Id_2338  ...        36.898452  Rider_Id_452\n",
              "6    Order_No_6731   User_Id_488  ...        36.808955  Rider_Id_704\n",
              "7   Order_No_18436  User_Id_3764  ...        36.789446   Rider_Id_62\n",
              "8    Order_No_2288  User_Id_2866  ...        36.759172  Rider_Id_177\n",
              "9    Order_No_9063  User_Id_1329  ...        36.714289  Rider_Id_674\n",
              "10   Order_No_4814  User_Id_1500  ...        36.793006  Rider_Id_576\n",
              "11  Order_No_16747  User_Id_1927  ...        36.878553  Rider_Id_779\n",
              "12   Order_No_6376  User_Id_3217  ...        36.791455  Rider_Id_400\n",
              "13   Order_No_1199  User_Id_3674  ...        36.810052  Rider_Id_685\n",
              "14  Order_No_17119   User_Id_718  ...        36.790372  Rider_Id_250\n",
              "15  Order_No_14832  User_Id_3721  ...        36.822413  Rider_Id_544\n",
              "16  Order_No_12321  User_Id_3557  ...        36.808680  Rider_Id_931\n",
              "17  Order_No_24820  User_Id_2939  ...        36.840754  Rider_Id_726\n",
              "18   Order_No_6065   User_Id_635  ...        36.770681   Rider_Id_65\n",
              "19  Order_No_13176  User_Id_1724  ...        36.782203  Rider_Id_161\n",
              "\n",
              "[20 rows x 24 columns]"
            ]
          },
          "metadata": {
            "tags": []
          },
          "execution_count": 25
        }
      ]
    },
    {
      "cell_type": "code",
      "metadata": {
        "id": "WWEzAU0tdU6z",
        "colab_type": "code",
        "colab": {
          "base_uri": "https://localhost:8080/",
          "height": 34
        },
        "outputId": "91347d97-8d11-4d86-ec5e-a06f7d0e100c"
      },
      "source": [
        "test_df.shape"
      ],
      "execution_count": 26,
      "outputs": [
        {
          "output_type": "execute_result",
          "data": {
            "text/plain": [
              "(7068, 24)"
            ]
          },
          "metadata": {
            "tags": []
          },
          "execution_count": 26
        }
      ]
    },
    {
      "cell_type": "code",
      "metadata": {
        "id": "sgD7oeN9dXxS",
        "colab_type": "code",
        "colab": {}
      },
      "source": [
        ""
      ],
      "execution_count": 0,
      "outputs": []
    }
  ]
}