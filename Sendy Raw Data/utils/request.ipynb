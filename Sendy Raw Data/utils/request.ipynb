{
 "cells": [
  {
   "cell_type": "code",
   "execution_count": null,
   "metadata": {},
   "outputs": [],
   "source": [
    "\"\"\"\n",
    "    Simple Script to test the API once deployed\n",
    "    Author: Explore Data Science Academy.\n",
    "    Note:\n",
    "    ---------------------------------------------------------------------\n",
    "    Plase follow the instructions provided within the README.md file\n",
    "    located at the root of this repo for guidance on how to use this\n",
    "    script correctly.\n",
    "    ----------------------------------------------------------------------\n",
    "    Description: This file contains code used to formulate a POST request\n",
    "    which can be used to develop/debug the Model API once it has been\n",
    "    deployed.\n",
    "\"\"\"\n",
    "\n",
    "# Import dependencies\n",
    "import requests\n",
    "import pandas as pd\n",
    "import numpy as np\n",
    "\n",
    "# Load data from file to send as an API POST request.\n",
    "# We prepare a DataFrame with the public test set + riders data\n",
    "# from the Zindi challenge.\n",
    "test = pd.read_csv('data/test_data.csv')\n",
    "riders = pd.read_csv('data/riders.csv')\n",
    "test = test.merge(riders, how='left', on='Rider Id')\n",
    "\n",
    "# Convert our DataFrame to a JSON string.\n",
    "# This step is necessary in order to transmit our data via HTTP/S\n",
    "feature_vector_json = test.iloc[1].to_json()\n",
    "\n",
    "# Specify the URL at which the API will be hosted.\n",
    "# NOTE: When testing your instance of the API on a remote machine\n",
    "# replace the URL below with its public IP:\n",
    "\n",
    "# url = 'http://{public-ip-address-of-remote-machine}:5000/api_v0.1'\n",
    "url = 'http://127.0.0.1:5000/api_v0.1'\n",
    "\n",
    "# Perform the POST request.\n",
    "print(f\"Sending POST request to web server API at: {url}\")\n",
    "print(\"\")\n",
    "print(f\"Querying API with the following data: \\n {test.iloc[1].to_list()}\")\n",
    "print(\"\")\n",
    "# Here `api_response` represents the response we get from our API\n",
    "api_response = requests.post(url, json=feature_vector_json)\n",
    "\n",
    "# Display the prediction result\n",
    "print(\"Received POST response:\")\n",
    "print(\"*\"*50)\n",
    "print(f\"API prediction result: {api_response.json()[0]}\")\n",
    "print(f\"The response took: {api_response.elapsed.total_seconds()} seconds\")\n",
    "print(\"*\"*50)"
   ]
  }
 ],
 "metadata": {
  "kernelspec": {
   "display_name": "Python 3",
   "language": "python",
   "name": "python3"
  },
  "language_info": {
   "codemirror_mode": {
    "name": "ipython",
    "version": 3
   },
   "file_extension": ".py",
   "mimetype": "text/x-python",
   "name": "python",
   "nbconvert_exporter": "python",
   "pygments_lexer": "ipython3",
   "version": "3.7.6"
  }
 },
 "nbformat": 4,
 "nbformat_minor": 4
}
