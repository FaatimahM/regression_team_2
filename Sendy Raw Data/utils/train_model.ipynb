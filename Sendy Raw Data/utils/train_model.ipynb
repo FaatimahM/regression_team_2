{
 "cells": [
  {
   "cell_type": "code",
   "execution_count": null,
   "metadata": {},
   "outputs": [],
   "source": [
    "\"\"\"\n",
    "    Simple file to create a Sklearn model for deployment in our API\n",
    "    Author: Explore Data Science Academy\n",
    "    Description: This script is responsible for training a simple linear\n",
    "    regression model which is used within the API for initial demonstration\n",
    "    purposes.\n",
    "\"\"\"\n",
    "\n",
    "# Dependencies\n",
    "import pandas as pd\n",
    "import pickle\n",
    "from sklearn.linear_model import LinearRegression\n",
    "\n",
    "# Fetch training data and preprocess for modeling\n",
    "train = pd.read_csv('data/train_data.csv')\n",
    "riders = pd.read_csv('data/riders.csv')\n",
    "train = train.merge(riders, how='left', on='Rider Id')\n",
    "\n",
    "y_train = train[['Time from Pickup to Arrival']]\n",
    "X_train = train[['Pickup Lat','Pickup Long',\n",
    "                 'Destination Lat','Destination Long']]\n",
    "\n",
    "# Fit model\n",
    "lm_regression = LinearRegression(normalize=True)\n",
    "print (\"Training Model...\")\n",
    "lm_regression.fit(X_train, y_train)\n",
    "\n",
    "# Pickle model for use within our API\n",
    "save_path = '../trained-models/sendy_simple_lm_regression.pkl'\n",
    "print (f\"Training completed. Saving model to: {save_path}\")\n",
    "pickle.dump(lm_regression, open(save_path,'wb'))"
   ]
  }
 ],
 "metadata": {
  "kernelspec": {
   "display_name": "Python 3",
   "language": "python",
   "name": "python3"
  },
  "language_info": {
   "codemirror_mode": {
    "name": "ipython",
    "version": 3
   },
   "file_extension": ".py",
   "mimetype": "text/x-python",
   "name": "python",
   "nbconvert_exporter": "python",
   "pygments_lexer": "ipython3",
   "version": "3.7.6"
  }
 },
 "nbformat": 4,
 "nbformat_minor": 4
}
