{
 "cells": [
  {
   "cell_type": "code",
   "execution_count": 1,
   "metadata": {
    "colab": {},
    "colab_type": "code",
    "id": "f91Zqmwdm7pw"
   },
   "outputs": [],
   "source": [
    "# For Sam"
   ]
  },
  {
   "cell_type": "code",
   "execution_count": 2,
   "metadata": {},
   "outputs": [],
   "source": [
    "import pandas as pd\n",
    "import numpy as np\n",
    "import matplotlib.pyplot as plt\n",
    "import seaborn as sns"
   ]
  },
  {
   "cell_type": "markdown",
   "metadata": {},
   "source": [
    "loading the dataset"
   ]
  },
  {
   "cell_type": "code",
   "execution_count": 3,
   "metadata": {},
   "outputs": [],
   "source": [
    "dataset = pd.read_csv(\"Train.csv\")"
   ]
  },
  {
   "cell_type": "markdown",
   "metadata": {},
   "source": [
    "Checking it out"
   ]
  },
  {
   "cell_type": "code",
   "execution_count": 4,
   "metadata": {},
   "outputs": [
    {
     "output_type": "execute_result",
     "data": {
      "text/plain": "         Order No       User Id Vehicle Type  Platform Type  \\\n0   Order_No_4211   User_Id_633         Bike              3   \n1  Order_No_25375  User_Id_2285         Bike              3   \n\n  Personal or Business  Placement - Day of Month  \\\n0             Business                         9   \n1             Personal                        12   \n\n   Placement - Weekday (Mo = 1) Placement - Time  Confirmation - Day of Month  \\\n0                             5       9:35:46 AM                            9   \n1                             5      11:16:16 AM                           12   \n\n   Confirmation - Weekday (Mo = 1)  ... Arrival at Destination - Time  \\\n0                                5  ...                   10:39:55 AM   \n1                                5  ...                   12:17:22 PM   \n\n   Distance (KM)  Temperature Precipitation in millimeters  Pickup Lat  \\\n0              4         20.4                          NaN   -1.317755   \n1             16         26.4                          NaN   -1.351453   \n\n   Pickup Long Destination Lat  Destination Long      Rider Id  \\\n0    36.830370       -1.300406         36.829741  Rider_Id_432   \n1    36.899315       -1.295004         36.814358  Rider_Id_856   \n\n  Time from Pickup to Arrival  \n0                         745  \n1                        1993  \n\n[2 rows x 29 columns]",
      "text/html": "<div>\n<style scoped>\n    .dataframe tbody tr th:only-of-type {\n        vertical-align: middle;\n    }\n\n    .dataframe tbody tr th {\n        vertical-align: top;\n    }\n\n    .dataframe thead th {\n        text-align: right;\n    }\n</style>\n<table border=\"1\" class=\"dataframe\">\n  <thead>\n    <tr style=\"text-align: right;\">\n      <th></th>\n      <th>Order No</th>\n      <th>User Id</th>\n      <th>Vehicle Type</th>\n      <th>Platform Type</th>\n      <th>Personal or Business</th>\n      <th>Placement - Day of Month</th>\n      <th>Placement - Weekday (Mo = 1)</th>\n      <th>Placement - Time</th>\n      <th>Confirmation - Day of Month</th>\n      <th>Confirmation - Weekday (Mo = 1)</th>\n      <th>...</th>\n      <th>Arrival at Destination - Time</th>\n      <th>Distance (KM)</th>\n      <th>Temperature</th>\n      <th>Precipitation in millimeters</th>\n      <th>Pickup Lat</th>\n      <th>Pickup Long</th>\n      <th>Destination Lat</th>\n      <th>Destination Long</th>\n      <th>Rider Id</th>\n      <th>Time from Pickup to Arrival</th>\n    </tr>\n  </thead>\n  <tbody>\n    <tr>\n      <th>0</th>\n      <td>Order_No_4211</td>\n      <td>User_Id_633</td>\n      <td>Bike</td>\n      <td>3</td>\n      <td>Business</td>\n      <td>9</td>\n      <td>5</td>\n      <td>9:35:46 AM</td>\n      <td>9</td>\n      <td>5</td>\n      <td>...</td>\n      <td>10:39:55 AM</td>\n      <td>4</td>\n      <td>20.4</td>\n      <td>NaN</td>\n      <td>-1.317755</td>\n      <td>36.830370</td>\n      <td>-1.300406</td>\n      <td>36.829741</td>\n      <td>Rider_Id_432</td>\n      <td>745</td>\n    </tr>\n    <tr>\n      <th>1</th>\n      <td>Order_No_25375</td>\n      <td>User_Id_2285</td>\n      <td>Bike</td>\n      <td>3</td>\n      <td>Personal</td>\n      <td>12</td>\n      <td>5</td>\n      <td>11:16:16 AM</td>\n      <td>12</td>\n      <td>5</td>\n      <td>...</td>\n      <td>12:17:22 PM</td>\n      <td>16</td>\n      <td>26.4</td>\n      <td>NaN</td>\n      <td>-1.351453</td>\n      <td>36.899315</td>\n      <td>-1.295004</td>\n      <td>36.814358</td>\n      <td>Rider_Id_856</td>\n      <td>1993</td>\n    </tr>\n  </tbody>\n</table>\n<p>2 rows × 29 columns</p>\n</div>"
     },
     "metadata": {},
     "execution_count": 4
    }
   ],
   "source": [
    "dataset.head(2)"
   ]
  },
  {
   "cell_type": "code",
   "execution_count": 5,
   "metadata": {},
   "outputs": [
    {
     "output_type": "execute_result",
     "data": {
      "text/plain": "       Rider Id  No_Of_Orders   Age  Average_Rating  No_of_Ratings\n0  Rider_Id_396          2946  2298            14.0           1159\n1  Rider_Id_479           360   951            13.5            176",
      "text/html": "<div>\n<style scoped>\n    .dataframe tbody tr th:only-of-type {\n        vertical-align: middle;\n    }\n\n    .dataframe tbody tr th {\n        vertical-align: top;\n    }\n\n    .dataframe thead th {\n        text-align: right;\n    }\n</style>\n<table border=\"1\" class=\"dataframe\">\n  <thead>\n    <tr style=\"text-align: right;\">\n      <th></th>\n      <th>Rider Id</th>\n      <th>No_Of_Orders</th>\n      <th>Age</th>\n      <th>Average_Rating</th>\n      <th>No_of_Ratings</th>\n    </tr>\n  </thead>\n  <tbody>\n    <tr>\n      <th>0</th>\n      <td>Rider_Id_396</td>\n      <td>2946</td>\n      <td>2298</td>\n      <td>14.0</td>\n      <td>1159</td>\n    </tr>\n    <tr>\n      <th>1</th>\n      <td>Rider_Id_479</td>\n      <td>360</td>\n      <td>951</td>\n      <td>13.5</td>\n      <td>176</td>\n    </tr>\n  </tbody>\n</table>\n</div>"
     },
     "metadata": {},
     "execution_count": 5
    }
   ],
   "source": [
    "riders = pd.read_csv('Riders.csv')\n",
    "riders.head(2)"
   ]
  },
  {
   "cell_type": "code",
   "execution_count": 6,
   "metadata": {},
   "outputs": [],
   "source": [
    "# from datetime import datetime\n",
    "# dataset['Placement - Time'].apply(lambda time: \\\n",
    "#     (datetime.strptime(\\\n",
    "#         str(datetime.strptime(time, '%I:%M:%S %p') - datetime(1900,1,1)), '%H:%M:%S')\\\n",
    "#         ).minute)\n",
    "        "
   ]
  },
  {
   "cell_type": "code",
   "execution_count": 7,
   "metadata": {},
   "outputs": [
    {
     "output_type": "execute_result",
     "data": {
      "text/plain": "Index(['Order No', 'User Id', 'Vehicle Type', 'Platform Type',\n       'Personal or Business', 'Placement - Day of Month',\n       'Placement - Weekday (Mo = 1)', 'Placement - Time',\n       'Confirmation - Day of Month', 'Confirmation - Weekday (Mo = 1)',\n       'Confirmation - Time', 'Arrival at Pickup - Day of Month',\n       'Arrival at Pickup - Weekday (Mo = 1)', 'Arrival at Pickup - Time',\n       'Pickup - Day of Month', 'Pickup - Weekday (Mo = 1)', 'Pickup - Time',\n       'Arrival at Destination - Day of Month',\n       'Arrival at Destination - Weekday (Mo = 1)',\n       'Arrival at Destination - Time', 'Distance (KM)', 'Temperature',\n       'Precipitation in millimeters', 'Pickup Lat', 'Pickup Long',\n       'Destination Lat', 'Destination Long', 'Rider Id',\n       'Time from Pickup to Arrival'],\n      dtype='object')"
     },
     "metadata": {},
     "execution_count": 7
    }
   ],
   "source": [
    "dataset.columns"
   ]
  },
  {
   "cell_type": "markdown",
   "metadata": {},
   "source": [
    "dropping User Id"
   ]
  },
  {
   "cell_type": "code",
   "execution_count": 8,
   "metadata": {},
   "outputs": [],
   "source": [
    "X = dataset.drop(columns=['Time from Pickup to Arrival', 'User Id', 'Arrival at Destination - Time']) \n",
    "y = dataset['Time from Pickup to Arrival']"
   ]
  },
  {
   "cell_type": "code",
   "execution_count": 9,
   "metadata": {},
   "outputs": [
    {
     "output_type": "execute_result",
     "data": {
      "text/plain": "         Order No Vehicle Type  Platform Type Personal or Business  \\\n0   Order_No_4211         Bike              3             Business   \n1  Order_No_25375         Bike              3             Personal   \n\n   Placement - Day of Month  Placement - Weekday (Mo = 1) Placement - Time  \\\n0                         9                             5       9:35:46 AM   \n1                        12                             5      11:16:16 AM   \n\n   Confirmation - Day of Month  Confirmation - Weekday (Mo = 1)  \\\n0                            9                                5   \n1                           12                                5   \n\n  Confirmation - Time  ...  Arrival at Destination - Day of Month  \\\n0          9:40:10 AM  ...                                      9   \n1         11:23:21 AM  ...                                     12   \n\n   Arrival at Destination - Weekday (Mo = 1) Distance (KM)  Temperature  \\\n0                                          5             4         20.4   \n1                                          5            16         26.4   \n\n   Precipitation in millimeters Pickup Lat  Pickup Long  Destination Lat  \\\n0                           NaN  -1.317755    36.830370        -1.300406   \n1                           NaN  -1.351453    36.899315        -1.295004   \n\n   Destination Long      Rider Id  \n0         36.829741  Rider_Id_432  \n1         36.814358  Rider_Id_856  \n\n[2 rows x 26 columns]",
      "text/html": "<div>\n<style scoped>\n    .dataframe tbody tr th:only-of-type {\n        vertical-align: middle;\n    }\n\n    .dataframe tbody tr th {\n        vertical-align: top;\n    }\n\n    .dataframe thead th {\n        text-align: right;\n    }\n</style>\n<table border=\"1\" class=\"dataframe\">\n  <thead>\n    <tr style=\"text-align: right;\">\n      <th></th>\n      <th>Order No</th>\n      <th>Vehicle Type</th>\n      <th>Platform Type</th>\n      <th>Personal or Business</th>\n      <th>Placement - Day of Month</th>\n      <th>Placement - Weekday (Mo = 1)</th>\n      <th>Placement - Time</th>\n      <th>Confirmation - Day of Month</th>\n      <th>Confirmation - Weekday (Mo = 1)</th>\n      <th>Confirmation - Time</th>\n      <th>...</th>\n      <th>Arrival at Destination - Day of Month</th>\n      <th>Arrival at Destination - Weekday (Mo = 1)</th>\n      <th>Distance (KM)</th>\n      <th>Temperature</th>\n      <th>Precipitation in millimeters</th>\n      <th>Pickup Lat</th>\n      <th>Pickup Long</th>\n      <th>Destination Lat</th>\n      <th>Destination Long</th>\n      <th>Rider Id</th>\n    </tr>\n  </thead>\n  <tbody>\n    <tr>\n      <th>0</th>\n      <td>Order_No_4211</td>\n      <td>Bike</td>\n      <td>3</td>\n      <td>Business</td>\n      <td>9</td>\n      <td>5</td>\n      <td>9:35:46 AM</td>\n      <td>9</td>\n      <td>5</td>\n      <td>9:40:10 AM</td>\n      <td>...</td>\n      <td>9</td>\n      <td>5</td>\n      <td>4</td>\n      <td>20.4</td>\n      <td>NaN</td>\n      <td>-1.317755</td>\n      <td>36.830370</td>\n      <td>-1.300406</td>\n      <td>36.829741</td>\n      <td>Rider_Id_432</td>\n    </tr>\n    <tr>\n      <th>1</th>\n      <td>Order_No_25375</td>\n      <td>Bike</td>\n      <td>3</td>\n      <td>Personal</td>\n      <td>12</td>\n      <td>5</td>\n      <td>11:16:16 AM</td>\n      <td>12</td>\n      <td>5</td>\n      <td>11:23:21 AM</td>\n      <td>...</td>\n      <td>12</td>\n      <td>5</td>\n      <td>16</td>\n      <td>26.4</td>\n      <td>NaN</td>\n      <td>-1.351453</td>\n      <td>36.899315</td>\n      <td>-1.295004</td>\n      <td>36.814358</td>\n      <td>Rider_Id_856</td>\n    </tr>\n  </tbody>\n</table>\n<p>2 rows × 26 columns</p>\n</div>"
     },
     "metadata": {},
     "execution_count": 9
    }
   ],
   "source": [
    "X.head(2)"
   ]
  },
  {
   "cell_type": "markdown",
   "metadata": {},
   "source": [
    "Set Order No to be index"
   ]
  },
  {
   "cell_type": "code",
   "execution_count": 10,
   "metadata": {},
   "outputs": [],
   "source": [
    "#X.set_index('Order No', inplace=True)"
   ]
  },
  {
   "cell_type": "code",
   "execution_count": 11,
   "metadata": {},
   "outputs": [
    {
     "output_type": "execute_result",
     "data": {
      "text/plain": "         Order No Vehicle Type  Platform Type Personal or Business  \\\n0   Order_No_4211         Bike              3             Business   \n1  Order_No_25375         Bike              3             Personal   \n\n   Placement - Day of Month  Placement - Weekday (Mo = 1) Placement - Time  \\\n0                         9                             5       9:35:46 AM   \n1                        12                             5      11:16:16 AM   \n\n   Confirmation - Day of Month  Confirmation - Weekday (Mo = 1)  \\\n0                            9                                5   \n1                           12                                5   \n\n  Confirmation - Time  ...  Arrival at Destination - Day of Month  \\\n0          9:40:10 AM  ...                                      9   \n1         11:23:21 AM  ...                                     12   \n\n   Arrival at Destination - Weekday (Mo = 1) Distance (KM)  Temperature  \\\n0                                          5             4         20.4   \n1                                          5            16         26.4   \n\n   Precipitation in millimeters Pickup Lat  Pickup Long  Destination Lat  \\\n0                           NaN  -1.317755    36.830370        -1.300406   \n1                           NaN  -1.351453    36.899315        -1.295004   \n\n   Destination Long      Rider Id  \n0         36.829741  Rider_Id_432  \n1         36.814358  Rider_Id_856  \n\n[2 rows x 26 columns]",
      "text/html": "<div>\n<style scoped>\n    .dataframe tbody tr th:only-of-type {\n        vertical-align: middle;\n    }\n\n    .dataframe tbody tr th {\n        vertical-align: top;\n    }\n\n    .dataframe thead th {\n        text-align: right;\n    }\n</style>\n<table border=\"1\" class=\"dataframe\">\n  <thead>\n    <tr style=\"text-align: right;\">\n      <th></th>\n      <th>Order No</th>\n      <th>Vehicle Type</th>\n      <th>Platform Type</th>\n      <th>Personal or Business</th>\n      <th>Placement - Day of Month</th>\n      <th>Placement - Weekday (Mo = 1)</th>\n      <th>Placement - Time</th>\n      <th>Confirmation - Day of Month</th>\n      <th>Confirmation - Weekday (Mo = 1)</th>\n      <th>Confirmation - Time</th>\n      <th>...</th>\n      <th>Arrival at Destination - Day of Month</th>\n      <th>Arrival at Destination - Weekday (Mo = 1)</th>\n      <th>Distance (KM)</th>\n      <th>Temperature</th>\n      <th>Precipitation in millimeters</th>\n      <th>Pickup Lat</th>\n      <th>Pickup Long</th>\n      <th>Destination Lat</th>\n      <th>Destination Long</th>\n      <th>Rider Id</th>\n    </tr>\n  </thead>\n  <tbody>\n    <tr>\n      <th>0</th>\n      <td>Order_No_4211</td>\n      <td>Bike</td>\n      <td>3</td>\n      <td>Business</td>\n      <td>9</td>\n      <td>5</td>\n      <td>9:35:46 AM</td>\n      <td>9</td>\n      <td>5</td>\n      <td>9:40:10 AM</td>\n      <td>...</td>\n      <td>9</td>\n      <td>5</td>\n      <td>4</td>\n      <td>20.4</td>\n      <td>NaN</td>\n      <td>-1.317755</td>\n      <td>36.830370</td>\n      <td>-1.300406</td>\n      <td>36.829741</td>\n      <td>Rider_Id_432</td>\n    </tr>\n    <tr>\n      <th>1</th>\n      <td>Order_No_25375</td>\n      <td>Bike</td>\n      <td>3</td>\n      <td>Personal</td>\n      <td>12</td>\n      <td>5</td>\n      <td>11:16:16 AM</td>\n      <td>12</td>\n      <td>5</td>\n      <td>11:23:21 AM</td>\n      <td>...</td>\n      <td>12</td>\n      <td>5</td>\n      <td>16</td>\n      <td>26.4</td>\n      <td>NaN</td>\n      <td>-1.351453</td>\n      <td>36.899315</td>\n      <td>-1.295004</td>\n      <td>36.814358</td>\n      <td>Rider_Id_856</td>\n    </tr>\n  </tbody>\n</table>\n<p>2 rows × 26 columns</p>\n</div>"
     },
     "metadata": {},
     "execution_count": 11
    }
   ],
   "source": [
    "X.head(2)"
   ]
  },
  {
   "cell_type": "markdown",
   "metadata": {},
   "source": [
    "Join riders to X"
   ]
  },
  {
   "cell_type": "code",
   "execution_count": 12,
   "metadata": {},
   "outputs": [
    {
     "output_type": "execute_result",
     "data": {
      "text/plain": "         Order No Vehicle Type  Platform Type Personal or Business  \\\n0   Order_No_4211         Bike              3             Business   \n1  Order_No_25375         Bike              3             Personal   \n\n   Placement - Day of Month  Placement - Weekday (Mo = 1) Placement - Time  \\\n0                         9                             5       9:35:46 AM   \n1                        12                             5      11:16:16 AM   \n\n   Confirmation - Day of Month  Confirmation - Weekday (Mo = 1)  \\\n0                            9                                5   \n1                           12                                5   \n\n  Confirmation - Time  ...  Temperature  Precipitation in millimeters  \\\n0          9:40:10 AM  ...         20.4                           NaN   \n1         11:23:21 AM  ...         26.4                           NaN   \n\n  Pickup Lat  Pickup Long  Destination Lat Destination Long  No_Of_Orders  \\\n0  -1.317755    36.830370        -1.300406        36.829741          1637   \n1  -1.351453    36.899315        -1.295004        36.814358           396   \n\n    Age  Average_Rating  No_of_Ratings  \n0  1309            13.8            549  \n1   339            13.6             69  \n\n[2 rows x 29 columns]",
      "text/html": "<div>\n<style scoped>\n    .dataframe tbody tr th:only-of-type {\n        vertical-align: middle;\n    }\n\n    .dataframe tbody tr th {\n        vertical-align: top;\n    }\n\n    .dataframe thead th {\n        text-align: right;\n    }\n</style>\n<table border=\"1\" class=\"dataframe\">\n  <thead>\n    <tr style=\"text-align: right;\">\n      <th></th>\n      <th>Order No</th>\n      <th>Vehicle Type</th>\n      <th>Platform Type</th>\n      <th>Personal or Business</th>\n      <th>Placement - Day of Month</th>\n      <th>Placement - Weekday (Mo = 1)</th>\n      <th>Placement - Time</th>\n      <th>Confirmation - Day of Month</th>\n      <th>Confirmation - Weekday (Mo = 1)</th>\n      <th>Confirmation - Time</th>\n      <th>...</th>\n      <th>Temperature</th>\n      <th>Precipitation in millimeters</th>\n      <th>Pickup Lat</th>\n      <th>Pickup Long</th>\n      <th>Destination Lat</th>\n      <th>Destination Long</th>\n      <th>No_Of_Orders</th>\n      <th>Age</th>\n      <th>Average_Rating</th>\n      <th>No_of_Ratings</th>\n    </tr>\n  </thead>\n  <tbody>\n    <tr>\n      <th>0</th>\n      <td>Order_No_4211</td>\n      <td>Bike</td>\n      <td>3</td>\n      <td>Business</td>\n      <td>9</td>\n      <td>5</td>\n      <td>9:35:46 AM</td>\n      <td>9</td>\n      <td>5</td>\n      <td>9:40:10 AM</td>\n      <td>...</td>\n      <td>20.4</td>\n      <td>NaN</td>\n      <td>-1.317755</td>\n      <td>36.830370</td>\n      <td>-1.300406</td>\n      <td>36.829741</td>\n      <td>1637</td>\n      <td>1309</td>\n      <td>13.8</td>\n      <td>549</td>\n    </tr>\n    <tr>\n      <th>1</th>\n      <td>Order_No_25375</td>\n      <td>Bike</td>\n      <td>3</td>\n      <td>Personal</td>\n      <td>12</td>\n      <td>5</td>\n      <td>11:16:16 AM</td>\n      <td>12</td>\n      <td>5</td>\n      <td>11:23:21 AM</td>\n      <td>...</td>\n      <td>26.4</td>\n      <td>NaN</td>\n      <td>-1.351453</td>\n      <td>36.899315</td>\n      <td>-1.295004</td>\n      <td>36.814358</td>\n      <td>396</td>\n      <td>339</td>\n      <td>13.6</td>\n      <td>69</td>\n    </tr>\n  </tbody>\n</table>\n<p>2 rows × 29 columns</p>\n</div>"
     },
     "metadata": {},
     "execution_count": 12
    }
   ],
   "source": [
    "X = X.merge(riders, how='left', on=['Rider Id'])\n",
    "X.drop(columns=['Rider Id'], inplace=True)\n",
    "X.head(2)"
   ]
  },
  {
   "cell_type": "code",
   "execution_count": 13,
   "metadata": {},
   "outputs": [],
   "source": [
    "def one_encoder(input_df, columns):\n",
    "    \n",
    "    return pd.get_dummies(input_df, drop_first=True, columns=columns, dtype=float)"
   ]
  },
  {
   "cell_type": "code",
   "execution_count": 14,
   "metadata": {},
   "outputs": [],
   "source": [
    "X = one_encoder(X, ['Platform Type', 'Personal or Business'])"
   ]
  },
  {
   "cell_type": "markdown",
   "metadata": {},
   "source": [
    "Now things are about to get ugly"
   ]
  },
  {
   "cell_type": "code",
   "execution_count": 15,
   "metadata": {},
   "outputs": [
    {
     "output_type": "execute_result",
     "data": {
      "text/plain": "Index(['Order No', 'Vehicle Type', 'Placement - Day of Month',\n       'Placement - Weekday (Mo = 1)', 'Placement - Time',\n       'Confirmation - Day of Month', 'Confirmation - Weekday (Mo = 1)',\n       'Confirmation - Time', 'Arrival at Pickup - Day of Month',\n       'Arrival at Pickup - Weekday (Mo = 1)', 'Arrival at Pickup - Time',\n       'Pickup - Day of Month', 'Pickup - Weekday (Mo = 1)', 'Pickup - Time',\n       'Arrival at Destination - Day of Month',\n       'Arrival at Destination - Weekday (Mo = 1)', 'Distance (KM)',\n       'Temperature', 'Precipitation in millimeters', 'Pickup Lat',\n       'Pickup Long', 'Destination Lat', 'Destination Long', 'No_Of_Orders',\n       'Age', 'Average_Rating', 'No_of_Ratings', 'Platform Type_2',\n       'Platform Type_3', 'Platform Type_4', 'Personal or Business_Personal'],\n      dtype='object')"
     },
     "metadata": {},
     "execution_count": 15
    }
   ],
   "source": [
    "X.columns"
   ]
  },
  {
   "cell_type": "code",
   "execution_count": 16,
   "metadata": {},
   "outputs": [],
   "source": [
    "### START FUNCTION\n",
    "def cleaner(input_df, threshold, similarity_threshold, day_of_month_cols, day_of_week_cols):\n",
    "    input_dfc = input_df.copy()\n",
    "    \n",
    "\n",
    "    #######################################################################################################################\n",
    "    # The Code below drops columns that have null values exceeding threshold and Columns that have ONLY one value\n",
    "    for col in input_df.columns:\n",
    "        if (sum(input_df[col].isnull())*100/len(input_df[col]) > threshold) or (len(input_df[col].unique()) == 1):\n",
    "            if (sum(input_df[col].isnull())*100/len(input_df[col]) > threshold):\n",
    "                print(f'Dropping \"{col}\" column for null values exceeding {threshold}%')\n",
    "            else:\n",
    "                print(f'Dropping \"{col}\" column for only having 1 value: {dataset[col].unique()[0]}')\n",
    "            input_dfc.drop(columns=[col], inplace=True) \n",
    "            \n",
    "    ########################################################################################################################\n",
    "\n",
    "    ########################################################################################################################\n",
    "    # This code drops columns that are similarity_threshold% similar\n",
    "    input_dfc2 = input_dfc.copy()\n",
    "    for col in input_dfc.columns:\n",
    "        for second_col in [x for x in input_dfc2.columns if x != col]:\n",
    "            if col in input_dfc2.columns and sum(input_dfc2[col] == input_dfc2[second_col])*100/len(input_dfc2[col]) > similarity_threshold:\n",
    "                print(f'Dropping \"{col}\" column because it is {similarity_threshold}% similar to {second_col} to avoid colinearity')\n",
    "                input_dfc2.drop(columns=[col], inplace=True) \n",
    "                \n",
    "\n",
    "    ########################################################################################################################\n",
    "\n",
    "    ########################################################################################################################\n",
    "    # This code converts time given by am and pm into seconds\n",
    "    # def time_to_seconds(input_df):\n",
    "    #     input_dfc = input_df.copy()\n",
    "\n",
    "    #     from datetime import datetime\n",
    "\n",
    "    #     for time_col in [col for col in input_df.columns if 'Time' in [col[-4:]]]:\n",
    "\n",
    "    #         input_dfc[time_col] = input_df[time_col].apply(lambda time: (datetime.strptime(time, '%I:%M:%S %p') - datetime(1900,1,1)).total_seconds())\n",
    "\n",
    "    #     return input_dfc\n",
    "\n",
    "    # input_dfc2 = time_to_seconds(input_dfc2)\n",
    "    ########################################################################################################################\n",
    "\n",
    "    ########################################################################################################################\n",
    "    # I have decided against the time to seconds function, but instead to consider time as a cyclic feature \n",
    "    # http://blog.davidkaleko.com/feature-engineering-cyclical-features.html \n",
    "\n",
    "    def cyclic_time(input_df):\n",
    "        input_dfc = input_df.copy()\n",
    "\n",
    "        from datetime import datetime\n",
    "\n",
    "        for time_col in [col for col in input_df.columns if 'Time' in [col[-4:]]]:\n",
    "\n",
    "            input_dfc[time_col + '_sin(hrs)'] = input_df[time_col].apply(lambda time: np.sin(\\\n",
    "            (datetime.strptime(\\\n",
    "                str(datetime.strptime(time, '%I:%M:%S %p') - datetime(1900,1,1)), '%H:%M:%S')\\\n",
    "                ).hour * (2.*np.pi/24))\\\n",
    "                ) \n",
    "        \n",
    "            input_dfc[time_col + '_cos(hrs)'] = input_df[time_col].apply(lambda time: np.cos(\\\n",
    "            (datetime.strptime(\\\n",
    "                str(datetime.strptime(time, '%I:%M:%S %p') - datetime(1900,1,1)), '%H:%M:%S')\\\n",
    "                ).hour * (2.*np.pi/24))\\\n",
    "                ) \n",
    "\n",
    "            input_dfc[time_col + '_sin(mins)'] = input_df[time_col].apply(lambda time: np.sin(\\\n",
    "            (datetime.strptime(\\\n",
    "                str(datetime.strptime(time, '%I:%M:%S %p') - datetime(1900,1,1)), '%H:%M:%S')\\\n",
    "                ).minute * (2.*np.pi/60))\\\n",
    "                )\n",
    "\n",
    "            input_dfc[time_col + '_cos(mins)'] = input_df[time_col].apply(lambda time: np.cos(\\\n",
    "            (datetime.strptime(\\\n",
    "                str(datetime.strptime(time, '%I:%M:%S %p') - datetime(1900,1,1)), '%H:%M:%S')\\\n",
    "                ).minute * (2.*np.pi/60))\\\n",
    "                )  \n",
    "\n",
    "            input_dfc[time_col + '_sin(secs)'] = input_df[time_col].apply(lambda time: np.sin(\\\n",
    "            (datetime.strptime(\\\n",
    "                str(datetime.strptime(time, '%I:%M:%S %p') - datetime(1900,1,1)), '%H:%M:%S')\\\n",
    "                ).second * (2.*np.pi/60))\\\n",
    "                )\n",
    "\n",
    "            input_dfc[time_col + '_cos(secs)'] = input_df[time_col].apply(lambda time: np.cos(\\\n",
    "            (datetime.strptime(\\\n",
    "                str(datetime.strptime(time, '%I:%M:%S %p') - datetime(1900,1,1)), '%H:%M:%S')\\\n",
    "                ).second * (2.*np.pi/60))\\\n",
    "                )\n",
    "\n",
    "            input_dfc.drop(columns=[time_col], inplace=True)\n",
    "\n",
    "        return input_dfc\n",
    "\n",
    "    input_dfc2 = cyclic_time(input_dfc2)\n",
    "\n",
    "    ########################################################################################################################\n",
    "    #\n",
    "\n",
    "    def cyclic_days(input_df, month_days_cols, weekdays_cols):\n",
    "        input_dfc = input_df.copy()\n",
    "\n",
    "\n",
    "        for mday_col in month_days_cols:\n",
    "            if mday_col in input_dfc.columns:\n",
    "\n",
    "                input_dfc[mday_col + '_sin(day)'] = input_df[mday_col].apply(lambda day: np.sin(\\\n",
    "                day * (2.*np.pi/31))\\\n",
    "                    )\n",
    "\n",
    "                input_dfc[mday_col + '_cos(day)'] = input_df[mday_col].apply(lambda day: np.cos(\\\n",
    "                day * (2.*np.pi/31))\\\n",
    "                    )\n",
    "\n",
    "                input_dfc.drop(mday_col, inplace=True, axis=1)\n",
    "            \n",
    "            \n",
    "        for wday_col in weekdays_cols:\n",
    "            if wday_col in input_dfc.columns:\n",
    "\n",
    "                input_dfc[wday_col + '_sin(day)'] = input_df[wday_col].apply(lambda day: np.sin(\\\n",
    "                day * (2.*np.pi/7))\\\n",
    "                    )\n",
    "                \n",
    "                input_dfc[wday_col + '_cos(day)'] = input_df[wday_col].apply(lambda day: np.cos(\\\n",
    "                day * (2.*np.pi/7))\\\n",
    "                    )\n",
    "\n",
    "                input_dfc.drop(wday_col, inplace=True, axis=1)\n",
    "            else:\n",
    "                continue\n",
    "\n",
    "        return input_dfc\n",
    "    ########################################################################################################################\n",
    "\n",
    "    input_dfc2 = cyclic_days(input_dfc2, day_of_month_cols, day_of_week_cols)    \n",
    "\n",
    "    print(f\"Total of {len([x for x in input_df.columns if x not in input_dfc2])} columns dropped \\n\")  \n",
    "    print([x for x in input_df.columns if x not in input_dfc2])\n",
    "\n",
    "    return input_dfc2\n",
    "\n",
    "### END FUNCTION"
   ]
  },
  {
   "cell_type": "markdown",
   "metadata": {},
   "source": [
    " Actually for the first model, I will drop the 'Arrival at Destination - Time' column, I believe it is directly linked to the predicted y\n",
    " As y is the difference between the 'Arrival at Destination - Time' and 'Pick up time'"
   ]
  },
  {
   "cell_type": "markdown",
   "metadata": {},
   "source": [
    "Now we apply our ultimate cleaner"
   ]
  },
  {
   "cell_type": "code",
   "execution_count": 17,
   "metadata": {},
   "outputs": [
    {
     "output_type": "stream",
     "name": "stdout",
     "text": "Dropping \"Vehicle Type\" column for only having 1 value: Bike\nDropping \"Precipitation in millimeters\" column for null values exceeding 40%\nDropping \"Placement - Day of Month\" column because it is 90% similar to Confirmation - Day of Month to avoid colinearity\nDropping \"Placement - Weekday (Mo = 1)\" column because it is 90% similar to Confirmation - Weekday (Mo = 1) to avoid colinearity\nDropping \"Confirmation - Day of Month\" column because it is 90% similar to Arrival at Pickup - Day of Month to avoid colinearity\nDropping \"Confirmation - Weekday (Mo = 1)\" column because it is 90% similar to Arrival at Pickup - Weekday (Mo = 1) to avoid colinearity\nDropping \"Arrival at Pickup - Day of Month\" column because it is 90% similar to Pickup - Day of Month to avoid colinearity\nDropping \"Arrival at Pickup - Weekday (Mo = 1)\" column because it is 90% similar to Pickup - Weekday (Mo = 1) to avoid colinearity\nDropping \"Pickup - Day of Month\" column because it is 90% similar to Arrival at Destination - Day of Month to avoid colinearity\nDropping \"Pickup - Weekday (Mo = 1)\" column because it is 90% similar to Arrival at Destination - Weekday (Mo = 1) to avoid colinearity\nDropping \"Platform Type_2\" column because it is 90% similar to Platform Type_4 to avoid colinearity\nTotal of 17 columns dropped \n\n['Vehicle Type', 'Placement - Day of Month', 'Placement - Weekday (Mo = 1)', 'Placement - Time', 'Confirmation - Day of Month', 'Confirmation - Weekday (Mo = 1)', 'Confirmation - Time', 'Arrival at Pickup - Day of Month', 'Arrival at Pickup - Weekday (Mo = 1)', 'Arrival at Pickup - Time', 'Pickup - Day of Month', 'Pickup - Weekday (Mo = 1)', 'Pickup - Time', 'Arrival at Destination - Day of Month', 'Arrival at Destination - Weekday (Mo = 1)', 'Precipitation in millimeters', 'Platform Type_2']\n"
    }
   ],
   "source": [
    "day_of_month_cols = [x for x in X.columns if x[-5:] == 'Month']\n",
    "day_of_week_cols = [x for x in X.columns if x[-(len('(Mo = 1)')):] == '(Mo = 1)']\n",
    "X = cleaner(X, 40, 90, day_of_month_cols, day_of_week_cols)\n"
   ]
  },
  {
   "cell_type": "code",
   "execution_count": 18,
   "metadata": {},
   "outputs": [
    {
     "output_type": "execute_result",
     "data": {
      "text/plain": "         Order No  Distance (KM)  Temperature  Pickup Lat  Pickup Long  \\\n0   Order_No_4211              4         20.4   -1.317755    36.830370   \n1  Order_No_25375             16         26.4   -1.351453    36.899315   \n\n   Destination Lat  Destination Long  No_Of_Orders   Age  Average_Rating  ...  \\\n0        -1.300406         36.829741          1637  1309            13.8  ...   \n1        -1.295004         36.814358           396   339            13.6  ...   \n\n   Pickup - Time_sin(hrs)  Pickup - Time_cos(hrs)  Pickup - Time_sin(mins)  \\\n0                0.500000               -0.866025                 0.309017   \n1                0.258819               -0.965926                -0.994522   \n\n   Pickup - Time_cos(mins)  Pickup - Time_sin(secs)  Pickup - Time_cos(secs)  \\\n0                -0.951057             1.224647e-16                -1.000000   \n1                -0.104528             8.090170e-01                 0.587785   \n\n   Arrival at Destination - Day of Month_sin(day)  \\\n0                                        0.968077   \n1                                        0.651372   \n\n   Arrival at Destination - Day of Month_cos(day)  \\\n0                                       -0.250653   \n1                                       -0.758758   \n\n   Arrival at Destination - Weekday (Mo = 1)_sin(day)  \\\n0                                          -0.974928    \n1                                          -0.974928    \n\n   Arrival at Destination - Weekday (Mo = 1)_cos(day)  \n0                                          -0.222521   \n1                                          -0.222521   \n\n[2 rows x 42 columns]",
      "text/html": "<div>\n<style scoped>\n    .dataframe tbody tr th:only-of-type {\n        vertical-align: middle;\n    }\n\n    .dataframe tbody tr th {\n        vertical-align: top;\n    }\n\n    .dataframe thead th {\n        text-align: right;\n    }\n</style>\n<table border=\"1\" class=\"dataframe\">\n  <thead>\n    <tr style=\"text-align: right;\">\n      <th></th>\n      <th>Order No</th>\n      <th>Distance (KM)</th>\n      <th>Temperature</th>\n      <th>Pickup Lat</th>\n      <th>Pickup Long</th>\n      <th>Destination Lat</th>\n      <th>Destination Long</th>\n      <th>No_Of_Orders</th>\n      <th>Age</th>\n      <th>Average_Rating</th>\n      <th>...</th>\n      <th>Pickup - Time_sin(hrs)</th>\n      <th>Pickup - Time_cos(hrs)</th>\n      <th>Pickup - Time_sin(mins)</th>\n      <th>Pickup - Time_cos(mins)</th>\n      <th>Pickup - Time_sin(secs)</th>\n      <th>Pickup - Time_cos(secs)</th>\n      <th>Arrival at Destination - Day of Month_sin(day)</th>\n      <th>Arrival at Destination - Day of Month_cos(day)</th>\n      <th>Arrival at Destination - Weekday (Mo = 1)_sin(day)</th>\n      <th>Arrival at Destination - Weekday (Mo = 1)_cos(day)</th>\n    </tr>\n  </thead>\n  <tbody>\n    <tr>\n      <th>0</th>\n      <td>Order_No_4211</td>\n      <td>4</td>\n      <td>20.4</td>\n      <td>-1.317755</td>\n      <td>36.830370</td>\n      <td>-1.300406</td>\n      <td>36.829741</td>\n      <td>1637</td>\n      <td>1309</td>\n      <td>13.8</td>\n      <td>...</td>\n      <td>0.500000</td>\n      <td>-0.866025</td>\n      <td>0.309017</td>\n      <td>-0.951057</td>\n      <td>1.224647e-16</td>\n      <td>-1.000000</td>\n      <td>0.968077</td>\n      <td>-0.250653</td>\n      <td>-0.974928</td>\n      <td>-0.222521</td>\n    </tr>\n    <tr>\n      <th>1</th>\n      <td>Order_No_25375</td>\n      <td>16</td>\n      <td>26.4</td>\n      <td>-1.351453</td>\n      <td>36.899315</td>\n      <td>-1.295004</td>\n      <td>36.814358</td>\n      <td>396</td>\n      <td>339</td>\n      <td>13.6</td>\n      <td>...</td>\n      <td>0.258819</td>\n      <td>-0.965926</td>\n      <td>-0.994522</td>\n      <td>-0.104528</td>\n      <td>8.090170e-01</td>\n      <td>0.587785</td>\n      <td>0.651372</td>\n      <td>-0.758758</td>\n      <td>-0.974928</td>\n      <td>-0.222521</td>\n    </tr>\n  </tbody>\n</table>\n<p>2 rows × 42 columns</p>\n</div>"
     },
     "metadata": {},
     "execution_count": 18
    }
   ],
   "source": [
    "X.head(2)"
   ]
  },
  {
   "cell_type": "code",
   "execution_count": 19,
   "metadata": {},
   "outputs": [
    {
     "output_type": "execute_result",
     "data": {
      "text/plain": "23.5"
     },
     "metadata": {},
     "execution_count": 19
    }
   ],
   "source": [
    "X['Temperature'].median()"
   ]
  },
  {
   "cell_type": "code",
   "execution_count": 20,
   "metadata": {},
   "outputs": [
    {
     "output_type": "execute_result",
     "data": {
      "text/plain": "0    24.7\ndtype: float64"
     },
     "metadata": {},
     "execution_count": 20
    }
   ],
   "source": [
    "X['Temperature'].mode()"
   ]
  },
  {
   "cell_type": "code",
   "execution_count": 21,
   "metadata": {},
   "outputs": [
    {
     "output_type": "execute_result",
     "data": {
      "text/plain": "23.25888921888938"
     },
     "metadata": {},
     "execution_count": 21
    }
   ],
   "source": [
    "X['Temperature'].mean()"
   ]
  },
  {
   "cell_type": "code",
   "execution_count": 22,
   "metadata": {},
   "outputs": [
    {
     "output_type": "display_data",
     "data": {
      "text/plain": "<Figure size 1200x1050 with 1 Axes>",
      "image/svg+xml": "<?xml version=\"1.0\" encoding=\"utf-8\" standalone=\"no\"?>\r\n<!DOCTYPE svg PUBLIC \"-//W3C//DTD SVG 1.1//EN\"\r\n  \"http://www.w3.org/Graphics/SVG/1.1/DTD/svg11.dtd\">\r\n<!-- Created with matplotlib (https://matplotlib.org/) -->\r\n<svg height=\"436.612344pt\" version=\"1.1\" viewBox=\"0 0 498.320781 436.612344\" width=\"498.320781pt\" xmlns=\"http://www.w3.org/2000/svg\" xmlns:xlink=\"http://www.w3.org/1999/xlink\">\r\n <defs>\r\n  <style type=\"text/css\">\r\n*{stroke-linecap:butt;stroke-linejoin:round;}\r\n  </style>\r\n </defs>\r\n <g id=\"figure_1\">\r\n  <g id=\"patch_1\">\r\n   <path d=\"M 0 436.612344 \r\nL 498.320781 436.612344 \r\nL 498.320781 0 \r\nL 0 0 \r\nz\r\n\" style=\"fill:#ffffff;\"/>\r\n  </g>\r\n  <g id=\"axes_1\">\r\n   <g id=\"patch_2\">\r\n    <path d=\"M 44.720781 387.72 \r\nL 491.120781 387.72 \r\nL 491.120781 7.2 \r\nL 44.720781 7.2 \r\nz\r\n\" style=\"fill:#ffffff;\"/>\r\n   </g>\r\n   <g id=\"matplotlib.axis_1\">\r\n    <g id=\"xtick_1\">\r\n     <g id=\"line2d_1\">\r\n      <path clip-path=\"url(#p4c9557de5c)\" d=\"M 72.404327 387.72 \r\nL 72.404327 7.2 \r\n\" style=\"fill:none;stroke:#cccccc;stroke-linecap:round;stroke-width:1.4;\"/>\r\n     </g>\r\n     <g id=\"text_1\">\r\n      <!-- 10 -->\r\n      <defs>\r\n       <path d=\"M 37.25 0 \r\nL 28.46875 0 \r\nL 28.46875 56 \r\nQ 25.296875 52.984375 20.140625 49.953125 \r\nQ 14.984375 46.921875 10.890625 45.40625 \r\nL 10.890625 53.90625 \r\nQ 18.265625 57.375 23.78125 62.296875 \r\nQ 29.296875 67.234375 31.59375 71.875 \r\nL 37.25 71.875 \r\nz\r\n\" id=\"ArialMT-49\"/>\r\n       <path d=\"M 4.15625 35.296875 \r\nQ 4.15625 48 6.765625 55.734375 \r\nQ 9.375 63.484375 14.515625 67.671875 \r\nQ 19.671875 71.875 27.484375 71.875 \r\nQ 33.25 71.875 37.59375 69.546875 \r\nQ 41.9375 67.234375 44.765625 62.859375 \r\nQ 47.609375 58.5 49.21875 52.21875 \r\nQ 50.828125 45.953125 50.828125 35.296875 \r\nQ 50.828125 22.703125 48.234375 14.96875 \r\nQ 45.65625 7.234375 40.5 3 \r\nQ 35.359375 -1.21875 27.484375 -1.21875 \r\nQ 17.140625 -1.21875 11.234375 6.203125 \r\nQ 4.15625 15.140625 4.15625 35.296875 \r\nz\r\nM 13.1875 35.296875 \r\nQ 13.1875 17.671875 17.3125 11.828125 \r\nQ 21.4375 6 27.484375 6 \r\nQ 33.546875 6 37.671875 11.859375 \r\nQ 41.796875 17.71875 41.796875 35.296875 \r\nQ 41.796875 52.984375 37.671875 58.78125 \r\nQ 33.546875 64.59375 27.390625 64.59375 \r\nQ 21.34375 64.59375 17.71875 59.46875 \r\nQ 13.1875 52.9375 13.1875 35.296875 \r\nz\r\n\" id=\"ArialMT-48\"/>\r\n      </defs>\r\n      <g style=\"fill:#262626;\" transform=\"translate(65.397546 409.738844)scale(0.126 -0.126)\">\r\n       <use xlink:href=\"#ArialMT-49\"/>\r\n       <use x=\"55.615234\" xlink:href=\"#ArialMT-48\"/>\r\n      </g>\r\n     </g>\r\n    </g>\r\n    <g id=\"xtick_2\">\r\n     <g id=\"line2d_2\">\r\n      <path clip-path=\"url(#p4c9557de5c)\" d=\"M 156.316968 387.72 \r\nL 156.316968 7.2 \r\n\" style=\"fill:none;stroke:#cccccc;stroke-linecap:round;stroke-width:1.4;\"/>\r\n     </g>\r\n     <g id=\"text_2\">\r\n      <!-- 15 -->\r\n      <defs>\r\n       <path d=\"M 4.15625 18.75 \r\nL 13.375 19.53125 \r\nQ 14.40625 12.796875 18.140625 9.390625 \r\nQ 21.875 6 27.15625 6 \r\nQ 33.5 6 37.890625 10.78125 \r\nQ 42.28125 15.578125 42.28125 23.484375 \r\nQ 42.28125 31 38.0625 35.34375 \r\nQ 33.84375 39.703125 27 39.703125 \r\nQ 22.75 39.703125 19.328125 37.765625 \r\nQ 15.921875 35.84375 13.96875 32.765625 \r\nL 5.71875 33.84375 \r\nL 12.640625 70.609375 \r\nL 48.25 70.609375 \r\nL 48.25 62.203125 \r\nL 19.671875 62.203125 \r\nL 15.828125 42.96875 \r\nQ 22.265625 47.46875 29.34375 47.46875 \r\nQ 38.71875 47.46875 45.15625 40.96875 \r\nQ 51.609375 34.46875 51.609375 24.265625 \r\nQ 51.609375 14.546875 45.953125 7.46875 \r\nQ 39.0625 -1.21875 27.15625 -1.21875 \r\nQ 17.390625 -1.21875 11.203125 4.25 \r\nQ 5.03125 9.71875 4.15625 18.75 \r\nz\r\n\" id=\"ArialMT-53\"/>\r\n      </defs>\r\n      <g style=\"fill:#262626;\" transform=\"translate(149.310187 409.738844)scale(0.126 -0.126)\">\r\n       <use xlink:href=\"#ArialMT-49\"/>\r\n       <use x=\"55.615234\" xlink:href=\"#ArialMT-53\"/>\r\n      </g>\r\n     </g>\r\n    </g>\r\n    <g id=\"xtick_3\">\r\n     <g id=\"line2d_3\">\r\n      <path clip-path=\"url(#p4c9557de5c)\" d=\"M 240.22961 387.72 \r\nL 240.22961 7.2 \r\n\" style=\"fill:none;stroke:#cccccc;stroke-linecap:round;stroke-width:1.4;\"/>\r\n     </g>\r\n     <g id=\"text_3\">\r\n      <!-- 20 -->\r\n      <defs>\r\n       <path d=\"M 50.34375 8.453125 \r\nL 50.34375 0 \r\nL 3.03125 0 \r\nQ 2.9375 3.171875 4.046875 6.109375 \r\nQ 5.859375 10.9375 9.828125 15.625 \r\nQ 13.8125 20.3125 21.34375 26.46875 \r\nQ 33.015625 36.03125 37.109375 41.625 \r\nQ 41.21875 47.21875 41.21875 52.203125 \r\nQ 41.21875 57.421875 37.46875 61 \r\nQ 33.734375 64.59375 27.734375 64.59375 \r\nQ 21.390625 64.59375 17.578125 60.78125 \r\nQ 13.765625 56.984375 13.71875 50.25 \r\nL 4.6875 51.171875 \r\nQ 5.609375 61.28125 11.65625 66.578125 \r\nQ 17.71875 71.875 27.9375 71.875 \r\nQ 38.234375 71.875 44.234375 66.15625 \r\nQ 50.25 60.453125 50.25 52 \r\nQ 50.25 47.703125 48.484375 43.546875 \r\nQ 46.734375 39.40625 42.65625 34.8125 \r\nQ 38.578125 30.21875 29.109375 22.21875 \r\nQ 21.1875 15.578125 18.9375 13.203125 \r\nQ 16.703125 10.84375 15.234375 8.453125 \r\nz\r\n\" id=\"ArialMT-50\"/>\r\n      </defs>\r\n      <g style=\"fill:#262626;\" transform=\"translate(233.222828 409.738844)scale(0.126 -0.126)\">\r\n       <use xlink:href=\"#ArialMT-50\"/>\r\n       <use x=\"55.615234\" xlink:href=\"#ArialMT-48\"/>\r\n      </g>\r\n     </g>\r\n    </g>\r\n    <g id=\"xtick_4\">\r\n     <g id=\"line2d_4\">\r\n      <path clip-path=\"url(#p4c9557de5c)\" d=\"M 324.142251 387.72 \r\nL 324.142251 7.2 \r\n\" style=\"fill:none;stroke:#cccccc;stroke-linecap:round;stroke-width:1.4;\"/>\r\n     </g>\r\n     <g id=\"text_4\">\r\n      <!-- 25 -->\r\n      <g style=\"fill:#262626;\" transform=\"translate(317.13547 409.738844)scale(0.126 -0.126)\">\r\n       <use xlink:href=\"#ArialMT-50\"/>\r\n       <use x=\"55.615234\" xlink:href=\"#ArialMT-53\"/>\r\n      </g>\r\n     </g>\r\n    </g>\r\n    <g id=\"xtick_5\">\r\n     <g id=\"line2d_5\">\r\n      <path clip-path=\"url(#p4c9557de5c)\" d=\"M 408.054892 387.72 \r\nL 408.054892 7.2 \r\n\" style=\"fill:none;stroke:#cccccc;stroke-linecap:round;stroke-width:1.4;\"/>\r\n     </g>\r\n     <g id=\"text_5\">\r\n      <!-- 30 -->\r\n      <defs>\r\n       <path d=\"M 4.203125 18.890625 \r\nL 12.984375 20.0625 \r\nQ 14.5 12.59375 18.140625 9.296875 \r\nQ 21.78125 6 27 6 \r\nQ 33.203125 6 37.46875 10.296875 \r\nQ 41.75 14.59375 41.75 20.953125 \r\nQ 41.75 27 37.796875 30.921875 \r\nQ 33.84375 34.859375 27.734375 34.859375 \r\nQ 25.25 34.859375 21.53125 33.890625 \r\nL 22.515625 41.609375 \r\nQ 23.390625 41.5 23.921875 41.5 \r\nQ 29.546875 41.5 34.03125 44.421875 \r\nQ 38.53125 47.359375 38.53125 53.46875 \r\nQ 38.53125 58.296875 35.25 61.46875 \r\nQ 31.984375 64.65625 26.8125 64.65625 \r\nQ 21.6875 64.65625 18.265625 61.421875 \r\nQ 14.84375 58.203125 13.875 51.765625 \r\nL 5.078125 53.328125 \r\nQ 6.6875 62.15625 12.390625 67.015625 \r\nQ 18.109375 71.875 26.609375 71.875 \r\nQ 32.46875 71.875 37.390625 69.359375 \r\nQ 42.328125 66.84375 44.9375 62.5 \r\nQ 47.5625 58.15625 47.5625 53.265625 \r\nQ 47.5625 48.640625 45.0625 44.828125 \r\nQ 42.578125 41.015625 37.703125 38.765625 \r\nQ 44.046875 37.3125 47.5625 32.6875 \r\nQ 51.078125 28.078125 51.078125 21.140625 \r\nQ 51.078125 11.765625 44.234375 5.25 \r\nQ 37.40625 -1.265625 26.953125 -1.265625 \r\nQ 17.53125 -1.265625 11.296875 4.34375 \r\nQ 5.078125 9.96875 4.203125 18.890625 \r\nz\r\n\" id=\"ArialMT-51\"/>\r\n      </defs>\r\n      <g style=\"fill:#262626;\" transform=\"translate(401.048111 409.738844)scale(0.126 -0.126)\">\r\n       <use xlink:href=\"#ArialMT-51\"/>\r\n       <use x=\"55.615234\" xlink:href=\"#ArialMT-48\"/>\r\n      </g>\r\n     </g>\r\n    </g>\r\n    <g id=\"text_6\">\r\n     <!-- Temperature -->\r\n     <defs>\r\n      <path d=\"M 25.921875 0 \r\nL 25.921875 63.140625 \r\nL 2.34375 63.140625 \r\nL 2.34375 71.578125 \r\nL 59.078125 71.578125 \r\nL 59.078125 63.140625 \r\nL 35.40625 63.140625 \r\nL 35.40625 0 \r\nz\r\n\" id=\"ArialMT-84\"/>\r\n      <path d=\"M 42.09375 16.703125 \r\nL 51.171875 15.578125 \r\nQ 49.03125 7.625 43.21875 3.21875 \r\nQ 37.40625 -1.171875 28.375 -1.171875 \r\nQ 17 -1.171875 10.328125 5.828125 \r\nQ 3.65625 12.84375 3.65625 25.484375 \r\nQ 3.65625 38.578125 10.390625 45.796875 \r\nQ 17.140625 53.03125 27.875 53.03125 \r\nQ 38.28125 53.03125 44.875 45.953125 \r\nQ 51.46875 38.875 51.46875 26.03125 \r\nQ 51.46875 25.25 51.421875 23.6875 \r\nL 12.75 23.6875 \r\nQ 13.234375 15.140625 17.578125 10.59375 \r\nQ 21.921875 6.0625 28.421875 6.0625 \r\nQ 33.25 6.0625 36.671875 8.59375 \r\nQ 40.09375 11.140625 42.09375 16.703125 \r\nz\r\nM 13.234375 30.90625 \r\nL 42.1875 30.90625 \r\nQ 41.609375 37.453125 38.875 40.71875 \r\nQ 34.671875 45.796875 27.984375 45.796875 \r\nQ 21.921875 45.796875 17.796875 41.75 \r\nQ 13.671875 37.703125 13.234375 30.90625 \r\nz\r\n\" id=\"ArialMT-101\"/>\r\n      <path d=\"M 6.59375 0 \r\nL 6.59375 51.859375 \r\nL 14.453125 51.859375 \r\nL 14.453125 44.578125 \r\nQ 16.890625 48.390625 20.9375 50.703125 \r\nQ 25 53.03125 30.171875 53.03125 \r\nQ 35.9375 53.03125 39.625 50.640625 \r\nQ 43.3125 48.25 44.828125 43.953125 \r\nQ 50.984375 53.03125 60.84375 53.03125 \r\nQ 68.5625 53.03125 72.703125 48.75 \r\nQ 76.859375 44.484375 76.859375 35.59375 \r\nL 76.859375 0 \r\nL 68.109375 0 \r\nL 68.109375 32.671875 \r\nQ 68.109375 37.9375 67.25 40.25 \r\nQ 66.40625 42.578125 64.15625 43.984375 \r\nQ 61.921875 45.40625 58.890625 45.40625 \r\nQ 53.421875 45.40625 49.796875 41.765625 \r\nQ 46.1875 38.140625 46.1875 30.125 \r\nL 46.1875 0 \r\nL 37.40625 0 \r\nL 37.40625 33.6875 \r\nQ 37.40625 39.546875 35.25 42.46875 \r\nQ 33.109375 45.40625 28.21875 45.40625 \r\nQ 24.515625 45.40625 21.359375 43.453125 \r\nQ 18.21875 41.5 16.796875 37.734375 \r\nQ 15.375 33.984375 15.375 26.90625 \r\nL 15.375 0 \r\nz\r\n\" id=\"ArialMT-109\"/>\r\n      <path d=\"M 6.59375 -19.875 \r\nL 6.59375 51.859375 \r\nL 14.59375 51.859375 \r\nL 14.59375 45.125 \r\nQ 17.4375 49.078125 21 51.046875 \r\nQ 24.5625 53.03125 29.640625 53.03125 \r\nQ 36.28125 53.03125 41.359375 49.609375 \r\nQ 46.4375 46.1875 49.015625 39.953125 \r\nQ 51.609375 33.734375 51.609375 26.3125 \r\nQ 51.609375 18.359375 48.75 11.984375 \r\nQ 45.90625 5.609375 40.453125 2.21875 \r\nQ 35.015625 -1.171875 29 -1.171875 \r\nQ 24.609375 -1.171875 21.109375 0.6875 \r\nQ 17.625 2.546875 15.375 5.375 \r\nL 15.375 -19.875 \r\nz\r\nM 14.546875 25.640625 \r\nQ 14.546875 15.625 18.59375 10.84375 \r\nQ 22.65625 6.0625 28.421875 6.0625 \r\nQ 34.28125 6.0625 38.453125 11.015625 \r\nQ 42.625 15.96875 42.625 26.375 \r\nQ 42.625 36.28125 38.546875 41.203125 \r\nQ 34.46875 46.140625 28.8125 46.140625 \r\nQ 23.1875 46.140625 18.859375 40.890625 \r\nQ 14.546875 35.640625 14.546875 25.640625 \r\nz\r\n\" id=\"ArialMT-112\"/>\r\n      <path d=\"M 6.5 0 \r\nL 6.5 51.859375 \r\nL 14.40625 51.859375 \r\nL 14.40625 44 \r\nQ 17.4375 49.515625 20 51.265625 \r\nQ 22.5625 53.03125 25.640625 53.03125 \r\nQ 30.078125 53.03125 34.671875 50.203125 \r\nL 31.640625 42.046875 \r\nQ 28.421875 43.953125 25.203125 43.953125 \r\nQ 22.3125 43.953125 20.015625 42.21875 \r\nQ 17.71875 40.484375 16.75 37.40625 \r\nQ 15.28125 32.71875 15.28125 27.15625 \r\nL 15.28125 0 \r\nz\r\n\" id=\"ArialMT-114\"/>\r\n      <path d=\"M 40.4375 6.390625 \r\nQ 35.546875 2.25 31.03125 0.53125 \r\nQ 26.515625 -1.171875 21.34375 -1.171875 \r\nQ 12.796875 -1.171875 8.203125 3 \r\nQ 3.609375 7.171875 3.609375 13.671875 \r\nQ 3.609375 17.484375 5.34375 20.625 \r\nQ 7.078125 23.78125 9.890625 25.6875 \r\nQ 12.703125 27.59375 16.21875 28.5625 \r\nQ 18.796875 29.25 24.03125 29.890625 \r\nQ 34.671875 31.15625 39.703125 32.90625 \r\nQ 39.75 34.71875 39.75 35.203125 \r\nQ 39.75 40.578125 37.25 42.78125 \r\nQ 33.890625 45.75 27.25 45.75 \r\nQ 21.046875 45.75 18.09375 43.578125 \r\nQ 15.140625 41.40625 13.71875 35.890625 \r\nL 5.125 37.0625 \r\nQ 6.296875 42.578125 8.984375 45.96875 \r\nQ 11.671875 49.359375 16.75 51.1875 \r\nQ 21.828125 53.03125 28.515625 53.03125 \r\nQ 35.15625 53.03125 39.296875 51.46875 \r\nQ 43.453125 49.90625 45.40625 47.53125 \r\nQ 47.359375 45.171875 48.140625 41.546875 \r\nQ 48.578125 39.3125 48.578125 33.453125 \r\nL 48.578125 21.734375 \r\nQ 48.578125 9.46875 49.140625 6.21875 \r\nQ 49.703125 2.984375 51.375 0 \r\nL 42.1875 0 \r\nQ 40.828125 2.734375 40.4375 6.390625 \r\nz\r\nM 39.703125 26.03125 \r\nQ 34.90625 24.078125 25.34375 22.703125 \r\nQ 19.921875 21.921875 17.671875 20.9375 \r\nQ 15.4375 19.96875 14.203125 18.09375 \r\nQ 12.984375 16.21875 12.984375 13.921875 \r\nQ 12.984375 10.40625 15.640625 8.0625 \r\nQ 18.3125 5.71875 23.4375 5.71875 \r\nQ 28.515625 5.71875 32.46875 7.9375 \r\nQ 36.421875 10.15625 38.28125 14.015625 \r\nQ 39.703125 17 39.703125 22.796875 \r\nz\r\n\" id=\"ArialMT-97\"/>\r\n      <path d=\"M 25.78125 7.859375 \r\nL 27.046875 0.09375 \r\nQ 23.34375 -0.6875 20.40625 -0.6875 \r\nQ 15.625 -0.6875 12.984375 0.828125 \r\nQ 10.359375 2.34375 9.28125 4.8125 \r\nQ 8.203125 7.28125 8.203125 15.1875 \r\nL 8.203125 45.015625 \r\nL 1.765625 45.015625 \r\nL 1.765625 51.859375 \r\nL 8.203125 51.859375 \r\nL 8.203125 64.703125 \r\nL 16.9375 69.96875 \r\nL 16.9375 51.859375 \r\nL 25.78125 51.859375 \r\nL 25.78125 45.015625 \r\nL 16.9375 45.015625 \r\nL 16.9375 14.703125 \r\nQ 16.9375 10.9375 17.40625 9.859375 \r\nQ 17.875 8.796875 18.921875 8.15625 \r\nQ 19.96875 7.515625 21.921875 7.515625 \r\nQ 23.390625 7.515625 25.78125 7.859375 \r\nz\r\n\" id=\"ArialMT-116\"/>\r\n      <path d=\"M 40.578125 0 \r\nL 40.578125 7.625 \r\nQ 34.515625 -1.171875 24.125 -1.171875 \r\nQ 19.53125 -1.171875 15.546875 0.578125 \r\nQ 11.578125 2.34375 9.640625 5 \r\nQ 7.71875 7.671875 6.9375 11.53125 \r\nQ 6.390625 14.109375 6.390625 19.734375 \r\nL 6.390625 51.859375 \r\nL 15.1875 51.859375 \r\nL 15.1875 23.09375 \r\nQ 15.1875 16.21875 15.71875 13.8125 \r\nQ 16.546875 10.359375 19.234375 8.375 \r\nQ 21.921875 6.390625 25.875 6.390625 \r\nQ 29.828125 6.390625 33.296875 8.421875 \r\nQ 36.765625 10.453125 38.203125 13.9375 \r\nQ 39.65625 17.4375 39.65625 24.078125 \r\nL 39.65625 51.859375 \r\nL 48.4375 51.859375 \r\nL 48.4375 0 \r\nz\r\n\" id=\"ArialMT-117\"/>\r\n     </defs>\r\n     <g style=\"fill:#262626;\" transform=\"translate(226.719906 426.550344)scale(0.144 -0.144)\">\r\n      <use xlink:href=\"#ArialMT-84\"/>\r\n      <use x=\"60.912109\" xlink:href=\"#ArialMT-101\"/>\r\n      <use x=\"116.527344\" xlink:href=\"#ArialMT-109\"/>\r\n      <use x=\"199.828125\" xlink:href=\"#ArialMT-112\"/>\r\n      <use x=\"255.443359\" xlink:href=\"#ArialMT-101\"/>\r\n      <use x=\"311.058594\" xlink:href=\"#ArialMT-114\"/>\r\n      <use x=\"344.359375\" xlink:href=\"#ArialMT-97\"/>\r\n      <use x=\"399.974609\" xlink:href=\"#ArialMT-116\"/>\r\n      <use x=\"427.757812\" xlink:href=\"#ArialMT-117\"/>\r\n      <use x=\"483.373047\" xlink:href=\"#ArialMT-114\"/>\r\n      <use x=\"516.673828\" xlink:href=\"#ArialMT-101\"/>\r\n     </g>\r\n    </g>\r\n   </g>\r\n   <g id=\"matplotlib.axis_2\">\r\n    <g id=\"ytick_1\">\r\n     <g id=\"line2d_6\">\r\n      <path clip-path=\"url(#p4c9557de5c)\" d=\"M 44.720781 387.72 \r\nL 491.120781 387.72 \r\n\" style=\"fill:none;stroke:#cccccc;stroke-linecap:round;stroke-width:1.4;\"/>\r\n     </g>\r\n     <g id=\"text_7\">\r\n      <!-- 0.00 -->\r\n      <defs>\r\n       <path d=\"M 9.078125 0 \r\nL 9.078125 10.015625 \r\nL 19.09375 10.015625 \r\nL 19.09375 0 \r\nz\r\n\" id=\"ArialMT-46\"/>\r\n      </defs>\r\n      <g style=\"fill:#262626;\" transform=\"translate(7.2 392.229422)scale(0.126 -0.126)\">\r\n       <use xlink:href=\"#ArialMT-48\"/>\r\n       <use x=\"55.615234\" xlink:href=\"#ArialMT-46\"/>\r\n       <use x=\"83.398438\" xlink:href=\"#ArialMT-48\"/>\r\n       <use x=\"139.013672\" xlink:href=\"#ArialMT-48\"/>\r\n      </g>\r\n     </g>\r\n    </g>\r\n    <g id=\"ytick_2\">\r\n     <g id=\"line2d_7\">\r\n      <path clip-path=\"url(#p4c9557de5c)\" d=\"M 44.720781 327.431119 \r\nL 491.120781 327.431119 \r\n\" style=\"fill:none;stroke:#cccccc;stroke-linecap:round;stroke-width:1.4;\"/>\r\n     </g>\r\n     <g id=\"text_8\">\r\n      <!-- 0.02 -->\r\n      <g style=\"fill:#262626;\" transform=\"translate(7.2 331.940541)scale(0.126 -0.126)\">\r\n       <use xlink:href=\"#ArialMT-48\"/>\r\n       <use x=\"55.615234\" xlink:href=\"#ArialMT-46\"/>\r\n       <use x=\"83.398438\" xlink:href=\"#ArialMT-48\"/>\r\n       <use x=\"139.013672\" xlink:href=\"#ArialMT-50\"/>\r\n      </g>\r\n     </g>\r\n    </g>\r\n    <g id=\"ytick_3\">\r\n     <g id=\"line2d_8\">\r\n      <path clip-path=\"url(#p4c9557de5c)\" d=\"M 44.720781 267.142238 \r\nL 491.120781 267.142238 \r\n\" style=\"fill:none;stroke:#cccccc;stroke-linecap:round;stroke-width:1.4;\"/>\r\n     </g>\r\n     <g id=\"text_9\">\r\n      <!-- 0.04 -->\r\n      <defs>\r\n       <path d=\"M 32.328125 0 \r\nL 32.328125 17.140625 \r\nL 1.265625 17.140625 \r\nL 1.265625 25.203125 \r\nL 33.9375 71.578125 \r\nL 41.109375 71.578125 \r\nL 41.109375 25.203125 \r\nL 50.78125 25.203125 \r\nL 50.78125 17.140625 \r\nL 41.109375 17.140625 \r\nL 41.109375 0 \r\nz\r\nM 32.328125 25.203125 \r\nL 32.328125 57.46875 \r\nL 9.90625 25.203125 \r\nz\r\n\" id=\"ArialMT-52\"/>\r\n      </defs>\r\n      <g style=\"fill:#262626;\" transform=\"translate(7.2 271.65166)scale(0.126 -0.126)\">\r\n       <use xlink:href=\"#ArialMT-48\"/>\r\n       <use x=\"55.615234\" xlink:href=\"#ArialMT-46\"/>\r\n       <use x=\"83.398438\" xlink:href=\"#ArialMT-48\"/>\r\n       <use x=\"139.013672\" xlink:href=\"#ArialMT-52\"/>\r\n      </g>\r\n     </g>\r\n    </g>\r\n    <g id=\"ytick_4\">\r\n     <g id=\"line2d_9\">\r\n      <path clip-path=\"url(#p4c9557de5c)\" d=\"M 44.720781 206.853357 \r\nL 491.120781 206.853357 \r\n\" style=\"fill:none;stroke:#cccccc;stroke-linecap:round;stroke-width:1.4;\"/>\r\n     </g>\r\n     <g id=\"text_10\">\r\n      <!-- 0.06 -->\r\n      <defs>\r\n       <path d=\"M 49.75 54.046875 \r\nL 41.015625 53.375 \r\nQ 39.84375 58.546875 37.703125 60.890625 \r\nQ 34.125 64.65625 28.90625 64.65625 \r\nQ 24.703125 64.65625 21.53125 62.3125 \r\nQ 17.390625 59.28125 14.984375 53.46875 \r\nQ 12.59375 47.65625 12.5 36.921875 \r\nQ 15.671875 41.75 20.265625 44.09375 \r\nQ 24.859375 46.4375 29.890625 46.4375 \r\nQ 38.671875 46.4375 44.84375 39.96875 \r\nQ 51.03125 33.5 51.03125 23.25 \r\nQ 51.03125 16.5 48.125 10.71875 \r\nQ 45.21875 4.9375 40.140625 1.859375 \r\nQ 35.0625 -1.21875 28.609375 -1.21875 \r\nQ 17.625 -1.21875 10.6875 6.859375 \r\nQ 3.765625 14.9375 3.765625 33.5 \r\nQ 3.765625 54.25 11.421875 63.671875 \r\nQ 18.109375 71.875 29.4375 71.875 \r\nQ 37.890625 71.875 43.28125 67.140625 \r\nQ 48.6875 62.40625 49.75 54.046875 \r\nz\r\nM 13.875 23.1875 \r\nQ 13.875 18.65625 15.796875 14.5 \r\nQ 17.71875 10.359375 21.1875 8.171875 \r\nQ 24.65625 6 28.46875 6 \r\nQ 34.03125 6 38.03125 10.484375 \r\nQ 42.046875 14.984375 42.046875 22.703125 \r\nQ 42.046875 30.125 38.078125 34.390625 \r\nQ 34.125 38.671875 28.125 38.671875 \r\nQ 22.171875 38.671875 18.015625 34.390625 \r\nQ 13.875 30.125 13.875 23.1875 \r\nz\r\n\" id=\"ArialMT-54\"/>\r\n      </defs>\r\n      <g style=\"fill:#262626;\" transform=\"translate(7.2 211.362778)scale(0.126 -0.126)\">\r\n       <use xlink:href=\"#ArialMT-48\"/>\r\n       <use x=\"55.615234\" xlink:href=\"#ArialMT-46\"/>\r\n       <use x=\"83.398438\" xlink:href=\"#ArialMT-48\"/>\r\n       <use x=\"139.013672\" xlink:href=\"#ArialMT-54\"/>\r\n      </g>\r\n     </g>\r\n    </g>\r\n    <g id=\"ytick_5\">\r\n     <g id=\"line2d_10\">\r\n      <path clip-path=\"url(#p4c9557de5c)\" d=\"M 44.720781 146.564475 \r\nL 491.120781 146.564475 \r\n\" style=\"fill:none;stroke:#cccccc;stroke-linecap:round;stroke-width:1.4;\"/>\r\n     </g>\r\n     <g id=\"text_11\">\r\n      <!-- 0.08 -->\r\n      <defs>\r\n       <path d=\"M 17.671875 38.8125 \r\nQ 12.203125 40.828125 9.5625 44.53125 \r\nQ 6.9375 48.25 6.9375 53.421875 \r\nQ 6.9375 61.234375 12.546875 66.546875 \r\nQ 18.171875 71.875 27.484375 71.875 \r\nQ 36.859375 71.875 42.578125 66.421875 \r\nQ 48.296875 60.984375 48.296875 53.171875 \r\nQ 48.296875 48.1875 45.671875 44.5 \r\nQ 43.0625 40.828125 37.75 38.8125 \r\nQ 44.34375 36.671875 47.78125 31.875 \r\nQ 51.21875 27.09375 51.21875 20.453125 \r\nQ 51.21875 11.28125 44.71875 5.03125 \r\nQ 38.234375 -1.21875 27.640625 -1.21875 \r\nQ 17.046875 -1.21875 10.546875 5.046875 \r\nQ 4.046875 11.328125 4.046875 20.703125 \r\nQ 4.046875 27.6875 7.59375 32.390625 \r\nQ 11.140625 37.109375 17.671875 38.8125 \r\nz\r\nM 15.921875 53.71875 \r\nQ 15.921875 48.640625 19.1875 45.40625 \r\nQ 22.46875 42.1875 27.6875 42.1875 \r\nQ 32.765625 42.1875 36.015625 45.375 \r\nQ 39.265625 48.578125 39.265625 53.21875 \r\nQ 39.265625 58.0625 35.90625 61.359375 \r\nQ 32.5625 64.65625 27.59375 64.65625 \r\nQ 22.5625 64.65625 19.234375 61.421875 \r\nQ 15.921875 58.203125 15.921875 53.71875 \r\nz\r\nM 13.09375 20.65625 \r\nQ 13.09375 16.890625 14.875 13.375 \r\nQ 16.65625 9.859375 20.171875 7.921875 \r\nQ 23.6875 6 27.734375 6 \r\nQ 34.03125 6 38.125 10.046875 \r\nQ 42.234375 14.109375 42.234375 20.359375 \r\nQ 42.234375 26.703125 38.015625 30.859375 \r\nQ 33.796875 35.015625 27.4375 35.015625 \r\nQ 21.234375 35.015625 17.15625 30.90625 \r\nQ 13.09375 26.8125 13.09375 20.65625 \r\nz\r\n\" id=\"ArialMT-56\"/>\r\n      </defs>\r\n      <g style=\"fill:#262626;\" transform=\"translate(7.2 151.073897)scale(0.126 -0.126)\">\r\n       <use xlink:href=\"#ArialMT-48\"/>\r\n       <use x=\"55.615234\" xlink:href=\"#ArialMT-46\"/>\r\n       <use x=\"83.398438\" xlink:href=\"#ArialMT-48\"/>\r\n       <use x=\"139.013672\" xlink:href=\"#ArialMT-56\"/>\r\n      </g>\r\n     </g>\r\n    </g>\r\n    <g id=\"ytick_6\">\r\n     <g id=\"line2d_11\">\r\n      <path clip-path=\"url(#p4c9557de5c)\" d=\"M 44.720781 86.275594 \r\nL 491.120781 86.275594 \r\n\" style=\"fill:none;stroke:#cccccc;stroke-linecap:round;stroke-width:1.4;\"/>\r\n     </g>\r\n     <g id=\"text_12\">\r\n      <!-- 0.10 -->\r\n      <g style=\"fill:#262626;\" transform=\"translate(7.2 90.785016)scale(0.126 -0.126)\">\r\n       <use xlink:href=\"#ArialMT-48\"/>\r\n       <use x=\"55.615234\" xlink:href=\"#ArialMT-46\"/>\r\n       <use x=\"83.398438\" xlink:href=\"#ArialMT-49\"/>\r\n       <use x=\"139.013672\" xlink:href=\"#ArialMT-48\"/>\r\n      </g>\r\n     </g>\r\n    </g>\r\n    <g id=\"ytick_7\">\r\n     <g id=\"line2d_12\">\r\n      <path clip-path=\"url(#p4c9557de5c)\" d=\"M 44.720781 25.986713 \r\nL 491.120781 25.986713 \r\n\" style=\"fill:none;stroke:#cccccc;stroke-linecap:round;stroke-width:1.4;\"/>\r\n     </g>\r\n     <g id=\"text_13\">\r\n      <!-- 0.12 -->\r\n      <g style=\"fill:#262626;\" transform=\"translate(7.2 30.496135)scale(0.126 -0.126)\">\r\n       <use xlink:href=\"#ArialMT-48\"/>\r\n       <use x=\"55.615234\" xlink:href=\"#ArialMT-46\"/>\r\n       <use x=\"83.398438\" xlink:href=\"#ArialMT-49\"/>\r\n       <use x=\"139.013672\" xlink:href=\"#ArialMT-50\"/>\r\n      </g>\r\n     </g>\r\n    </g>\r\n   </g>\r\n   <g id=\"patch_3\">\r\n    <path clip-path=\"url(#p4c9557de5c)\" d=\"M 92.543361 387.72 \r\nL 99.558458 387.72 \r\nL 99.558458 387.291631 \r\nL 92.543361 387.291631 \r\nz\r\n\" style=\"fill:#3572c6;opacity:0.4;stroke:#ffffff;stroke-linejoin:miter;stroke-width:0.2;\"/>\r\n   </g>\r\n   <g id=\"patch_4\">\r\n    <path clip-path=\"url(#p4c9557de5c)\" d=\"M 99.558458 387.72 \r\nL 106.573555 387.72 \r\nL 106.573555 387.72 \r\nL 99.558458 387.72 \r\nz\r\n\" style=\"fill:#3572c6;opacity:0.4;stroke:#ffffff;stroke-linejoin:miter;stroke-width:0.2;\"/>\r\n   </g>\r\n   <g id=\"patch_5\">\r\n    <path clip-path=\"url(#p4c9557de5c)\" d=\"M 106.573555 387.72 \r\nL 113.588652 387.72 \r\nL 113.588652 387.72 \r\nL 106.573555 387.72 \r\nz\r\n\" style=\"fill:#3572c6;opacity:0.4;stroke:#ffffff;stroke-linejoin:miter;stroke-width:0.2;\"/>\r\n   </g>\r\n   <g id=\"patch_6\">\r\n    <path clip-path=\"url(#p4c9557de5c)\" d=\"M 113.588652 387.72 \r\nL 120.603748 387.72 \r\nL 120.603748 387.72 \r\nL 113.588652 387.72 \r\nz\r\n\" style=\"fill:#3572c6;opacity:0.4;stroke:#ffffff;stroke-linejoin:miter;stroke-width:0.2;\"/>\r\n   </g>\r\n   <g id=\"patch_7\">\r\n    <path clip-path=\"url(#p4c9557de5c)\" d=\"M 120.603748 387.72 \r\nL 127.618845 387.72 \r\nL 127.618845 385.578156 \r\nL 120.603748 385.578156 \r\nz\r\n\" style=\"fill:#3572c6;opacity:0.4;stroke:#ffffff;stroke-linejoin:miter;stroke-width:0.2;\"/>\r\n   </g>\r\n   <g id=\"patch_8\">\r\n    <path clip-path=\"url(#p4c9557de5c)\" d=\"M 127.618845 387.72 \r\nL 134.633942 387.72 \r\nL 134.633942 376.582411 \r\nL 127.618845 376.582411 \r\nz\r\n\" style=\"fill:#3572c6;opacity:0.4;stroke:#ffffff;stroke-linejoin:miter;stroke-width:0.2;\"/>\r\n   </g>\r\n   <g id=\"patch_9\">\r\n    <path clip-path=\"url(#p4c9557de5c)\" d=\"M 134.633942 387.72 \r\nL 141.649039 387.72 \r\nL 141.649039 383.436312 \r\nL 134.633942 383.436312 \r\nz\r\n\" style=\"fill:#3572c6;opacity:0.4;stroke:#ffffff;stroke-linejoin:miter;stroke-width:0.2;\"/>\r\n   </g>\r\n   <g id=\"patch_10\">\r\n    <path clip-path=\"url(#p4c9557de5c)\" d=\"M 141.649039 387.72 \r\nL 148.664136 387.72 \r\nL 148.664136 363.731348 \r\nL 141.649039 363.731348 \r\nz\r\n\" style=\"fill:#3572c6;opacity:0.4;stroke:#ffffff;stroke-linejoin:miter;stroke-width:0.2;\"/>\r\n   </g>\r\n   <g id=\"patch_11\">\r\n    <path clip-path=\"url(#p4c9557de5c)\" d=\"M 148.664136 387.72 \r\nL 155.679232 387.72 \r\nL 155.679232 358.590922 \r\nL 148.664136 358.590922 \r\nz\r\n\" style=\"fill:#3572c6;opacity:0.4;stroke:#ffffff;stroke-linejoin:miter;stroke-width:0.2;\"/>\r\n   </g>\r\n   <g id=\"patch_12\">\r\n    <path clip-path=\"url(#p4c9557de5c)\" d=\"M 155.679232 387.72 \r\nL 162.694329 387.72 \r\nL 162.694329 347.881702 \r\nL 155.679232 347.881702 \r\nz\r\n\" style=\"fill:#3572c6;opacity:0.4;stroke:#ffffff;stroke-linejoin:miter;stroke-width:0.2;\"/>\r\n   </g>\r\n   <g id=\"patch_13\">\r\n    <path clip-path=\"url(#p4c9557de5c)\" d=\"M 162.694329 387.72 \r\nL 169.709426 387.72 \r\nL 169.709426 349.166809 \r\nL 162.694329 349.166809 \r\nz\r\n\" style=\"fill:#3572c6;opacity:0.4;stroke:#ffffff;stroke-linejoin:miter;stroke-width:0.2;\"/>\r\n   </g>\r\n   <g id=\"patch_14\">\r\n    <path clip-path=\"url(#p4c9557de5c)\" d=\"M 169.709426 387.72 \r\nL 176.724523 387.72 \r\nL 176.724523 345.739858 \r\nL 169.709426 345.739858 \r\nz\r\n\" style=\"fill:#3572c6;opacity:0.4;stroke:#ffffff;stroke-linejoin:miter;stroke-width:0.2;\"/>\r\n   </g>\r\n   <g id=\"patch_15\">\r\n    <path clip-path=\"url(#p4c9557de5c)\" d=\"M 176.724523 387.72 \r\nL 183.73962 387.72 \r\nL 183.73962 324.749787 \r\nL 176.724523 324.749787 \r\nz\r\n\" style=\"fill:#3572c6;opacity:0.4;stroke:#ffffff;stroke-linejoin:miter;stroke-width:0.2;\"/>\r\n   </g>\r\n   <g id=\"patch_16\">\r\n    <path clip-path=\"url(#p4c9557de5c)\" d=\"M 183.73962 387.72 \r\nL 190.754716 387.72 \r\nL 190.754716 329.461844 \r\nL 183.73962 329.461844 \r\nz\r\n\" style=\"fill:#3572c6;opacity:0.4;stroke:#ffffff;stroke-linejoin:miter;stroke-width:0.2;\"/>\r\n   </g>\r\n   <g id=\"patch_17\">\r\n    <path clip-path=\"url(#p4c9557de5c)\" d=\"M 190.754716 387.72 \r\nL 197.769813 387.72 \r\nL 197.769813 307.186667 \r\nL 190.754716 307.186667 \r\nz\r\n\" style=\"fill:#3572c6;opacity:0.4;stroke:#ffffff;stroke-linejoin:miter;stroke-width:0.2;\"/>\r\n   </g>\r\n   <g id=\"patch_18\">\r\n    <path clip-path=\"url(#p4c9557de5c)\" d=\"M 197.769813 387.72 \r\nL 204.78491 387.72 \r\nL 204.78491 281.484539 \r\nL 197.769813 281.484539 \r\nz\r\n\" style=\"fill:#3572c6;opacity:0.4;stroke:#ffffff;stroke-linejoin:miter;stroke-width:0.2;\"/>\r\n   </g>\r\n   <g id=\"patch_19\">\r\n    <path clip-path=\"url(#p4c9557de5c)\" d=\"M 204.78491 387.72 \r\nL 211.800007 387.72 \r\nL 211.800007 198.809362 \r\nL 204.78491 198.809362 \r\nz\r\n\" style=\"fill:#3572c6;opacity:0.4;stroke:#ffffff;stroke-linejoin:miter;stroke-width:0.2;\"/>\r\n   </g>\r\n   <g id=\"patch_20\">\r\n    <path clip-path=\"url(#p4c9557de5c)\" d=\"M 211.800007 387.72 \r\nL 218.815104 387.72 \r\nL 218.815104 189.813617 \r\nL 211.800007 189.813617 \r\nz\r\n\" style=\"fill:#3572c6;opacity:0.4;stroke:#ffffff;stroke-linejoin:miter;stroke-width:0.2;\"/>\r\n   </g>\r\n   <g id=\"patch_21\">\r\n    <path clip-path=\"url(#p4c9557de5c)\" d=\"M 218.815104 387.72 \r\nL 225.8302 387.72 \r\nL 225.8302 197.524255 \r\nL 218.815104 197.524255 \r\nz\r\n\" style=\"fill:#3572c6;opacity:0.4;stroke:#ffffff;stroke-linejoin:miter;stroke-width:0.2;\"/>\r\n   </g>\r\n   <g id=\"patch_22\">\r\n    <path clip-path=\"url(#p4c9557de5c)\" d=\"M 225.8302 387.72 \r\nL 232.845297 387.72 \r\nL 232.845297 197.524255 \r\nL 225.8302 197.524255 \r\nz\r\n\" style=\"fill:#3572c6;opacity:0.4;stroke:#ffffff;stroke-linejoin:miter;stroke-width:0.2;\"/>\r\n   </g>\r\n   <g id=\"patch_23\">\r\n    <path clip-path=\"url(#p4c9557de5c)\" d=\"M 232.845297 387.72 \r\nL 239.860394 387.72 \r\nL 239.860394 205.663262 \r\nL 232.845297 205.663262 \r\nz\r\n\" style=\"fill:#3572c6;opacity:0.4;stroke:#ffffff;stroke-linejoin:miter;stroke-width:0.2;\"/>\r\n   </g>\r\n   <g id=\"patch_24\">\r\n    <path clip-path=\"url(#p4c9557de5c)\" d=\"M 239.860394 387.72 \r\nL 246.875491 387.72 \r\nL 246.875491 164.111489 \r\nL 239.860394 164.111489 \r\nz\r\n\" style=\"fill:#3572c6;opacity:0.4;stroke:#ffffff;stroke-linejoin:miter;stroke-width:0.2;\"/>\r\n   </g>\r\n   <g id=\"patch_25\">\r\n    <path clip-path=\"url(#p4c9557de5c)\" d=\"M 246.875491 387.72 \r\nL 253.890588 387.72 \r\nL 253.890588 132.840567 \r\nL 246.875491 132.840567 \r\nz\r\n\" style=\"fill:#3572c6;opacity:0.4;stroke:#ffffff;stroke-linejoin:miter;stroke-width:0.2;\"/>\r\n   </g>\r\n   <g id=\"patch_26\">\r\n    <path clip-path=\"url(#p4c9557de5c)\" d=\"M 253.890588 387.72 \r\nL 260.905684 387.72 \r\nL 260.905684 131.127092 \r\nL 253.890588 131.127092 \r\nz\r\n\" style=\"fill:#3572c6;opacity:0.4;stroke:#ffffff;stroke-linejoin:miter;stroke-width:0.2;\"/>\r\n   </g>\r\n   <g id=\"patch_27\">\r\n    <path clip-path=\"url(#p4c9557de5c)\" d=\"M 260.905684 387.72 \r\nL 267.920781 387.72 \r\nL 267.920781 130.698723 \r\nL 260.905684 130.698723 \r\nz\r\n\" style=\"fill:#3572c6;opacity:0.4;stroke:#ffffff;stroke-linejoin:miter;stroke-width:0.2;\"/>\r\n   </g>\r\n   <g id=\"patch_28\">\r\n    <path clip-path=\"url(#p4c9557de5c)\" d=\"M 267.920781 387.72 \r\nL 274.935878 387.72 \r\nL 274.935878 148.690213 \r\nL 267.920781 148.690213 \r\nz\r\n\" style=\"fill:#3572c6;opacity:0.4;stroke:#ffffff;stroke-linejoin:miter;stroke-width:0.2;\"/>\r\n   </g>\r\n   <g id=\"patch_29\">\r\n    <path clip-path=\"url(#p4c9557de5c)\" d=\"M 274.935878 387.72 \r\nL 281.950975 387.72 \r\nL 281.950975 103.283121 \r\nL 274.935878 103.283121 \r\nz\r\n\" style=\"fill:#3572c6;opacity:0.4;stroke:#ffffff;stroke-linejoin:miter;stroke-width:0.2;\"/>\r\n   </g>\r\n   <g id=\"patch_30\">\r\n    <path clip-path=\"url(#p4c9557de5c)\" d=\"M 281.950975 387.72 \r\nL 288.966072 387.72 \r\nL 288.966072 66.015035 \r\nL 281.950975 66.015035 \r\nz\r\n\" style=\"fill:#3572c6;opacity:0.4;stroke:#ffffff;stroke-linejoin:miter;stroke-width:0.2;\"/>\r\n   </g>\r\n   <g id=\"patch_31\">\r\n    <path clip-path=\"url(#p4c9557de5c)\" d=\"M 288.966072 387.72 \r\nL 295.981168 387.72 \r\nL 295.981168 136.267518 \r\nL 288.966072 136.267518 \r\nz\r\n\" style=\"fill:#3572c6;opacity:0.4;stroke:#ffffff;stroke-linejoin:miter;stroke-width:0.2;\"/>\r\n   </g>\r\n   <g id=\"patch_32\">\r\n    <path clip-path=\"url(#p4c9557de5c)\" d=\"M 295.981168 387.72 \r\nL 302.996265 387.72 \r\nL 302.996265 110.137021 \r\nL 295.981168 110.137021 \r\nz\r\n\" style=\"fill:#3572c6;opacity:0.4;stroke:#ffffff;stroke-linejoin:miter;stroke-width:0.2;\"/>\r\n   </g>\r\n   <g id=\"patch_33\">\r\n    <path clip-path=\"url(#p4c9557de5c)\" d=\"M 302.996265 387.72 \r\nL 310.011362 387.72 \r\nL 310.011362 89.14695 \r\nL 302.996265 89.14695 \r\nz\r\n\" style=\"fill:#3572c6;opacity:0.4;stroke:#ffffff;stroke-linejoin:miter;stroke-width:0.2;\"/>\r\n   </g>\r\n   <g id=\"patch_34\">\r\n    <path clip-path=\"url(#p4c9557de5c)\" d=\"M 310.011362 387.72 \r\nL 317.026459 387.72 \r\nL 317.026459 106.710071 \r\nL 310.011362 106.710071 \r\nz\r\n\" style=\"fill:#3572c6;opacity:0.4;stroke:#ffffff;stroke-linejoin:miter;stroke-width:0.2;\"/>\r\n   </g>\r\n   <g id=\"patch_35\">\r\n    <path clip-path=\"url(#p4c9557de5c)\" d=\"M 317.026459 387.72 \r\nL 324.041556 387.72 \r\nL 324.041556 70.298723 \r\nL 317.026459 70.298723 \r\nz\r\n\" style=\"fill:#3572c6;opacity:0.4;stroke:#ffffff;stroke-linejoin:miter;stroke-width:0.2;\"/>\r\n   </g>\r\n   <g id=\"patch_36\">\r\n    <path clip-path=\"url(#p4c9557de5c)\" d=\"M 324.041556 387.72 \r\nL 331.056652 387.72 \r\nL 331.056652 25.32 \r\nL 324.041556 25.32 \r\nz\r\n\" style=\"fill:#3572c6;opacity:0.4;stroke:#ffffff;stroke-linejoin:miter;stroke-width:0.2;\"/>\r\n   </g>\r\n   <g id=\"patch_37\">\r\n    <path clip-path=\"url(#p4c9557de5c)\" d=\"M 331.056652 387.72 \r\nL 338.071749 387.72 \r\nL 338.071749 121.27461 \r\nL 331.056652 121.27461 \r\nz\r\n\" style=\"fill:#3572c6;opacity:0.4;stroke:#ffffff;stroke-linejoin:miter;stroke-width:0.2;\"/>\r\n   </g>\r\n   <g id=\"patch_38\">\r\n    <path clip-path=\"url(#p4c9557de5c)\" d=\"M 338.071749 387.72 \r\nL 345.086846 387.72 \r\nL 345.086846 188.100142 \r\nL 338.071749 188.100142 \r\nz\r\n\" style=\"fill:#3572c6;opacity:0.4;stroke:#ffffff;stroke-linejoin:miter;stroke-width:0.2;\"/>\r\n   </g>\r\n   <g id=\"patch_39\">\r\n    <path clip-path=\"url(#p4c9557de5c)\" d=\"M 345.086846 387.72 \r\nL 352.101943 387.72 \r\nL 352.101943 142.69305 \r\nL 345.086846 142.69305 \r\nz\r\n\" style=\"fill:#3572c6;opacity:0.4;stroke:#ffffff;stroke-linejoin:miter;stroke-width:0.2;\"/>\r\n   </g>\r\n   <g id=\"patch_40\">\r\n    <path clip-path=\"url(#p4c9557de5c)\" d=\"M 352.101943 387.72 \r\nL 359.11704 387.72 \r\nL 359.11704 196.239149 \r\nL 352.101943 196.239149 \r\nz\r\n\" style=\"fill:#3572c6;opacity:0.4;stroke:#ffffff;stroke-linejoin:miter;stroke-width:0.2;\"/>\r\n   </g>\r\n   <g id=\"patch_41\">\r\n    <path clip-path=\"url(#p4c9557de5c)\" d=\"M 359.11704 387.72 \r\nL 366.132137 387.72 \r\nL 366.132137 49.737021 \r\nL 359.11704 49.737021 \r\nz\r\n\" style=\"fill:#3572c6;opacity:0.4;stroke:#ffffff;stroke-linejoin:miter;stroke-width:0.2;\"/>\r\n   </g>\r\n   <g id=\"patch_42\">\r\n    <path clip-path=\"url(#p4c9557de5c)\" d=\"M 366.132137 387.72 \r\nL 373.147233 387.72 \r\nL 373.147233 167.110071 \r\nL 366.132137 167.110071 \r\nz\r\n\" style=\"fill:#3572c6;opacity:0.4;stroke:#ffffff;stroke-linejoin:miter;stroke-width:0.2;\"/>\r\n   </g>\r\n   <g id=\"patch_43\">\r\n    <path clip-path=\"url(#p4c9557de5c)\" d=\"M 373.147233 387.72 \r\nL 380.16233 387.72 \r\nL 380.16233 197.952624 \r\nL 373.147233 197.952624 \r\nz\r\n\" style=\"fill:#3572c6;opacity:0.4;stroke:#ffffff;stroke-linejoin:miter;stroke-width:0.2;\"/>\r\n   </g>\r\n   <g id=\"patch_44\">\r\n    <path clip-path=\"url(#p4c9557de5c)\" d=\"M 380.16233 387.72 \r\nL 387.177427 387.72 \r\nL 387.177427 262.207943 \r\nL 380.16233 262.207943 \r\nz\r\n\" style=\"fill:#3572c6;opacity:0.4;stroke:#ffffff;stroke-linejoin:miter;stroke-width:0.2;\"/>\r\n   </g>\r\n   <g id=\"patch_45\">\r\n    <path clip-path=\"url(#p4c9557de5c)\" d=\"M 387.177427 387.72 \r\nL 394.192524 387.72 \r\nL 394.192524 320.03773 \r\nL 387.177427 320.03773 \r\nz\r\n\" style=\"fill:#3572c6;opacity:0.4;stroke:#ffffff;stroke-linejoin:miter;stroke-width:0.2;\"/>\r\n   </g>\r\n   <g id=\"patch_46\">\r\n    <path clip-path=\"url(#p4c9557de5c)\" d=\"M 394.192524 387.72 \r\nL 401.207621 387.72 \r\nL 401.207621 298.190922 \r\nL 394.192524 298.190922 \r\nz\r\n\" style=\"fill:#3572c6;opacity:0.4;stroke:#ffffff;stroke-linejoin:miter;stroke-width:0.2;\"/>\r\n   </g>\r\n   <g id=\"patch_47\">\r\n    <path clip-path=\"url(#p4c9557de5c)\" d=\"M 401.207621 387.72 \r\nL 408.222717 387.72 \r\nL 408.222717 326.463262 \r\nL 401.207621 326.463262 \r\nz\r\n\" style=\"fill:#3572c6;opacity:0.4;stroke:#ffffff;stroke-linejoin:miter;stroke-width:0.2;\"/>\r\n   </g>\r\n   <g id=\"patch_48\">\r\n    <path clip-path=\"url(#p4c9557de5c)\" d=\"M 408.222717 387.72 \r\nL 415.237814 387.72 \r\nL 415.237814 355.59234 \r\nL 408.222717 355.59234 \r\nz\r\n\" style=\"fill:#3572c6;opacity:0.4;stroke:#ffffff;stroke-linejoin:miter;stroke-width:0.2;\"/>\r\n   </g>\r\n   <g id=\"patch_49\">\r\n    <path clip-path=\"url(#p4c9557de5c)\" d=\"M 415.237814 387.72 \r\nL 422.252911 387.72 \r\nL 422.252911 338.02922 \r\nL 415.237814 338.02922 \r\nz\r\n\" style=\"fill:#3572c6;opacity:0.4;stroke:#ffffff;stroke-linejoin:miter;stroke-width:0.2;\"/>\r\n   </g>\r\n   <g id=\"patch_50\">\r\n    <path clip-path=\"url(#p4c9557de5c)\" d=\"M 422.252911 387.72 \r\nL 429.268008 387.72 \r\nL 429.268008 337.172482 \r\nL 422.252911 337.172482 \r\nz\r\n\" style=\"fill:#3572c6;opacity:0.4;stroke:#ffffff;stroke-linejoin:miter;stroke-width:0.2;\"/>\r\n   </g>\r\n   <g id=\"patch_51\">\r\n    <path clip-path=\"url(#p4c9557de5c)\" d=\"M 429.268008 387.72 \r\nL 436.283105 387.72 \r\nL 436.283105 385.149787 \r\nL 429.268008 385.149787 \r\nz\r\n\" style=\"fill:#3572c6;opacity:0.4;stroke:#ffffff;stroke-linejoin:miter;stroke-width:0.2;\"/>\r\n   </g>\r\n   <g id=\"patch_52\">\r\n    <path clip-path=\"url(#p4c9557de5c)\" d=\"M 436.283105 387.72 \r\nL 443.298201 387.72 \r\nL 443.298201 380.43773 \r\nL 436.283105 380.43773 \r\nz\r\n\" style=\"fill:#3572c6;opacity:0.4;stroke:#ffffff;stroke-linejoin:miter;stroke-width:0.2;\"/>\r\n   </g>\r\n   <g id=\"line2d_13\">\r\n    <path clip-path=\"url(#p4c9557de5c)\" d=\"M 65.01169 387.71478 \r\nL 87.379622 387.609286 \r\nL 106.552134 387.484037 \r\nL 109.747553 387.277366 \r\nL 112.942972 386.894256 \r\nL 116.13839 386.284618 \r\nL 119.333809 385.427009 \r\nL 122.529228 384.334737 \r\nL 125.724647 383.031964 \r\nL 128.920065 381.504162 \r\nL 132.115484 379.657454 \r\nL 135.310903 377.331515 \r\nL 138.506322 374.380356 \r\nL 141.70174 370.781207 \r\nL 151.287997 358.490691 \r\nL 154.483415 355.083972 \r\nL 157.678834 352.399077 \r\nL 160.874253 350.339748 \r\nL 164.069672 348.572517 \r\nL 167.26509 346.621021 \r\nL 170.460509 344.032905 \r\nL 173.655928 340.542796 \r\nL 176.851347 336.127943 \r\nL 180.046766 330.910416 \r\nL 183.242184 324.96828 \r\nL 186.437603 318.184739 \r\nL 189.633022 310.232635 \r\nL 192.828441 300.698532 \r\nL 196.023859 289.278143 \r\nL 199.219278 275.962894 \r\nL 202.414697 261.159526 \r\nL 208.805534 230.718278 \r\nL 212.000953 217.383428 \r\nL 215.196372 206.596626 \r\nL 218.391791 198.739628 \r\nL 221.587209 193.587376 \r\nL 224.782628 190.396836 \r\nL 231.173466 185.778822 \r\nL 234.368884 182.620612 \r\nL 237.564303 178.419024 \r\nL 240.759722 173.336144 \r\nL 243.955141 167.687196 \r\nL 250.345978 155.489139 \r\nL 256.736816 142.895491 \r\nL 259.932234 137.013898 \r\nL 263.127653 131.657841 \r\nL 266.323072 126.775969 \r\nL 269.518491 122.251135 \r\nL 272.713909 118.162519 \r\nL 275.909328 114.895138 \r\nL 279.104747 112.918752 \r\nL 282.300166 112.348503 \r\nL 285.495584 112.630378 \r\nL 288.691003 112.64911 \r\nL 291.886422 111.251683 \r\nL 295.081841 107.856956 \r\nL 298.277259 102.742545 \r\nL 301.472678 96.831675 \r\nL 304.668097 91.166278 \r\nL 307.863516 86.461131 \r\nL 311.058934 83.022502 \r\nL 314.254353 80.990553 \r\nL 317.449772 80.619613 \r\nL 320.645191 82.341358 \r\nL 323.840609 86.5795 \r\nL 327.036028 93.465672 \r\nL 330.231447 102.629706 \r\nL 336.622284 123.855365 \r\nL 339.817703 133.44179 \r\nL 343.013122 141.02493 \r\nL 346.208541 146.168938 \r\nL 349.403959 148.861347 \r\nL 352.599378 149.449609 \r\nL 358.990216 147.887061 \r\nL 362.185635 148.67797 \r\nL 365.381053 152.724527 \r\nL 368.576472 161.149636 \r\nL 371.771891 174.218623 \r\nL 374.96731 191.318492 \r\nL 378.162728 211.156221 \r\nL 384.553566 252.249943 \r\nL 387.748985 270.364843 \r\nL 390.944403 285.660526 \r\nL 394.139822 298.177754 \r\nL 397.335241 308.490383 \r\nL 400.53066 317.255907 \r\nL 403.726078 324.839498 \r\nL 406.921497 331.240101 \r\nL 410.116916 336.324501 \r\nL 413.312335 340.167696 \r\nL 419.703172 346.337956 \r\nL 422.898591 350.196374 \r\nL 426.09401 355.178126 \r\nL 429.289428 361.079299 \r\nL 432.484847 367.261972 \r\nL 435.680266 372.980977 \r\nL 438.875685 377.700255 \r\nL 442.071103 381.23264 \r\nL 445.266522 383.683121 \r\nL 448.461941 385.295893 \r\nL 451.65736 386.320977 \r\nL 454.852778 386.952666 \r\nL 458.048197 387.325761 \r\nL 464.439035 387.638759 \r\nL 470.829872 387.708118 \r\nL 470.829872 387.708118 \r\n\" style=\"fill:none;stroke:#3572c6;stroke-linecap:round;stroke-width:1.5;\"/>\r\n   </g>\r\n   <g id=\"patch_53\">\r\n    <path d=\"M 44.720781 387.72 \r\nL 44.720781 7.2 \r\n\" style=\"fill:none;stroke:#cccccc;stroke-linecap:square;stroke-linejoin:miter;stroke-width:1.4;\"/>\r\n   </g>\r\n   <g id=\"patch_54\">\r\n    <path d=\"M 491.120781 387.72 \r\nL 491.120781 7.2 \r\n\" style=\"fill:none;stroke:#cccccc;stroke-linecap:square;stroke-linejoin:miter;stroke-width:1.4;\"/>\r\n   </g>\r\n   <g id=\"patch_55\">\r\n    <path d=\"M 44.720781 387.72 \r\nL 491.120781 387.72 \r\n\" style=\"fill:none;stroke:#cccccc;stroke-linecap:square;stroke-linejoin:miter;stroke-width:1.4;\"/>\r\n   </g>\r\n   <g id=\"patch_56\">\r\n    <path d=\"M 44.720781 7.2 \r\nL 491.120781 7.2 \r\n\" style=\"fill:none;stroke:#cccccc;stroke-linecap:square;stroke-linejoin:miter;stroke-width:1.4;\"/>\r\n   </g>\r\n  </g>\r\n </g>\r\n <defs>\r\n  <clipPath id=\"p4c9557de5c\">\r\n   <rect height=\"380.52\" width=\"446.4\" x=\"44.720781\" y=\"7.2\"/>\r\n  </clipPath>\r\n </defs>\r\n</svg>\r\n",
      "image/png": "[encoded data removed]"
     },
     "metadata": {}
    }
   ],
   "source": [
    "sns.distplot(X['Temperature'])\n",
    "plt.show()"
   ]
  },
  {
   "cell_type": "code",
   "execution_count": 23,
   "metadata": {},
   "outputs": [],
   "source": [
    "X['Temperature'].fillna(X['Temperature'].median(), inplace=True)"
   ]
  },
  {
   "cell_type": "code",
   "execution_count": 24,
   "metadata": {},
   "outputs": [
    {
     "output_type": "execute_result",
     "data": {
      "text/plain": "         Order No  Distance (KM)  Temperature  Pickup Lat  Pickup Long  \\\n0   Order_No_4211              4         20.4   -1.317755    36.830370   \n1  Order_No_25375             16         26.4   -1.351453    36.899315   \n2   Order_No_1899              3         23.5   -1.308284    36.843419   \n3   Order_No_9336              9         19.2   -1.281301    36.832396   \n4  Order_No_27883              9         15.4   -1.266597    36.792118   \n\n   Destination Lat  Destination Long  No_Of_Orders   Age  Average_Rating  ...  \\\n0        -1.300406         36.829741          1637  1309            13.8  ...   \n1        -1.295004         36.814358           396   339            13.6  ...   \n2        -1.300921         36.828195          1023   242            12.5  ...   \n3        -1.257147         36.795063           886   283            14.5  ...   \n4        -1.295041         36.809817          2311   872            14.1  ...   \n\n   Pickup - Time_sin(hrs)  Pickup - Time_cos(hrs)  Pickup - Time_sin(mins)  \\\n0            5.000000e-01               -0.866025                 0.309017   \n1            2.588190e-01               -0.965926                -0.994522   \n2            1.224647e-16               -1.000000                -0.669131   \n3            7.071068e-01               -0.707107                -0.978148   \n4            5.000000e-01               -0.866025                 0.500000   \n\n   Pickup - Time_cos(mins)  Pickup - Time_sin(secs)  Pickup - Time_cos(secs)  \\\n0                -0.951057             1.224647e-16                -1.000000   \n1                -0.104528             8.090170e-01                 0.587785   \n2                 0.743145             3.090170e-01                 0.951057   \n3                -0.207912             5.877853e-01                 0.809017   \n4                 0.866025             6.691306e-01                -0.743145   \n\n   Arrival at Destination - Day of Month_sin(day)  \\\n0                                        0.968077   \n1                                        0.651372   \n2                                       -0.201299   \n3                                        0.101168   \n4                                        0.485302   \n\n   Arrival at Destination - Day of Month_cos(day)  \\\n0                                       -0.250653   \n1                                       -0.758758   \n2                                        0.979530   \n3                                       -0.994869   \n4                                       -0.874347   \n\n   Arrival at Destination - Weekday (Mo = 1)_sin(day)  \\\n0                                          -0.974928    \n1                                          -0.974928    \n2                                           0.974928    \n3                                          -0.974928    \n4                                           0.781831    \n\n   Arrival at Destination - Weekday (Mo = 1)_cos(day)  \n0                                          -0.222521   \n1                                          -0.222521   \n2                                          -0.222521   \n3                                          -0.222521   \n4                                           0.623490   \n\n[5 rows x 42 columns]",
      "text/html": "<div>\n<style scoped>\n    .dataframe tbody tr th:only-of-type {\n        vertical-align: middle;\n    }\n\n    .dataframe tbody tr th {\n        vertical-align: top;\n    }\n\n    .dataframe thead th {\n        text-align: right;\n    }\n</style>\n<table border=\"1\" class=\"dataframe\">\n  <thead>\n    <tr style=\"text-align: right;\">\n      <th></th>\n      <th>Order No</th>\n      <th>Distance (KM)</th>\n      <th>Temperature</th>\n      <th>Pickup Lat</th>\n      <th>Pickup Long</th>\n      <th>Destination Lat</th>\n      <th>Destination Long</th>\n      <th>No_Of_Orders</th>\n      <th>Age</th>\n      <th>Average_Rating</th>\n      <th>...</th>\n      <th>Pickup - Time_sin(hrs)</th>\n      <th>Pickup - Time_cos(hrs)</th>\n      <th>Pickup - Time_sin(mins)</th>\n      <th>Pickup - Time_cos(mins)</th>\n      <th>Pickup - Time_sin(secs)</th>\n      <th>Pickup - Time_cos(secs)</th>\n      <th>Arrival at Destination - Day of Month_sin(day)</th>\n      <th>Arrival at Destination - Day of Month_cos(day)</th>\n      <th>Arrival at Destination - Weekday (Mo = 1)_sin(day)</th>\n      <th>Arrival at Destination - Weekday (Mo = 1)_cos(day)</th>\n    </tr>\n  </thead>\n  <tbody>\n    <tr>\n      <th>0</th>\n      <td>Order_No_4211</td>\n      <td>4</td>\n      <td>20.4</td>\n      <td>-1.317755</td>\n      <td>36.830370</td>\n      <td>-1.300406</td>\n      <td>36.829741</td>\n      <td>1637</td>\n      <td>1309</td>\n      <td>13.8</td>\n      <td>...</td>\n      <td>5.000000e-01</td>\n      <td>-0.866025</td>\n      <td>0.309017</td>\n      <td>-0.951057</td>\n      <td>1.224647e-16</td>\n      <td>-1.000000</td>\n      <td>0.968077</td>\n      <td>-0.250653</td>\n      <td>-0.974928</td>\n      <td>-0.222521</td>\n    </tr>\n    <tr>\n      <th>1</th>\n      <td>Order_No_25375</td>\n      <td>16</td>\n      <td>26.4</td>\n      <td>-1.351453</td>\n      <td>36.899315</td>\n      <td>-1.295004</td>\n      <td>36.814358</td>\n      <td>396</td>\n      <td>339</td>\n      <td>13.6</td>\n      <td>...</td>\n      <td>2.588190e-01</td>\n      <td>-0.965926</td>\n      <td>-0.994522</td>\n      <td>-0.104528</td>\n      <td>8.090170e-01</td>\n      <td>0.587785</td>\n      <td>0.651372</td>\n      <td>-0.758758</td>\n      <td>-0.974928</td>\n      <td>-0.222521</td>\n    </tr>\n    <tr>\n      <th>2</th>\n      <td>Order_No_1899</td>\n      <td>3</td>\n      <td>23.5</td>\n      <td>-1.308284</td>\n      <td>36.843419</td>\n      <td>-1.300921</td>\n      <td>36.828195</td>\n      <td>1023</td>\n      <td>242</td>\n      <td>12.5</td>\n      <td>...</td>\n      <td>1.224647e-16</td>\n      <td>-1.000000</td>\n      <td>-0.669131</td>\n      <td>0.743145</td>\n      <td>3.090170e-01</td>\n      <td>0.951057</td>\n      <td>-0.201299</td>\n      <td>0.979530</td>\n      <td>0.974928</td>\n      <td>-0.222521</td>\n    </tr>\n    <tr>\n      <th>3</th>\n      <td>Order_No_9336</td>\n      <td>9</td>\n      <td>19.2</td>\n      <td>-1.281301</td>\n      <td>36.832396</td>\n      <td>-1.257147</td>\n      <td>36.795063</td>\n      <td>886</td>\n      <td>283</td>\n      <td>14.5</td>\n      <td>...</td>\n      <td>7.071068e-01</td>\n      <td>-0.707107</td>\n      <td>-0.978148</td>\n      <td>-0.207912</td>\n      <td>5.877853e-01</td>\n      <td>0.809017</td>\n      <td>0.101168</td>\n      <td>-0.994869</td>\n      <td>-0.974928</td>\n      <td>-0.222521</td>\n    </tr>\n    <tr>\n      <th>4</th>\n      <td>Order_No_27883</td>\n      <td>9</td>\n      <td>15.4</td>\n      <td>-1.266597</td>\n      <td>36.792118</td>\n      <td>-1.295041</td>\n      <td>36.809817</td>\n      <td>2311</td>\n      <td>872</td>\n      <td>14.1</td>\n      <td>...</td>\n      <td>5.000000e-01</td>\n      <td>-0.866025</td>\n      <td>0.500000</td>\n      <td>0.866025</td>\n      <td>6.691306e-01</td>\n      <td>-0.743145</td>\n      <td>0.485302</td>\n      <td>-0.874347</td>\n      <td>0.781831</td>\n      <td>0.623490</td>\n    </tr>\n  </tbody>\n</table>\n<p>5 rows × 42 columns</p>\n</div>"
     },
     "metadata": {},
     "execution_count": 24
    }
   ],
   "source": [
    "X.head(5)"
   ]
  },
  {
   "cell_type": "code",
   "execution_count": 25,
   "metadata": {},
   "outputs": [
    {
     "output_type": "stream",
     "name": "stdout",
     "text": "<class 'pandas.core.frame.DataFrame'>\nInt64Index: 21201 entries, 0 to 21200\nData columns (total 42 columns):\n #   Column                                              Non-Null Count  Dtype  \n---  ------                                              --------------  -----  \n 0   Order No                                            21201 non-null  object \n 1   Distance (KM)                                       21201 non-null  int64  \n 2   Temperature                                         21201 non-null  float64\n 3   Pickup Lat                                          21201 non-null  float64\n 4   Pickup Long                                         21201 non-null  float64\n 5   Destination Lat                                     21201 non-null  float64\n 6   Destination Long                                    21201 non-null  float64\n 7   No_Of_Orders                                        21201 non-null  int64  \n 8   Age                                                 21201 non-null  int64  \n 9   Average_Rating                                      21201 non-null  float64\n 10  No_of_Ratings                                       21201 non-null  int64  \n 11  Platform Type_3                                     21201 non-null  float64\n 12  Platform Type_4                                     21201 non-null  float64\n 13  Personal or Business_Personal                       21201 non-null  float64\n 14  Placement - Time_sin(hrs)                           21201 non-null  float64\n 15  Placement - Time_cos(hrs)                           21201 non-null  float64\n 16  Placement - Time_sin(mins)                          21201 non-null  float64\n 17  Placement - Time_cos(mins)                          21201 non-null  float64\n 18  Placement - Time_sin(secs)                          21201 non-null  float64\n 19  Placement - Time_cos(secs)                          21201 non-null  float64\n 20  Confirmation - Time_sin(hrs)                        21201 non-null  float64\n 21  Confirmation - Time_cos(hrs)                        21201 non-null  float64\n 22  Confirmation - Time_sin(mins)                       21201 non-null  float64\n 23  Confirmation - Time_cos(mins)                       21201 non-null  float64\n 24  Confirmation - Time_sin(secs)                       21201 non-null  float64\n 25  Confirmation - Time_cos(secs)                       21201 non-null  float64\n 26  Arrival at Pickup - Time_sin(hrs)                   21201 non-null  float64\n 27  Arrival at Pickup - Time_cos(hrs)                   21201 non-null  float64\n 28  Arrival at Pickup - Time_sin(mins)                  21201 non-null  float64\n 29  Arrival at Pickup - Time_cos(mins)                  21201 non-null  float64\n 30  Arrival at Pickup - Time_sin(secs)                  21201 non-null  float64\n 31  Arrival at Pickup - Time_cos(secs)                  21201 non-null  float64\n 32  Pickup - Time_sin(hrs)                              21201 non-null  float64\n 33  Pickup - Time_cos(hrs)                              21201 non-null  float64\n 34  Pickup - Time_sin(mins)                             21201 non-null  float64\n 35  Pickup - Time_cos(mins)                             21201 non-null  float64\n 36  Pickup - Time_sin(secs)                             21201 non-null  float64\n 37  Pickup - Time_cos(secs)                             21201 non-null  float64\n 38  Arrival at Destination - Day of Month_sin(day)      21201 non-null  float64\n 39  Arrival at Destination - Day of Month_cos(day)      21201 non-null  float64\n 40  Arrival at Destination - Weekday (Mo = 1)_sin(day)  21201 non-null  float64\n 41  Arrival at Destination - Weekday (Mo = 1)_cos(day)  21201 non-null  float64\ndtypes: float64(37), int64(4), object(1)\nmemory usage: 7.0+ MB\n"
    }
   ],
   "source": [
    "X.info()"
   ]
  },
  {
   "cell_type": "code",
   "execution_count": 26,
   "metadata": {},
   "outputs": [
    {
     "output_type": "error",
     "ename": "NameError",
     "evalue": "name 'cyclic_days' is not defined",
     "traceback": [
      "\u001b[1;31m---------------------------------------------------------------------------\u001b[0m",
      "\u001b[1;31mNameError\u001b[0m                                 Traceback (most recent call last)",
      "\u001b[1;32m<ipython-input-26-4a6d2ac7bbda>\u001b[0m in \u001b[0;36m<module>\u001b[1;34m\u001b[0m\n\u001b[1;32m----> 1\u001b[1;33m \u001b[0mcyclic_days\u001b[0m\u001b[1;33m(\u001b[0m\u001b[0mX\u001b[0m\u001b[1;33m,\u001b[0m \u001b[1;33m[\u001b[0m\u001b[1;34m'Placement - Day of Month'\u001b[0m\u001b[1;33m]\u001b[0m\u001b[1;33m,\u001b[0m \u001b[1;33m[\u001b[0m\u001b[1;34m'Placement - Weekday (Mo = 1)'\u001b[0m\u001b[1;33m]\u001b[0m\u001b[1;33m)\u001b[0m\u001b[1;33m.\u001b[0m\u001b[0mhead\u001b[0m\u001b[1;33m(\u001b[0m\u001b[1;33m)\u001b[0m\u001b[1;33m\u001b[0m\u001b[1;33m\u001b[0m\u001b[0m\n\u001b[0m",
      "\u001b[1;31mNameError\u001b[0m: name 'cyclic_days' is not defined"
     ]
    }
   ],
   "source": [
    "cyclic_days(X, ['Placement - Day of Month'], ['Placement - Weekday (Mo = 1)']).head()"
   ]
  },
  {
   "cell_type": "code",
   "execution_count": null,
   "metadata": {},
   "outputs": [],
   "source": []
  },
  {
   "cell_type": "code",
   "execution_count": 27,
   "metadata": {},
   "outputs": [],
   "source": [
    "def cyclic_time(input_df):\n",
    "        input_dfc = input_df.copy()\n",
    "\n",
    "        from datetime import datetime\n",
    "\n",
    "        for time_col in [col for col in input_df.columns if 'Time' in [col[-4:]]]:\n",
    "\n",
    "            input_dfc[time_col + '_sin(hrs)'] = input_df[time_col].apply(lambda time: np.sin(\\\n",
    "            (datetime.strptime(\\\n",
    "                str(datetime.strptime(time, '%I:%M:%S %p') - datetime(1900,1,1)), '%H:%M:%S')\\\n",
    "                ).hour * (2.*np.pi/24))\\\n",
    "                ) \n",
    "        \n",
    "            input_dfc[time_col + '_cos(hrs)'] = input_df[time_col].apply(lambda time: np.cos(\\\n",
    "            (datetime.strptime(\\\n",
    "                str(datetime.strptime(time, '%I:%M:%S %p') - datetime(1900,1,1)), '%H:%M:%S')\\\n",
    "                ).hour * (2.*np.pi/24))\\\n",
    "                ) \n",
    "\n",
    "            input_dfc[time_col + '_sin(mins)'] = input_df[time_col].apply(lambda time: np.sin(\\\n",
    "            (datetime.strptime(\\\n",
    "                str(datetime.strptime(time, '%I:%M:%S %p') - datetime(1900,1,1)), '%H:%M:%S')\\\n",
    "                ).minute * (2.*np.pi/60))\\\n",
    "                )\n",
    "\n",
    "            input_dfc[time_col + '_cos(mins)'] = input_df[time_col].apply(lambda time: np.cos(\\\n",
    "            (datetime.strptime(\\\n",
    "                str(datetime.strptime(time, '%I:%M:%S %p') - datetime(1900,1,1)), '%H:%M:%S')\\\n",
    "                ).minute * (2.*np.pi/60))\\\n",
    "                )  \n",
    "\n",
    "            input_dfc[time_col + '_sin(secs)'] = input_df[time_col].apply(lambda time: np.sin(\\\n",
    "            (datetime.strptime(\\\n",
    "                str(datetime.strptime(time, '%I:%M:%S %p') - datetime(1900,1,1)), '%H:%M:%S')\\\n",
    "                ).second * (2.*np.pi/60))\\\n",
    "                )\n",
    "\n",
    "            input_dfc[time_col + '_cos(secs)'] = input_df[time_col].apply(lambda time: np.cos(\\\n",
    "            (datetime.strptime(\\\n",
    "                str(datetime.strptime(time, '%I:%M:%S %p') - datetime(1900,1,1)), '%H:%M:%S')\\\n",
    "                ).second * (2.*np.pi/60))\\\n",
    "                )\n",
    "\n",
    "            input_dfc.drop(columns=[time_col], inplace=True)\n",
    "\n",
    "        return input_dfc\n"
   ]
  },
  {
   "cell_type": "code",
   "execution_count": 28,
   "metadata": {},
   "outputs": [
    {
     "output_type": "error",
     "ename": "NameError",
     "evalue": "name 'train_df' is not defined",
     "traceback": [
      "\u001b[1;31m---------------------------------------------------------------------------\u001b[0m",
      "\u001b[1;31mNameError\u001b[0m                                 Traceback (most recent call last)",
      "\u001b[1;32m<ipython-input-28-273ce53324e6>\u001b[0m in \u001b[0;36m<module>\u001b[1;34m\u001b[0m\n\u001b[1;32m----> 1\u001b[1;33m \u001b[0mcyclic_time\u001b[0m\u001b[1;33m(\u001b[0m\u001b[0mtrain_df\u001b[0m\u001b[1;33m)\u001b[0m\u001b[1;33m\u001b[0m\u001b[1;33m\u001b[0m\u001b[0m\n\u001b[0m",
      "\u001b[1;31mNameError\u001b[0m: name 'train_df' is not defined"
     ]
    }
   ],
   "source": [
    "cyclic_time(train_df)"
   ]
  },
  {
   "cell_type": "code",
   "execution_count": null,
   "metadata": {},
   "outputs": [],
   "source": []
  },
  {
   "cell_type": "code",
   "execution_count": 29,
   "metadata": {},
   "outputs": [],
   "source": [
    "def time_to_seconds(input_df):\n",
    "    input_dfc = input_df.copy()\n",
    "\n",
    "    from datetime import datetime\n",
    "\n",
    "    for time_col in [col for col in input_df.columns if 'Time' in [col[-4:]]]:\n",
    "\n",
    "        input_dfc[time_col] = input_df[time_col].apply(lambda time: (datetime.strptime(time, '%I:%M:%S %p') - datetime(1900,1,1)).total_seconds())\n",
    "\n",
    "    return input_dfc"
   ]
  },
  {
   "cell_type": "code",
   "execution_count": 30,
   "metadata": {},
   "outputs": [
    {
     "output_type": "error",
     "ename": "NameError",
     "evalue": "name 'train_df' is not defined",
     "traceback": [
      "\u001b[1;31m---------------------------------------------------------------------------\u001b[0m",
      "\u001b[1;31mNameError\u001b[0m                                 Traceback (most recent call last)",
      "\u001b[1;32m<ipython-input-30-2ecfe11b29cc>\u001b[0m in \u001b[0;36m<module>\u001b[1;34m\u001b[0m\n\u001b[1;32m----> 1\u001b[1;33m \u001b[0msec_df\u001b[0m \u001b[1;33m=\u001b[0m \u001b[0mtime_to_seconds\u001b[0m\u001b[1;33m(\u001b[0m\u001b[0mtrain_df\u001b[0m\u001b[1;33m)\u001b[0m\u001b[1;33m\u001b[0m\u001b[1;33m\u001b[0m\u001b[0m\n\u001b[0m\u001b[0;32m      2\u001b[0m \u001b[0msec_df\u001b[0m\u001b[1;33m.\u001b[0m\u001b[0mhead\u001b[0m\u001b[1;33m(\u001b[0m\u001b[1;33m)\u001b[0m\u001b[1;33m\u001b[0m\u001b[1;33m\u001b[0m\u001b[0m\n",
      "\u001b[1;31mNameError\u001b[0m: name 'train_df' is not defined"
     ]
    }
   ],
   "source": [
    "sec_df = time_to_seconds(train_df)\n",
    "sec_df.head()"
   ]
  },
  {
   "cell_type": "code",
   "execution_count": 31,
   "metadata": {},
   "outputs": [
    {
     "output_type": "error",
     "ename": "NameError",
     "evalue": "name 'sec_df' is not defined",
     "traceback": [
      "\u001b[1;31m---------------------------------------------------------------------------\u001b[0m",
      "\u001b[1;31mNameError\u001b[0m                                 Traceback (most recent call last)",
      "\u001b[1;32m<ipython-input-31-f20a600d4fe9>\u001b[0m in \u001b[0;36m<module>\u001b[1;34m\u001b[0m\n\u001b[1;32m----> 1\u001b[1;33m \u001b[0msum\u001b[0m\u001b[1;33m(\u001b[0m\u001b[1;33m(\u001b[0m\u001b[0msec_df\u001b[0m\u001b[1;33m[\u001b[0m\u001b[1;34m'Arrival at Destination - Time'\u001b[0m\u001b[1;33m]\u001b[0m \u001b[1;33m-\u001b[0m \u001b[0msec_df\u001b[0m\u001b[1;33m[\u001b[0m\u001b[1;34m'Pickup - Time'\u001b[0m\u001b[1;33m]\u001b[0m\u001b[1;33m)\u001b[0m \u001b[1;33m!=\u001b[0m \u001b[0msec_df\u001b[0m\u001b[1;33m[\u001b[0m\u001b[1;34m'Time from Pickup to Arrival'\u001b[0m\u001b[1;33m]\u001b[0m\u001b[1;33m)\u001b[0m\u001b[1;33m\u001b[0m\u001b[1;33m\u001b[0m\u001b[0m\n\u001b[0m",
      "\u001b[1;31mNameError\u001b[0m: name 'sec_df' is not defined"
     ]
    }
   ],
   "source": [
    "sum((sec_df['Arrival at Destination - Time'] - sec_df['Pickup - Time']) != sec_df['Time from Pickup to Arrival'])"
   ]
  },
  {
   "cell_type": "code",
   "execution_count": 32,
   "metadata": {},
   "outputs": [
    {
     "output_type": "error",
     "ename": "NameError",
     "evalue": "name 'train_df' is not defined",
     "traceback": [
      "\u001b[1;31m---------------------------------------------------------------------------\u001b[0m",
      "\u001b[1;31mNameError\u001b[0m                                 Traceback (most recent call last)",
      "\u001b[1;32m<ipython-input-32-68443ae3a171>\u001b[0m in \u001b[0;36m<module>\u001b[1;34m\u001b[0m\n\u001b[1;32m----> 1\u001b[1;33m \u001b[0mtimes_df\u001b[0m \u001b[1;33m=\u001b[0m \u001b[0mtrain_df\u001b[0m\u001b[1;33m[\u001b[0m\u001b[1;33m[\u001b[0m\u001b[0mcol\u001b[0m \u001b[1;32mfor\u001b[0m \u001b[0mcol\u001b[0m \u001b[1;32min\u001b[0m \u001b[0mtrain_df\u001b[0m\u001b[1;33m.\u001b[0m\u001b[0mcolumns\u001b[0m \u001b[1;32mif\u001b[0m \u001b[1;34m'Time'\u001b[0m \u001b[1;32min\u001b[0m \u001b[1;33m[\u001b[0m\u001b[0mcol\u001b[0m\u001b[1;33m[\u001b[0m\u001b[1;33m-\u001b[0m\u001b[1;36m4\u001b[0m\u001b[1;33m:\u001b[0m\u001b[1;33m]\u001b[0m\u001b[1;33m,\u001b[0m \u001b[0mcol\u001b[0m\u001b[1;33m[\u001b[0m\u001b[1;33m:\u001b[0m\u001b[1;36m4\u001b[0m\u001b[1;33m]\u001b[0m\u001b[1;33m]\u001b[0m\u001b[1;33m]\u001b[0m\u001b[1;33m]\u001b[0m\u001b[1;33m\u001b[0m\u001b[1;33m\u001b[0m\u001b[0m\n\u001b[0m\u001b[0;32m      2\u001b[0m \u001b[0mtimes_df\u001b[0m\u001b[1;33m\u001b[0m\u001b[1;33m\u001b[0m\u001b[0m\n",
      "\u001b[1;31mNameError\u001b[0m: name 'train_df' is not defined"
     ]
    }
   ],
   "source": [
    "times_df = train_df[[col for col in train_df.columns if 'Time' in [col[-4:], col[:4]]]]\n",
    "times_df"
   ]
  },
  {
   "cell_type": "code",
   "execution_count": 33,
   "metadata": {},
   "outputs": [
    {
     "output_type": "error",
     "ename": "NameError",
     "evalue": "name 'times_df' is not defined",
     "traceback": [
      "\u001b[1;31m---------------------------------------------------------------------------\u001b[0m",
      "\u001b[1;31mNameError\u001b[0m                                 Traceback (most recent call last)",
      "\u001b[1;32m<ipython-input-33-5099c79c96d2>\u001b[0m in \u001b[0;36m<module>\u001b[1;34m\u001b[0m\n\u001b[1;32m----> 1\u001b[1;33m \u001b[0mtime\u001b[0m \u001b[1;33m=\u001b[0m \u001b[0mtimes_df\u001b[0m\u001b[1;33m.\u001b[0m\u001b[0miloc\u001b[0m\u001b[1;33m[\u001b[0m\u001b[1;36m21200\u001b[0m\u001b[1;33m,\u001b[0m\u001b[1;36m0\u001b[0m\u001b[1;33m]\u001b[0m\u001b[1;33m\u001b[0m\u001b[1;33m\u001b[0m\u001b[0m\n\u001b[0m",
      "\u001b[1;31mNameError\u001b[0m: name 'times_df' is not defined"
     ]
    }
   ],
   "source": [
    "time = times_df.iloc[21200,0]"
   ]
  },
  {
   "cell_type": "code",
   "execution_count": 34,
   "metadata": {},
   "outputs": [
    {
     "output_type": "stream",
     "name": "stdout",
     "text": "Wall time: 0 ns\n"
    }
   ],
   "source": [
    "time"
   ]
  },
  {
   "cell_type": "code",
   "execution_count": 35,
   "metadata": {},
   "outputs": [
    {
     "output_type": "error",
     "ename": "NameError",
     "evalue": "name 'time' is not defined",
     "traceback": [
      "\u001b[1;31m---------------------------------------------------------------------------\u001b[0m",
      "\u001b[1;31mNameError\u001b[0m                                 Traceback (most recent call last)",
      "\u001b[1;32m<ipython-input-35-fc6b593e51e6>\u001b[0m in \u001b[0;36m<module>\u001b[1;34m\u001b[0m\n\u001b[1;32m----> 1\u001b[1;33m \u001b[0mtype\u001b[0m\u001b[1;33m(\u001b[0m\u001b[0mtime\u001b[0m\u001b[1;33m)\u001b[0m\u001b[1;33m\u001b[0m\u001b[1;33m\u001b[0m\u001b[0m\n\u001b[0m",
      "\u001b[1;31mNameError\u001b[0m: name 'time' is not defined"
     ]
    }
   ],
   "source": [
    "type(time)"
   ]
  },
  {
   "cell_type": "code",
   "execution_count": 36,
   "metadata": {},
   "outputs": [
    {
     "output_type": "error",
     "ename": "NameError",
     "evalue": "name 'time' is not defined",
     "traceback": [
      "\u001b[1;31m---------------------------------------------------------------------------\u001b[0m",
      "\u001b[1;31mNameError\u001b[0m                                 Traceback (most recent call last)",
      "\u001b[1;32m<ipython-input-36-5ce5d2cc8d60>\u001b[0m in \u001b[0;36m<module>\u001b[1;34m\u001b[0m\n\u001b[0;32m      1\u001b[0m \u001b[1;32mfrom\u001b[0m \u001b[0mdatetime\u001b[0m \u001b[1;32mimport\u001b[0m \u001b[0mdatetime\u001b[0m\u001b[1;33m\u001b[0m\u001b[1;33m\u001b[0m\u001b[0m\n\u001b[1;32m----> 2\u001b[1;33m \u001b[0mnew_time\u001b[0m \u001b[1;33m=\u001b[0m \u001b[0mdatetime\u001b[0m\u001b[1;33m.\u001b[0m\u001b[0mstrptime\u001b[0m\u001b[1;33m(\u001b[0m\u001b[0mtime\u001b[0m\u001b[1;33m,\u001b[0m \u001b[1;34m'%I:%M:%S %p'\u001b[0m\u001b[1;33m)\u001b[0m\u001b[1;33m\u001b[0m\u001b[1;33m\u001b[0m\u001b[0m\n\u001b[0m\u001b[0;32m      3\u001b[0m \u001b[0mnew_time\u001b[0m\u001b[1;33m\u001b[0m\u001b[1;33m\u001b[0m\u001b[0m\n",
      "\u001b[1;31mNameError\u001b[0m: name 'time' is not defined"
     ]
    }
   ],
   "source": [
    "from datetime import datetime\n",
    "new_time = datetime.strptime(time, '%I:%M:%S %p') \n",
    "new_time"
   ]
  },
  {
   "cell_type": "code",
   "execution_count": 37,
   "metadata": {},
   "outputs": [
    {
     "output_type": "error",
     "ename": "NameError",
     "evalue": "name 'new_time' is not defined",
     "traceback": [
      "\u001b[1;31m---------------------------------------------------------------------------\u001b[0m",
      "\u001b[1;31mNameError\u001b[0m                                 Traceback (most recent call last)",
      "\u001b[1;32m<ipython-input-37-1d5ba182caed>\u001b[0m in \u001b[0;36m<module>\u001b[1;34m\u001b[0m\n\u001b[1;32m----> 1\u001b[1;33m \u001b[1;33m(\u001b[0m\u001b[0mnew_time\u001b[0m \u001b[1;33m-\u001b[0m \u001b[0mdatetime\u001b[0m\u001b[1;33m(\u001b[0m\u001b[1;36m1900\u001b[0m\u001b[1;33m,\u001b[0m\u001b[1;36m1\u001b[0m\u001b[1;33m,\u001b[0m\u001b[1;36m1\u001b[0m\u001b[1;33m)\u001b[0m\u001b[1;33m)\u001b[0m\u001b[1;33m\u001b[0m\u001b[1;33m\u001b[0m\u001b[0m\n\u001b[0m",
      "\u001b[1;31mNameError\u001b[0m: name 'new_time' is not defined"
     ]
    }
   ],
   "source": [
    "(new_time - datetime(1900,1,1))"
   ]
  },
  {
   "cell_type": "code",
   "execution_count": 38,
   "metadata": {},
   "outputs": [
    {
     "output_type": "error",
     "ename": "NameError",
     "evalue": "name 'new_time' is not defined",
     "traceback": [
      "\u001b[1;31m---------------------------------------------------------------------------\u001b[0m",
      "\u001b[1;31mNameError\u001b[0m                                 Traceback (most recent call last)",
      "\u001b[1;32m<ipython-input-38-c685bf9d7bd3>\u001b[0m in \u001b[0;36m<module>\u001b[1;34m\u001b[0m\n\u001b[1;32m----> 1\u001b[1;33m \u001b[0mtype\u001b[0m\u001b[1;33m(\u001b[0m\u001b[1;33m(\u001b[0m\u001b[0mnew_time\u001b[0m \u001b[1;33m-\u001b[0m \u001b[0mdatetime\u001b[0m\u001b[1;33m(\u001b[0m\u001b[1;36m1900\u001b[0m\u001b[1;33m,\u001b[0m\u001b[1;36m1\u001b[0m\u001b[1;33m,\u001b[0m\u001b[1;36m1\u001b[0m\u001b[1;33m)\u001b[0m\u001b[1;33m)\u001b[0m\u001b[1;33m.\u001b[0m\u001b[0mtotal_seconds\u001b[0m\u001b[1;33m(\u001b[0m\u001b[1;33m)\u001b[0m\u001b[1;33m)\u001b[0m\u001b[1;33m\u001b[0m\u001b[1;33m\u001b[0m\u001b[0m\n\u001b[0m",
      "\u001b[1;31mNameError\u001b[0m: name 'new_time' is not defined"
     ]
    }
   ],
   "source": [
    "type((new_time - datetime(1900,1,1)).total_seconds())"
   ]
  },
  {
   "cell_type": "code",
   "execution_count": null,
   "metadata": {},
   "outputs": [],
   "source": []
  },
  {
   "cell_type": "code",
   "execution_count": null,
   "metadata": {},
   "outputs": [],
   "source": []
  },
  {
   "cell_type": "code",
   "execution_count": 39,
   "metadata": {},
   "outputs": [
    {
     "output_type": "stream",
     "name": "stdout",
     "text": "True\nTrue\n"
    }
   ],
   "source": [
    "print(set(dataset['User Id']) == set(dataset['User Id'].unique()))\n",
    "print(set(dataset['Order No']) == set(dataset['Order No'].unique()))"
   ]
  },
  {
   "cell_type": "code",
   "execution_count": null,
   "metadata": {},
   "outputs": [],
   "source": []
  },
  {
   "cell_type": "code",
   "execution_count": null,
   "metadata": {},
   "outputs": [],
   "source": []
  },
  {
   "cell_type": "code",
   "execution_count": null,
   "metadata": {},
   "outputs": [],
   "source": []
  },
  {
   "cell_type": "code",
   "execution_count": null,
   "metadata": {},
   "outputs": [],
   "source": []
  },
  {
   "cell_type": "code",
   "execution_count": 22,
   "metadata": {},
   "outputs": [],
   "source": []
  },
  {
   "cell_type": "code",
   "execution_count": 40,
   "metadata": {},
   "outputs": [
    {
     "output_type": "execute_result",
     "data": {
      "text/plain": "       Rider Id  No_Of_Orders   Age  Average_Rating  No_of_Ratings\n0  Rider_Id_396          2946  2298            14.0           1159\n1  Rider_Id_479           360   951            13.5            176\n2  Rider_Id_648          1746   821            14.3            466\n3  Rider_Id_753           314   980            12.5             75\n4  Rider_Id_335           536  1113            13.7            156",
      "text/html": "<div>\n<style scoped>\n    .dataframe tbody tr th:only-of-type {\n        vertical-align: middle;\n    }\n\n    .dataframe tbody tr th {\n        vertical-align: top;\n    }\n\n    .dataframe thead th {\n        text-align: right;\n    }\n</style>\n<table border=\"1\" class=\"dataframe\">\n  <thead>\n    <tr style=\"text-align: right;\">\n      <th></th>\n      <th>Rider Id</th>\n      <th>No_Of_Orders</th>\n      <th>Age</th>\n      <th>Average_Rating</th>\n      <th>No_of_Ratings</th>\n    </tr>\n  </thead>\n  <tbody>\n    <tr>\n      <th>0</th>\n      <td>Rider_Id_396</td>\n      <td>2946</td>\n      <td>2298</td>\n      <td>14.0</td>\n      <td>1159</td>\n    </tr>\n    <tr>\n      <th>1</th>\n      <td>Rider_Id_479</td>\n      <td>360</td>\n      <td>951</td>\n      <td>13.5</td>\n      <td>176</td>\n    </tr>\n    <tr>\n      <th>2</th>\n      <td>Rider_Id_648</td>\n      <td>1746</td>\n      <td>821</td>\n      <td>14.3</td>\n      <td>466</td>\n    </tr>\n    <tr>\n      <th>3</th>\n      <td>Rider_Id_753</td>\n      <td>314</td>\n      <td>980</td>\n      <td>12.5</td>\n      <td>75</td>\n    </tr>\n    <tr>\n      <th>4</th>\n      <td>Rider_Id_335</td>\n      <td>536</td>\n      <td>1113</td>\n      <td>13.7</td>\n      <td>156</td>\n    </tr>\n  </tbody>\n</table>\n</div>"
     },
     "metadata": {},
     "execution_count": 40
    }
   ],
   "source": [
    "riders.head()"
   ]
  },
  {
   "cell_type": "code",
   "execution_count": 41,
   "metadata": {},
   "outputs": [
    {
     "output_type": "stream",
     "name": "stdout",
     "text": "<class 'pandas.core.frame.DataFrame'>\nInt64Index: 21201 entries, 0 to 21200\nData columns (total 42 columns):\n #   Column                                              Non-Null Count  Dtype  \n---  ------                                              --------------  -----  \n 0   Order No                                            21201 non-null  object \n 1   Distance (KM)                                       21201 non-null  int64  \n 2   Temperature                                         21201 non-null  float64\n 3   Pickup Lat                                          21201 non-null  float64\n 4   Pickup Long                                         21201 non-null  float64\n 5   Destination Lat                                     21201 non-null  float64\n 6   Destination Long                                    21201 non-null  float64\n 7   No_Of_Orders                                        21201 non-null  int64  \n 8   Age                                                 21201 non-null  int64  \n 9   Average_Rating                                      21201 non-null  float64\n 10  No_of_Ratings                                       21201 non-null  int64  \n 11  Platform Type_3                                     21201 non-null  float64\n 12  Platform Type_4                                     21201 non-null  float64\n 13  Personal or Business_Personal                       21201 non-null  float64\n 14  Placement - Time_sin(hrs)                           21201 non-null  float64\n 15  Placement - Time_cos(hrs)                           21201 non-null  float64\n 16  Placement - Time_sin(mins)                          21201 non-null  float64\n 17  Placement - Time_cos(mins)                          21201 non-null  float64\n 18  Placement - Time_sin(secs)                          21201 non-null  float64\n 19  Placement - Time_cos(secs)                          21201 non-null  float64\n 20  Confirmation - Time_sin(hrs)                        21201 non-null  float64\n 21  Confirmation - Time_cos(hrs)                        21201 non-null  float64\n 22  Confirmation - Time_sin(mins)                       21201 non-null  float64\n 23  Confirmation - Time_cos(mins)                       21201 non-null  float64\n 24  Confirmation - Time_sin(secs)                       21201 non-null  float64\n 25  Confirmation - Time_cos(secs)                       21201 non-null  float64\n 26  Arrival at Pickup - Time_sin(hrs)                   21201 non-null  float64\n 27  Arrival at Pickup - Time_cos(hrs)                   21201 non-null  float64\n 28  Arrival at Pickup - Time_sin(mins)                  21201 non-null  float64\n 29  Arrival at Pickup - Time_cos(mins)                  21201 non-null  float64\n 30  Arrival at Pickup - Time_sin(secs)                  21201 non-null  float64\n 31  Arrival at Pickup - Time_cos(secs)                  21201 non-null  float64\n 32  Pickup - Time_sin(hrs)                              21201 non-null  float64\n 33  Pickup - Time_cos(hrs)                              21201 non-null  float64\n 34  Pickup - Time_sin(mins)                             21201 non-null  float64\n 35  Pickup - Time_cos(mins)                             21201 non-null  float64\n 36  Pickup - Time_sin(secs)                             21201 non-null  float64\n 37  Pickup - Time_cos(secs)                             21201 non-null  float64\n 38  Arrival at Destination - Day of Month_sin(day)      21201 non-null  float64\n 39  Arrival at Destination - Day of Month_cos(day)      21201 non-null  float64\n 40  Arrival at Destination - Weekday (Mo = 1)_sin(day)  21201 non-null  float64\n 41  Arrival at Destination - Weekday (Mo = 1)_cos(day)  21201 non-null  float64\ndtypes: float64(37), int64(4), object(1)\nmemory usage: 7.0+ MB\n"
    }
   ],
   "source": [
    "X.info()"
   ]
  },
  {
   "cell_type": "code",
   "execution_count": 42,
   "metadata": {},
   "outputs": [],
   "source": [
    "sample = pd.read_csv('SampleSubmission.csv')"
   ]
  },
  {
   "cell_type": "code",
   "execution_count": 43,
   "metadata": {},
   "outputs": [
    {
     "output_type": "execute_result",
     "data": {
      "text/plain": "            Order_No  Time from Pickup to Arrival\n0     Order_No_19248                        567.0\n1     Order_No_12736                       4903.0\n2       Order_No_768                       5649.0\n3     Order_No_15332                          NaN\n4     Order_No_21373                          NaN\n...              ...                          ...\n7063   Order_No_3612                          NaN\n7064   Order_No_7657                          NaN\n7065   Order_No_1969                          NaN\n7066  Order_No_10591                          NaN\n7067   Order_No_1603                          NaN\n\n[7068 rows x 2 columns]",
      "text/html": "<div>\n<style scoped>\n    .dataframe tbody tr th:only-of-type {\n        vertical-align: middle;\n    }\n\n    .dataframe tbody tr th {\n        vertical-align: top;\n    }\n\n    .dataframe thead th {\n        text-align: right;\n    }\n</style>\n<table border=\"1\" class=\"dataframe\">\n  <thead>\n    <tr style=\"text-align: right;\">\n      <th></th>\n      <th>Order_No</th>\n      <th>Time from Pickup to Arrival</th>\n    </tr>\n  </thead>\n  <tbody>\n    <tr>\n      <th>0</th>\n      <td>Order_No_19248</td>\n      <td>567.0</td>\n    </tr>\n    <tr>\n      <th>1</th>\n      <td>Order_No_12736</td>\n      <td>4903.0</td>\n    </tr>\n    <tr>\n      <th>2</th>\n      <td>Order_No_768</td>\n      <td>5649.0</td>\n    </tr>\n    <tr>\n      <th>3</th>\n      <td>Order_No_15332</td>\n      <td>NaN</td>\n    </tr>\n    <tr>\n      <th>4</th>\n      <td>Order_No_21373</td>\n      <td>NaN</td>\n    </tr>\n    <tr>\n      <th>...</th>\n      <td>...</td>\n      <td>...</td>\n    </tr>\n    <tr>\n      <th>7063</th>\n      <td>Order_No_3612</td>\n      <td>NaN</td>\n    </tr>\n    <tr>\n      <th>7064</th>\n      <td>Order_No_7657</td>\n      <td>NaN</td>\n    </tr>\n    <tr>\n      <th>7065</th>\n      <td>Order_No_1969</td>\n      <td>NaN</td>\n    </tr>\n    <tr>\n      <th>7066</th>\n      <td>Order_No_10591</td>\n      <td>NaN</td>\n    </tr>\n    <tr>\n      <th>7067</th>\n      <td>Order_No_1603</td>\n      <td>NaN</td>\n    </tr>\n  </tbody>\n</table>\n<p>7068 rows × 2 columns</p>\n</div>"
     },
     "metadata": {},
     "execution_count": 43
    }
   ],
   "source": [
    "sample"
   ]
  },
  {
   "cell_type": "code",
   "execution_count": 44,
   "metadata": {},
   "outputs": [],
   "source": [
    "finaltest = pd.read_csv(\"Test.csv\")"
   ]
  },
  {
   "cell_type": "code",
   "execution_count": 45,
   "metadata": {},
   "outputs": [
    {
     "output_type": "execute_result",
     "data": {
      "text/plain": "            Order No       User Id Vehicle Type  Platform Type  \\\n0     Order_No_19248  User_Id_3355         Bike              3   \n1     Order_No_12736  User_Id_3647         Bike              3   \n2       Order_No_768  User_Id_2154         Bike              3   \n3     Order_No_15332  User_Id_2910         Bike              3   \n4     Order_No_21373  User_Id_1205         Bike              3   \n...              ...           ...          ...            ...   \n7063   Order_No_3612  User_Id_2587         Bike              3   \n7064   Order_No_7657  User_Id_3547         Bike              3   \n7065   Order_No_1969   User_Id_136         Bike              3   \n7066  Order_No_10591  User_Id_1979         Bike              3   \n7067   Order_No_1603  User_Id_1721         Bike              3   \n\n     Personal or Business  Placement - Day of Month  \\\n0                Business                        27   \n1                Business                        17   \n2                Business                        27   \n3                Business                        17   \n4                Business                        11   \n...                   ...                       ...   \n7063             Business                         7   \n7064             Business                        10   \n7065             Business                         5   \n7066             Personal                        29   \n7067             Business                         4   \n\n      Placement - Weekday (Mo = 1) Placement - Time  \\\n0                                3       4:44:10 PM   \n1                                5      12:57:35 PM   \n2                                4      11:08:14 AM   \n3                                1       1:51:35 PM   \n4                                2      11:30:28 AM   \n...                            ...              ...   \n7063                             1      10:35:49 AM   \n7064                             3       2:59:42 PM   \n7065                             3       2:45:12 PM   \n7066                             2       3:18:26 PM   \n7067                             2       3:37:09 PM   \n\n      Confirmation - Day of Month  Confirmation - Weekday (Mo = 1)  ...  \\\n0                              27                                3  ...   \n1                              17                                5  ...   \n2                              27                                4  ...   \n3                              17                                1  ...   \n4                              11                                2  ...   \n...                           ...                              ...  ...   \n7063                            7                                1  ...   \n7064                           10                                3  ...   \n7065                            5                                3  ...   \n7066                           29                                2  ...   \n7067                            4                                2  ...   \n\n     Pickup - Weekday (Mo = 1)  Pickup - Time  Distance (KM) Temperature  \\\n0                            3     5:06:47 PM              8         NaN   \n1                            5     1:25:37 PM              5         NaN   \n2                            4    11:57:54 AM              5        22.8   \n3                            1     2:16:52 PM              5        24.5   \n4                            2    11:56:04 AM              6        24.4   \n...                        ...            ...            ...         ...   \n7063                         1    10:48:18 AM              5        24.8   \n7064                         3     3:21:44 PM             22        30.7   \n7065                         3     3:07:52 PM             10        25.1   \n7066                         2     3:46:35 PM             18        23.6   \n7067                         2     4:04:43 PM              8        22.3   \n\n      Precipitation in millimeters  Pickup Lat Pickup Long  Destination Lat  \\\n0                              NaN   -1.333275   36.870815        -1.305249   \n1                              NaN   -1.272639   36.794723        -1.277007   \n2                              NaN   -1.290894   36.822971        -1.276574   \n3                              NaN   -1.290503   36.809646        -1.303382   \n4                              NaN   -1.281081   36.814423        -1.266467   \n...                            ...         ...         ...              ...   \n7063                           NaN   -1.258414   36.804800        -1.288780   \n7064                           NaN   -1.276141   36.771084        -1.316098   \n7065                           NaN   -1.301446   36.766138        -1.264960   \n7066                           NaN   -1.248404   36.678276        -1.272027   \n7067                           NaN   -1.255189   36.782203        -1.300406   \n\n      Destination Long      Rider Id  \n0            36.822390  Rider_Id_192  \n1            36.823907  Rider_Id_868  \n2            36.851365   Rider_Id_26  \n3            36.790658  Rider_Id_685  \n4            36.792161  Rider_Id_858  \n...                ...           ...  \n7063         36.816831  Rider_Id_362  \n7064         36.913164  Rider_Id_669  \n7065         36.798178  Rider_Id_379  \n7066         36.817411  Rider_Id_474  \n7067         36.829741   Rider_Id_76  \n\n[7068 rows x 25 columns]",
      "text/html": "<div>\n<style scoped>\n    .dataframe tbody tr th:only-of-type {\n        vertical-align: middle;\n    }\n\n    .dataframe tbody tr th {\n        vertical-align: top;\n    }\n\n    .dataframe thead th {\n        text-align: right;\n    }\n</style>\n<table border=\"1\" class=\"dataframe\">\n  <thead>\n    <tr style=\"text-align: right;\">\n      <th></th>\n      <th>Order No</th>\n      <th>User Id</th>\n      <th>Vehicle Type</th>\n      <th>Platform Type</th>\n      <th>Personal or Business</th>\n      <th>Placement - Day of Month</th>\n      <th>Placement - Weekday (Mo = 1)</th>\n      <th>Placement - Time</th>\n      <th>Confirmation - Day of Month</th>\n      <th>Confirmation - Weekday (Mo = 1)</th>\n      <th>...</th>\n      <th>Pickup - Weekday (Mo = 1)</th>\n      <th>Pickup - Time</th>\n      <th>Distance (KM)</th>\n      <th>Temperature</th>\n      <th>Precipitation in millimeters</th>\n      <th>Pickup Lat</th>\n      <th>Pickup Long</th>\n      <th>Destination Lat</th>\n      <th>Destination Long</th>\n      <th>Rider Id</th>\n    </tr>\n  </thead>\n  <tbody>\n    <tr>\n      <th>0</th>\n      <td>Order_No_19248</td>\n      <td>User_Id_3355</td>\n      <td>Bike</td>\n      <td>3</td>\n      <td>Business</td>\n      <td>27</td>\n      <td>3</td>\n      <td>4:44:10 PM</td>\n      <td>27</td>\n      <td>3</td>\n      <td>...</td>\n      <td>3</td>\n      <td>5:06:47 PM</td>\n      <td>8</td>\n      <td>NaN</td>\n      <td>NaN</td>\n      <td>-1.333275</td>\n      <td>36.870815</td>\n      <td>-1.305249</td>\n      <td>36.822390</td>\n      <td>Rider_Id_192</td>\n    </tr>\n    <tr>\n      <th>1</th>\n      <td>Order_No_12736</td>\n      <td>User_Id_3647</td>\n      <td>Bike</td>\n      <td>3</td>\n      <td>Business</td>\n      <td>17</td>\n      <td>5</td>\n      <td>12:57:35 PM</td>\n      <td>17</td>\n      <td>5</td>\n      <td>...</td>\n      <td>5</td>\n      <td>1:25:37 PM</td>\n      <td>5</td>\n      <td>NaN</td>\n      <td>NaN</td>\n      <td>-1.272639</td>\n      <td>36.794723</td>\n      <td>-1.277007</td>\n      <td>36.823907</td>\n      <td>Rider_Id_868</td>\n    </tr>\n    <tr>\n      <th>2</th>\n      <td>Order_No_768</td>\n      <td>User_Id_2154</td>\n      <td>Bike</td>\n      <td>3</td>\n      <td>Business</td>\n      <td>27</td>\n      <td>4</td>\n      <td>11:08:14 AM</td>\n      <td>27</td>\n      <td>4</td>\n      <td>...</td>\n      <td>4</td>\n      <td>11:57:54 AM</td>\n      <td>5</td>\n      <td>22.8</td>\n      <td>NaN</td>\n      <td>-1.290894</td>\n      <td>36.822971</td>\n      <td>-1.276574</td>\n      <td>36.851365</td>\n      <td>Rider_Id_26</td>\n    </tr>\n    <tr>\n      <th>3</th>\n      <td>Order_No_15332</td>\n      <td>User_Id_2910</td>\n      <td>Bike</td>\n      <td>3</td>\n      <td>Business</td>\n      <td>17</td>\n      <td>1</td>\n      <td>1:51:35 PM</td>\n      <td>17</td>\n      <td>1</td>\n      <td>...</td>\n      <td>1</td>\n      <td>2:16:52 PM</td>\n      <td>5</td>\n      <td>24.5</td>\n      <td>NaN</td>\n      <td>-1.290503</td>\n      <td>36.809646</td>\n      <td>-1.303382</td>\n      <td>36.790658</td>\n      <td>Rider_Id_685</td>\n    </tr>\n    <tr>\n      <th>4</th>\n      <td>Order_No_21373</td>\n      <td>User_Id_1205</td>\n      <td>Bike</td>\n      <td>3</td>\n      <td>Business</td>\n      <td>11</td>\n      <td>2</td>\n      <td>11:30:28 AM</td>\n      <td>11</td>\n      <td>2</td>\n      <td>...</td>\n      <td>2</td>\n      <td>11:56:04 AM</td>\n      <td>6</td>\n      <td>24.4</td>\n      <td>NaN</td>\n      <td>-1.281081</td>\n      <td>36.814423</td>\n      <td>-1.266467</td>\n      <td>36.792161</td>\n      <td>Rider_Id_858</td>\n    </tr>\n    <tr>\n      <th>...</th>\n      <td>...</td>\n      <td>...</td>\n      <td>...</td>\n      <td>...</td>\n      <td>...</td>\n      <td>...</td>\n      <td>...</td>\n      <td>...</td>\n      <td>...</td>\n      <td>...</td>\n      <td>...</td>\n      <td>...</td>\n      <td>...</td>\n      <td>...</td>\n      <td>...</td>\n      <td>...</td>\n      <td>...</td>\n      <td>...</td>\n      <td>...</td>\n      <td>...</td>\n      <td>...</td>\n    </tr>\n    <tr>\n      <th>7063</th>\n      <td>Order_No_3612</td>\n      <td>User_Id_2587</td>\n      <td>Bike</td>\n      <td>3</td>\n      <td>Business</td>\n      <td>7</td>\n      <td>1</td>\n      <td>10:35:49 AM</td>\n      <td>7</td>\n      <td>1</td>\n      <td>...</td>\n      <td>1</td>\n      <td>10:48:18 AM</td>\n      <td>5</td>\n      <td>24.8</td>\n      <td>NaN</td>\n      <td>-1.258414</td>\n      <td>36.804800</td>\n      <td>-1.288780</td>\n      <td>36.816831</td>\n      <td>Rider_Id_362</td>\n    </tr>\n    <tr>\n      <th>7064</th>\n      <td>Order_No_7657</td>\n      <td>User_Id_3547</td>\n      <td>Bike</td>\n      <td>3</td>\n      <td>Business</td>\n      <td>10</td>\n      <td>3</td>\n      <td>2:59:42 PM</td>\n      <td>10</td>\n      <td>3</td>\n      <td>...</td>\n      <td>3</td>\n      <td>3:21:44 PM</td>\n      <td>22</td>\n      <td>30.7</td>\n      <td>NaN</td>\n      <td>-1.276141</td>\n      <td>36.771084</td>\n      <td>-1.316098</td>\n      <td>36.913164</td>\n      <td>Rider_Id_669</td>\n    </tr>\n    <tr>\n      <th>7065</th>\n      <td>Order_No_1969</td>\n      <td>User_Id_136</td>\n      <td>Bike</td>\n      <td>3</td>\n      <td>Business</td>\n      <td>5</td>\n      <td>3</td>\n      <td>2:45:12 PM</td>\n      <td>5</td>\n      <td>3</td>\n      <td>...</td>\n      <td>3</td>\n      <td>3:07:52 PM</td>\n      <td>10</td>\n      <td>25.1</td>\n      <td>NaN</td>\n      <td>-1.301446</td>\n      <td>36.766138</td>\n      <td>-1.264960</td>\n      <td>36.798178</td>\n      <td>Rider_Id_379</td>\n    </tr>\n    <tr>\n      <th>7066</th>\n      <td>Order_No_10591</td>\n      <td>User_Id_1979</td>\n      <td>Bike</td>\n      <td>3</td>\n      <td>Personal</td>\n      <td>29</td>\n      <td>2</td>\n      <td>3:18:26 PM</td>\n      <td>29</td>\n      <td>2</td>\n      <td>...</td>\n      <td>2</td>\n      <td>3:46:35 PM</td>\n      <td>18</td>\n      <td>23.6</td>\n      <td>NaN</td>\n      <td>-1.248404</td>\n      <td>36.678276</td>\n      <td>-1.272027</td>\n      <td>36.817411</td>\n      <td>Rider_Id_474</td>\n    </tr>\n    <tr>\n      <th>7067</th>\n      <td>Order_No_1603</td>\n      <td>User_Id_1721</td>\n      <td>Bike</td>\n      <td>3</td>\n      <td>Business</td>\n      <td>4</td>\n      <td>2</td>\n      <td>3:37:09 PM</td>\n      <td>4</td>\n      <td>2</td>\n      <td>...</td>\n      <td>2</td>\n      <td>4:04:43 PM</td>\n      <td>8</td>\n      <td>22.3</td>\n      <td>NaN</td>\n      <td>-1.255189</td>\n      <td>36.782203</td>\n      <td>-1.300406</td>\n      <td>36.829741</td>\n      <td>Rider_Id_76</td>\n    </tr>\n  </tbody>\n</table>\n<p>7068 rows × 25 columns</p>\n</div>"
     },
     "metadata": {},
     "execution_count": 45
    }
   ],
   "source": [
    "finaltest"
   ]
  },
  {
   "cell_type": "code",
   "execution_count": 46,
   "metadata": {},
   "outputs": [
    {
     "output_type": "execute_result",
     "data": {
      "text/plain": "21201"
     },
     "metadata": {},
     "execution_count": 46
    }
   ],
   "source": [
    "len(dataset['Order No'].unique())"
   ]
  },
  {
   "cell_type": "code",
   "execution_count": null,
   "metadata": {},
   "outputs": [],
   "source": []
  }
 ],
 "metadata": {
  "colab": {
   "authorship_tag": "ABX9TyMuW28rZFUbkQlqjGk0nZFk",
   "collapsed_sections": [],
   "include_colab_link": true,
   "name": "sam_regression.ipynb",
   "provenance": []
  },
  "kernelspec": {
   "display_name": "Python 3",
   "language": "python",
   "name": "python3"
  },
  "language_info": {
   "codemirror_mode": {
    "name": "ipython",
    "version": 3
   },
   "file_extension": ".py",
   "mimetype": "text/x-python",
   "name": "python",
   "nbconvert_exporter": "python",
   "pygments_lexer": "ipython3",
   "version": "3.7.3-final"
  }
 },
 "nbformat": 4,
 "nbformat_minor": 1
}