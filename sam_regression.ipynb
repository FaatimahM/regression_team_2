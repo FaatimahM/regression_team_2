{
  "cells": [
    {
      "cell_type": "code",
      "metadata": {
        "id": "f91Zqmwdm7pw",
        "colab_type": "code",
        "colab": {}
      },
      "source": [
        "# For Sam"
      ],
      "execution_count": 0,
      "outputs": []
    },
    {
      "cell_type": "code",
      "execution_count": 117,
      "metadata": {},
      "outputs": [],
      "source": [
        "import pandas as pd\n",
        "import numpy as np"
      ]
    },
    {
      "cell_type": "markdown",
      "metadata": {},
      "source": [
        "loading the dataset"
      ]
    },
    {
      "cell_type": "code",
      "execution_count": 118,
      "metadata": {},
      "outputs": [],
      "source": [
        "dataset = pd.read_csv(\"Train.csv\")"
      ]
    },
    {
      "cell_type": "markdown",
      "metadata": {},
      "source": [
        "Checking it out"
      ]
    },
    {
      "cell_type": "code",
      "execution_count": 119,
      "metadata": {},
      "outputs": [
        {
          "output_type": "execute_result",
          "data": {
            "text/plain": "         Order No       User Id Vehicle Type  Platform Type  \\\n0   Order_No_4211   User_Id_633         Bike              3   \n1  Order_No_25375  User_Id_2285         Bike              3   \n2   Order_No_1899   User_Id_265         Bike              3   \n3   Order_No_9336  User_Id_1402         Bike              3   \n4  Order_No_27883  User_Id_1737         Bike              1   \n\n  Personal or Business  Placement - Day of Month  \\\n0             Business                         9   \n1             Personal                        12   \n2             Business                        30   \n3             Business                        15   \n4             Personal                        13   \n\n   Placement - Weekday (Mo = 1) Placement - Time  Confirmation - Day of Month  \\\n0                             5       9:35:46 AM                            9   \n1                             5      11:16:16 AM                           12   \n2                             2      12:39:25 PM                           30   \n3                             5       9:25:34 AM                           15   \n4                             1       9:55:18 AM                           13   \n\n   Confirmation - Weekday (Mo = 1)  ... Arrival at Destination - Time  \\\n0                                5  ...                   10:39:55 AM   \n1                                5  ...                   12:17:22 PM   \n2                                2  ...                    1:00:38 PM   \n3                                5  ...                   10:05:27 AM   \n4                                1  ...                   10:25:37 AM   \n\n   Distance (KM)  Temperature Precipitation in millimeters  Pickup Lat  \\\n0              4         20.4                          NaN   -1.317755   \n1             16         26.4                          NaN   -1.351453   \n2              3          NaN                          NaN   -1.308284   \n3              9         19.2                          NaN   -1.281301   \n4              9         15.4                          NaN   -1.266597   \n\n   Pickup Long Destination Lat  Destination Long      Rider Id  \\\n0    36.830370       -1.300406         36.829741  Rider_Id_432   \n1    36.899315       -1.295004         36.814358  Rider_Id_856   \n2    36.843419       -1.300921         36.828195  Rider_Id_155   \n3    36.832396       -1.257147         36.795063  Rider_Id_855   \n4    36.792118       -1.295041         36.809817  Rider_Id_770   \n\n  Time from Pickup to Arrival  \n0                         745  \n1                        1993  \n2                         455  \n3                        1341  \n4                        1214  \n\n[5 rows x 29 columns]",
            "text/html": "<div>\n<style scoped>\n    .dataframe tbody tr th:only-of-type {\n        vertical-align: middle;\n    }\n\n    .dataframe tbody tr th {\n        vertical-align: top;\n    }\n\n    .dataframe thead th {\n        text-align: right;\n    }\n</style>\n<table border=\"1\" class=\"dataframe\">\n  <thead>\n    <tr style=\"text-align: right;\">\n      <th></th>\n      <th>Order No</th>\n      <th>User Id</th>\n      <th>Vehicle Type</th>\n      <th>Platform Type</th>\n      <th>Personal or Business</th>\n      <th>Placement - Day of Month</th>\n      <th>Placement - Weekday (Mo = 1)</th>\n      <th>Placement - Time</th>\n      <th>Confirmation - Day of Month</th>\n      <th>Confirmation - Weekday (Mo = 1)</th>\n      <th>...</th>\n      <th>Arrival at Destination - Time</th>\n      <th>Distance (KM)</th>\n      <th>Temperature</th>\n      <th>Precipitation in millimeters</th>\n      <th>Pickup Lat</th>\n      <th>Pickup Long</th>\n      <th>Destination Lat</th>\n      <th>Destination Long</th>\n      <th>Rider Id</th>\n      <th>Time from Pickup to Arrival</th>\n    </tr>\n  </thead>\n  <tbody>\n    <tr>\n      <th>0</th>\n      <td>Order_No_4211</td>\n      <td>User_Id_633</td>\n      <td>Bike</td>\n      <td>3</td>\n      <td>Business</td>\n      <td>9</td>\n      <td>5</td>\n      <td>9:35:46 AM</td>\n      <td>9</td>\n      <td>5</td>\n      <td>...</td>\n      <td>10:39:55 AM</td>\n      <td>4</td>\n      <td>20.4</td>\n      <td>NaN</td>\n      <td>-1.317755</td>\n      <td>36.830370</td>\n      <td>-1.300406</td>\n      <td>36.829741</td>\n      <td>Rider_Id_432</td>\n      <td>745</td>\n    </tr>\n    <tr>\n      <th>1</th>\n      <td>Order_No_25375</td>\n      <td>User_Id_2285</td>\n      <td>Bike</td>\n      <td>3</td>\n      <td>Personal</td>\n      <td>12</td>\n      <td>5</td>\n      <td>11:16:16 AM</td>\n      <td>12</td>\n      <td>5</td>\n      <td>...</td>\n      <td>12:17:22 PM</td>\n      <td>16</td>\n      <td>26.4</td>\n      <td>NaN</td>\n      <td>-1.351453</td>\n      <td>36.899315</td>\n      <td>-1.295004</td>\n      <td>36.814358</td>\n      <td>Rider_Id_856</td>\n      <td>1993</td>\n    </tr>\n    <tr>\n      <th>2</th>\n      <td>Order_No_1899</td>\n      <td>User_Id_265</td>\n      <td>Bike</td>\n      <td>3</td>\n      <td>Business</td>\n      <td>30</td>\n      <td>2</td>\n      <td>12:39:25 PM</td>\n      <td>30</td>\n      <td>2</td>\n      <td>...</td>\n      <td>1:00:38 PM</td>\n      <td>3</td>\n      <td>NaN</td>\n      <td>NaN</td>\n      <td>-1.308284</td>\n      <td>36.843419</td>\n      <td>-1.300921</td>\n      <td>36.828195</td>\n      <td>Rider_Id_155</td>\n      <td>455</td>\n    </tr>\n    <tr>\n      <th>3</th>\n      <td>Order_No_9336</td>\n      <td>User_Id_1402</td>\n      <td>Bike</td>\n      <td>3</td>\n      <td>Business</td>\n      <td>15</td>\n      <td>5</td>\n      <td>9:25:34 AM</td>\n      <td>15</td>\n      <td>5</td>\n      <td>...</td>\n      <td>10:05:27 AM</td>\n      <td>9</td>\n      <td>19.2</td>\n      <td>NaN</td>\n      <td>-1.281301</td>\n      <td>36.832396</td>\n      <td>-1.257147</td>\n      <td>36.795063</td>\n      <td>Rider_Id_855</td>\n      <td>1341</td>\n    </tr>\n    <tr>\n      <th>4</th>\n      <td>Order_No_27883</td>\n      <td>User_Id_1737</td>\n      <td>Bike</td>\n      <td>1</td>\n      <td>Personal</td>\n      <td>13</td>\n      <td>1</td>\n      <td>9:55:18 AM</td>\n      <td>13</td>\n      <td>1</td>\n      <td>...</td>\n      <td>10:25:37 AM</td>\n      <td>9</td>\n      <td>15.4</td>\n      <td>NaN</td>\n      <td>-1.266597</td>\n      <td>36.792118</td>\n      <td>-1.295041</td>\n      <td>36.809817</td>\n      <td>Rider_Id_770</td>\n      <td>1214</td>\n    </tr>\n  </tbody>\n</table>\n<p>5 rows × 29 columns</p>\n</div>"
          },
          "metadata": {},
          "execution_count": 119
        }
      ],
      "source": [
        "dataset.head()"
      ]
    },
    {
      "cell_type": "code",
      "execution_count": 120,
      "metadata": {},
      "outputs": [
        {
          "output_type": "execute_result",
          "data": {
            "text/plain": "Index(['Order No', 'User Id', 'Vehicle Type', 'Platform Type',\n       'Personal or Business', 'Placement - Day of Month',\n       'Placement - Weekday (Mo = 1)', 'Placement - Time',\n       'Confirmation - Day of Month', 'Confirmation - Weekday (Mo = 1)',\n       'Confirmation - Time', 'Arrival at Pickup - Day of Month',\n       'Arrival at Pickup - Weekday (Mo = 1)', 'Arrival at Pickup - Time',\n       'Pickup - Day of Month', 'Pickup - Weekday (Mo = 1)', 'Pickup - Time',\n       'Arrival at Destination - Day of Month',\n       'Arrival at Destination - Weekday (Mo = 1)',\n       'Arrival at Destination - Time', 'Distance (KM)', 'Temperature',\n       'Precipitation in millimeters', 'Pickup Lat', 'Pickup Long',\n       'Destination Lat', 'Destination Long', 'Rider Id',\n       'Time from Pickup to Arrival'],\n      dtype='object')"
          },
          "metadata": {},
          "execution_count": 120
        }
      ],
      "source": [
        "dataset.columns"
      ]
    },
    {
      "cell_type": "code",
      "execution_count": 142,
      "metadata": {},
      "outputs": [],
      "source": [
        "### START FUNCTION\n",
        "def cleaner(input_df, threshold, similarity_threshold):\n",
        "    input_dfc = input_df.copy()\n",
        "    \n",
        "    x = 0 # this will count the number of columns dropped\n",
        "\n",
        "    #######################################################################################################################\n",
        "    # The Code below drops columns that have null values exceeding threshold and Columns that have ONLY one value\n",
        "    for col in input_df.columns:\n",
        "        if (sum(input_df[col].isnull())*100/len(input_df[col]) > threshold) or (len(input_df[col].unique()) == 1):\n",
        "            if (sum(input_df[col].isnull())*100/len(input_df[col]) > threshold):\n",
        "                print(f'Dropping \"{col}\" column for null values exceeding {threshold}%')\n",
        "            else:\n",
        "                print(f'Dropping \"{col}\" column for only having 1 value: {dataset[col].unique()[0]}')\n",
        "            input_dfc.drop(columns=[col], inplace=True) \n",
        "            x += 1\n",
        "    ########################################################################################################################\n",
        "\n",
        "    ########################################################################################################################\n",
        "    # This code drops columns that are similarity_threshold% similar\n",
        "    input_dfc2 = input_dfc.copy()\n",
        "    for col in input_dfc.columns:\n",
        "        for second_col in [x for x in input_dfc2.columns if x != col]:\n",
        "            if col in input_dfc2.columns and sum(input_dfc2[col] == input_dfc2[second_col])*100/len(input_dfc2[col]) > similarity_threshold:\n",
        "                print(f'Dropping \"{col}\" column because it is {similarity_threshold}% similar to {second_col} to avoid colinearity')\n",
        "                input_dfc2.drop(columns=[col], inplace=True) \n",
        "                x += 1\n",
        "    print(f\"Total of {x} columns dropped \\n\")  \n",
        "    print([x for x in input_df.columns if x not in input_dfc2])\n",
        "    ########################################################################################################################\n",
        "\n",
        "    ########################################################################################################################\n",
        "    # This code converts time given by am and pm into seconds\n",
        "    def time_to_seconds(input_df):\n",
        "        input_dfc = input_df.copy()\n",
        "\n",
        "        from datetime import datetime\n",
        "\n",
        "        for time_col in [col for col in input_df.columns if 'Time' in [col[-4:]]]:\n",
        "\n",
        "            input_dfc[time_col] = input_df[time_col].apply(lambda time: (datetime.strptime(time, '%I:%M:%S %p') - datetime(1900,1,1)).total_seconds())\n",
        "\n",
        "        return input_dfc\n",
        "\n",
        "    input_dfc2 = time_to_seconds(input_dfc2)\n",
        "    ########################################################################################################################\n",
        "    \n",
        "    return input_dfc2\n",
        "\n",
        "### END FUNCTION"
      ]
    },
    {
      "cell_type": "code",
      "execution_count": 143,
      "metadata": {},
      "outputs": [
        {
          "output_type": "stream",
          "name": "stdout",
          "text": "Dropping \"Vehicle Type\" column for only having 1 value: Bike\nDropping \"Precipitation in millimeters\" column for null values exceeding 40%\nDropping \"Placement - Day of Month\" column because it is 90% similar to Confirmation - Day of Month to avoid colinearity\nDropping \"Placement - Weekday (Mo = 1)\" column because it is 90% similar to Confirmation - Weekday (Mo = 1) to avoid colinearity\nDropping \"Confirmation - Day of Month\" column because it is 90% similar to Arrival at Pickup - Day of Month to avoid colinearity\nDropping \"Confirmation - Weekday (Mo = 1)\" column because it is 90% similar to Arrival at Pickup - Weekday (Mo = 1) to avoid colinearity\nDropping \"Arrival at Pickup - Day of Month\" column because it is 90% similar to Pickup - Day of Month to avoid colinearity\nDropping \"Arrival at Pickup - Weekday (Mo = 1)\" column because it is 90% similar to Pickup - Weekday (Mo = 1) to avoid colinearity\nDropping \"Pickup - Day of Month\" column because it is 90% similar to Arrival at Destination - Day of Month to avoid colinearity\nDropping \"Pickup - Weekday (Mo = 1)\" column because it is 90% similar to Arrival at Destination - Weekday (Mo = 1) to avoid colinearity\nTotal of 10 columns dropped \n\n['Vehicle Type', 'Placement - Day of Month', 'Placement - Weekday (Mo = 1)', 'Confirmation - Day of Month', 'Confirmation - Weekday (Mo = 1)', 'Arrival at Pickup - Day of Month', 'Arrival at Pickup - Weekday (Mo = 1)', 'Pickup - Day of Month', 'Pickup - Weekday (Mo = 1)', 'Precipitation in millimeters']\n"
        }
      ],
      "source": [
        "train_df = drop_columns(dataset, 40, 90)"
      ]
    },
    {
      "cell_type": "code",
      "execution_count": 144,
      "metadata": {},
      "outputs": [
        {
          "output_type": "execute_result",
          "data": {
            "text/plain": "             Order No       User Id  Platform Type Personal or Business  \\\n0       Order_No_4211   User_Id_633              3             Business   \n1      Order_No_25375  User_Id_2285              3             Personal   \n2       Order_No_1899   User_Id_265              3             Business   \n3       Order_No_9336  User_Id_1402              3             Business   \n4      Order_No_27883  User_Id_1737              1             Personal   \n...               ...           ...            ...                  ...   \n21196   Order_No_8834  User_Id_2001              3             Personal   \n21197  Order_No_22892  User_Id_1796              3             Business   \n21198   Order_No_2831  User_Id_2956              3             Business   \n21199   Order_No_6174  User_Id_2524              1             Personal   \n21200   Order_No_9836   User_Id_718              3             Business   \n\n       Placement - Time  Confirmation - Time  Arrival at Pickup - Time  \\\n0               34546.0              34810.0                   36287.0   \n1               40576.0              41001.0                   42022.0   \n2               45565.0              45764.0                   46174.0   \n3               33934.0              33965.0                   34676.0   \n4               35718.0              35778.0                   36233.0   \n...                 ...                  ...                       ...   \n21196           57278.0              57309.0                   57529.0   \n21197           36814.0              36821.0                   37204.0   \n21198           61576.0              61629.0                   63017.0   \n21199           34299.0              34313.0                   34739.0   \n21200           51587.0              51601.0                   51869.0   \n\n       Pickup - Time  Arrival at Destination - Day of Month  \\\n0            37650.0                                      9   \n1            42249.0                                     12   \n2            46383.0                                     30   \n3            34986.0                                     15   \n4            36323.0                                     13   \n...              ...                                    ...   \n21196        58808.0                                     20   \n21197        38007.0                                     13   \n21198        64252.0                                      7   \n21199        35115.0                                      4   \n21200        52915.0                                     26   \n\n       Arrival at Destination - Weekday (Mo = 1)  \\\n0                                              5   \n1                                              5   \n2                                              2   \n3                                              5   \n4                                              1   \n...                                          ...   \n21196                                          3   \n21197                                          6   \n21198                                          4   \n21199                                          3   \n21200                                          2   \n\n       Arrival at Destination - Time  Distance (KM)  Temperature  Pickup Lat  \\\n0                            38395.0              4         20.4   -1.317755   \n1                            44242.0             16         26.4   -1.351453   \n2                            46838.0              3          NaN   -1.308284   \n3                            36327.0              9         19.2   -1.281301   \n4                            37537.0              9         15.4   -1.266597   \n...                              ...            ...          ...         ...   \n21196                        58817.0              3         28.6   -1.258414   \n21197                        38777.0              7         26.0   -1.307143   \n21198                        67205.0             20         29.2   -1.286018   \n21199                        36495.0             13         15.0   -1.250030   \n21200                        55043.0             12         30.9   -1.255189   \n\n       Pickup Long  Destination Lat  Destination Long      Rider Id  \\\n0        36.830370        -1.300406         36.829741  Rider_Id_432   \n1        36.899315        -1.295004         36.814358  Rider_Id_856   \n2        36.843419        -1.300921         36.828195  Rider_Id_155   \n3        36.832396        -1.257147         36.795063  Rider_Id_855   \n4        36.792118        -1.295041         36.809817  Rider_Id_770   \n...            ...              ...               ...           ...   \n21196    36.804800        -1.275285         36.802702  Rider_Id_953   \n21197    36.825009        -1.331619         36.847976  Rider_Id_155   \n21198    36.897534        -1.258414         36.804800  Rider_Id_697   \n21199    36.874167        -1.279209         36.794872  Rider_Id_347   \n21200    36.782203        -1.320157         36.830887  Rider_Id_177   \n\n       Time from Pickup to Arrival  \n0                              745  \n1                             1993  \n2                              455  \n3                             1341  \n4                             1214  \n...                            ...  \n21196                            9  \n21197                          770  \n21198                         2953  \n21199                         1380  \n21200                         2128  \n\n[21201 rows x 19 columns]",
            "text/html": "<div>\n<style scoped>\n    .dataframe tbody tr th:only-of-type {\n        vertical-align: middle;\n    }\n\n    .dataframe tbody tr th {\n        vertical-align: top;\n    }\n\n    .dataframe thead th {\n        text-align: right;\n    }\n</style>\n<table border=\"1\" class=\"dataframe\">\n  <thead>\n    <tr style=\"text-align: right;\">\n      <th></th>\n      <th>Order No</th>\n      <th>User Id</th>\n      <th>Platform Type</th>\n      <th>Personal or Business</th>\n      <th>Placement - Time</th>\n      <th>Confirmation - Time</th>\n      <th>Arrival at Pickup - Time</th>\n      <th>Pickup - Time</th>\n      <th>Arrival at Destination - Day of Month</th>\n      <th>Arrival at Destination - Weekday (Mo = 1)</th>\n      <th>Arrival at Destination - Time</th>\n      <th>Distance (KM)</th>\n      <th>Temperature</th>\n      <th>Pickup Lat</th>\n      <th>Pickup Long</th>\n      <th>Destination Lat</th>\n      <th>Destination Long</th>\n      <th>Rider Id</th>\n      <th>Time from Pickup to Arrival</th>\n    </tr>\n  </thead>\n  <tbody>\n    <tr>\n      <th>0</th>\n      <td>Order_No_4211</td>\n      <td>User_Id_633</td>\n      <td>3</td>\n      <td>Business</td>\n      <td>34546.0</td>\n      <td>34810.0</td>\n      <td>36287.0</td>\n      <td>37650.0</td>\n      <td>9</td>\n      <td>5</td>\n      <td>38395.0</td>\n      <td>4</td>\n      <td>20.4</td>\n      <td>-1.317755</td>\n      <td>36.830370</td>\n      <td>-1.300406</td>\n      <td>36.829741</td>\n      <td>Rider_Id_432</td>\n      <td>745</td>\n    </tr>\n    <tr>\n      <th>1</th>\n      <td>Order_No_25375</td>\n      <td>User_Id_2285</td>\n      <td>3</td>\n      <td>Personal</td>\n      <td>40576.0</td>\n      <td>41001.0</td>\n      <td>42022.0</td>\n      <td>42249.0</td>\n      <td>12</td>\n      <td>5</td>\n      <td>44242.0</td>\n      <td>16</td>\n      <td>26.4</td>\n      <td>-1.351453</td>\n      <td>36.899315</td>\n      <td>-1.295004</td>\n      <td>36.814358</td>\n      <td>Rider_Id_856</td>\n      <td>1993</td>\n    </tr>\n    <tr>\n      <th>2</th>\n      <td>Order_No_1899</td>\n      <td>User_Id_265</td>\n      <td>3</td>\n      <td>Business</td>\n      <td>45565.0</td>\n      <td>45764.0</td>\n      <td>46174.0</td>\n      <td>46383.0</td>\n      <td>30</td>\n      <td>2</td>\n      <td>46838.0</td>\n      <td>3</td>\n      <td>NaN</td>\n      <td>-1.308284</td>\n      <td>36.843419</td>\n      <td>-1.300921</td>\n      <td>36.828195</td>\n      <td>Rider_Id_155</td>\n      <td>455</td>\n    </tr>\n    <tr>\n      <th>3</th>\n      <td>Order_No_9336</td>\n      <td>User_Id_1402</td>\n      <td>3</td>\n      <td>Business</td>\n      <td>33934.0</td>\n      <td>33965.0</td>\n      <td>34676.0</td>\n      <td>34986.0</td>\n      <td>15</td>\n      <td>5</td>\n      <td>36327.0</td>\n      <td>9</td>\n      <td>19.2</td>\n      <td>-1.281301</td>\n      <td>36.832396</td>\n      <td>-1.257147</td>\n      <td>36.795063</td>\n      <td>Rider_Id_855</td>\n      <td>1341</td>\n    </tr>\n    <tr>\n      <th>4</th>\n      <td>Order_No_27883</td>\n      <td>User_Id_1737</td>\n      <td>1</td>\n      <td>Personal</td>\n      <td>35718.0</td>\n      <td>35778.0</td>\n      <td>36233.0</td>\n      <td>36323.0</td>\n      <td>13</td>\n      <td>1</td>\n      <td>37537.0</td>\n      <td>9</td>\n      <td>15.4</td>\n      <td>-1.266597</td>\n      <td>36.792118</td>\n      <td>-1.295041</td>\n      <td>36.809817</td>\n      <td>Rider_Id_770</td>\n      <td>1214</td>\n    </tr>\n    <tr>\n      <th>...</th>\n      <td>...</td>\n      <td>...</td>\n      <td>...</td>\n      <td>...</td>\n      <td>...</td>\n      <td>...</td>\n      <td>...</td>\n      <td>...</td>\n      <td>...</td>\n      <td>...</td>\n      <td>...</td>\n      <td>...</td>\n      <td>...</td>\n      <td>...</td>\n      <td>...</td>\n      <td>...</td>\n      <td>...</td>\n      <td>...</td>\n      <td>...</td>\n    </tr>\n    <tr>\n      <th>21196</th>\n      <td>Order_No_8834</td>\n      <td>User_Id_2001</td>\n      <td>3</td>\n      <td>Personal</td>\n      <td>57278.0</td>\n      <td>57309.0</td>\n      <td>57529.0</td>\n      <td>58808.0</td>\n      <td>20</td>\n      <td>3</td>\n      <td>58817.0</td>\n      <td>3</td>\n      <td>28.6</td>\n      <td>-1.258414</td>\n      <td>36.804800</td>\n      <td>-1.275285</td>\n      <td>36.802702</td>\n      <td>Rider_Id_953</td>\n      <td>9</td>\n    </tr>\n    <tr>\n      <th>21197</th>\n      <td>Order_No_22892</td>\n      <td>User_Id_1796</td>\n      <td>3</td>\n      <td>Business</td>\n      <td>36814.0</td>\n      <td>36821.0</td>\n      <td>37204.0</td>\n      <td>38007.0</td>\n      <td>13</td>\n      <td>6</td>\n      <td>38777.0</td>\n      <td>7</td>\n      <td>26.0</td>\n      <td>-1.307143</td>\n      <td>36.825009</td>\n      <td>-1.331619</td>\n      <td>36.847976</td>\n      <td>Rider_Id_155</td>\n      <td>770</td>\n    </tr>\n    <tr>\n      <th>21198</th>\n      <td>Order_No_2831</td>\n      <td>User_Id_2956</td>\n      <td>3</td>\n      <td>Business</td>\n      <td>61576.0</td>\n      <td>61629.0</td>\n      <td>63017.0</td>\n      <td>64252.0</td>\n      <td>7</td>\n      <td>4</td>\n      <td>67205.0</td>\n      <td>20</td>\n      <td>29.2</td>\n      <td>-1.286018</td>\n      <td>36.897534</td>\n      <td>-1.258414</td>\n      <td>36.804800</td>\n      <td>Rider_Id_697</td>\n      <td>2953</td>\n    </tr>\n    <tr>\n      <th>21199</th>\n      <td>Order_No_6174</td>\n      <td>User_Id_2524</td>\n      <td>1</td>\n      <td>Personal</td>\n      <td>34299.0</td>\n      <td>34313.0</td>\n      <td>34739.0</td>\n      <td>35115.0</td>\n      <td>4</td>\n      <td>3</td>\n      <td>36495.0</td>\n      <td>13</td>\n      <td>15.0</td>\n      <td>-1.250030</td>\n      <td>36.874167</td>\n      <td>-1.279209</td>\n      <td>36.794872</td>\n      <td>Rider_Id_347</td>\n      <td>1380</td>\n    </tr>\n    <tr>\n      <th>21200</th>\n      <td>Order_No_9836</td>\n      <td>User_Id_718</td>\n      <td>3</td>\n      <td>Business</td>\n      <td>51587.0</td>\n      <td>51601.0</td>\n      <td>51869.0</td>\n      <td>52915.0</td>\n      <td>26</td>\n      <td>2</td>\n      <td>55043.0</td>\n      <td>12</td>\n      <td>30.9</td>\n      <td>-1.255189</td>\n      <td>36.782203</td>\n      <td>-1.320157</td>\n      <td>36.830887</td>\n      <td>Rider_Id_177</td>\n      <td>2128</td>\n    </tr>\n  </tbody>\n</table>\n<p>21201 rows × 19 columns</p>\n</div>"
          },
          "metadata": {},
          "execution_count": 144
        }
      ],
      "source": [
        "train_df"
      ]
    },
    {
      "cell_type": "code",
      "execution_count": null,
      "metadata": {},
      "outputs": [],
      "source": []
    },
    {
      "cell_type": "code",
      "execution_count": 134,
      "metadata": {},
      "outputs": [],
      "source": [
        "def time_to_seconds(input_df):\n",
        "    input_dfc = input_df.copy()\n",
        "\n",
        "    from datetime import datetime\n",
        "\n",
        "    for time_col in [col for col in input_df.columns if 'Time' in [col[-4:]]]:\n",
        "\n",
        "        input_dfc[time_col] = input_df[time_col].apply(lambda time: (datetime.strptime(time, '%I:%M:%S %p') - datetime(1900,1,1)).total_seconds())\n",
        "\n",
        "    return input_dfc"
      ]
    },
    {
      "cell_type": "code",
      "execution_count": 135,
      "metadata": {},
      "outputs": [
        {
          "output_type": "execute_result",
          "data": {
            "text/plain": "             Order No       User Id  Platform Type Personal or Business  \\\n0       Order_No_4211   User_Id_633              3             Business   \n1      Order_No_25375  User_Id_2285              3             Personal   \n2       Order_No_1899   User_Id_265              3             Business   \n3       Order_No_9336  User_Id_1402              3             Business   \n4      Order_No_27883  User_Id_1737              1             Personal   \n...               ...           ...            ...                  ...   \n21196   Order_No_8834  User_Id_2001              3             Personal   \n21197  Order_No_22892  User_Id_1796              3             Business   \n21198   Order_No_2831  User_Id_2956              3             Business   \n21199   Order_No_6174  User_Id_2524              1             Personal   \n21200   Order_No_9836   User_Id_718              3             Business   \n\n       Placement - Time  Confirmation - Time  Arrival at Pickup - Time  \\\n0               34546.0              34810.0                   36287.0   \n1               40576.0              41001.0                   42022.0   \n2               45565.0              45764.0                   46174.0   \n3               33934.0              33965.0                   34676.0   \n4               35718.0              35778.0                   36233.0   \n...                 ...                  ...                       ...   \n21196           57278.0              57309.0                   57529.0   \n21197           36814.0              36821.0                   37204.0   \n21198           61576.0              61629.0                   63017.0   \n21199           34299.0              34313.0                   34739.0   \n21200           51587.0              51601.0                   51869.0   \n\n       Pickup - Time  Arrival at Destination - Day of Month  \\\n0            37650.0                                      9   \n1            42249.0                                     12   \n2            46383.0                                     30   \n3            34986.0                                     15   \n4            36323.0                                     13   \n...              ...                                    ...   \n21196        58808.0                                     20   \n21197        38007.0                                     13   \n21198        64252.0                                      7   \n21199        35115.0                                      4   \n21200        52915.0                                     26   \n\n       Arrival at Destination - Weekday (Mo = 1)  \\\n0                                              5   \n1                                              5   \n2                                              2   \n3                                              5   \n4                                              1   \n...                                          ...   \n21196                                          3   \n21197                                          6   \n21198                                          4   \n21199                                          3   \n21200                                          2   \n\n       Arrival at Destination - Time  Distance (KM)  Temperature  Pickup Lat  \\\n0                            38395.0              4         20.4   -1.317755   \n1                            44242.0             16         26.4   -1.351453   \n2                            46838.0              3          NaN   -1.308284   \n3                            36327.0              9         19.2   -1.281301   \n4                            37537.0              9         15.4   -1.266597   \n...                              ...            ...          ...         ...   \n21196                        58817.0              3         28.6   -1.258414   \n21197                        38777.0              7         26.0   -1.307143   \n21198                        67205.0             20         29.2   -1.286018   \n21199                        36495.0             13         15.0   -1.250030   \n21200                        55043.0             12         30.9   -1.255189   \n\n       Pickup Long  Destination Lat  Destination Long      Rider Id  \\\n0        36.830370        -1.300406         36.829741  Rider_Id_432   \n1        36.899315        -1.295004         36.814358  Rider_Id_856   \n2        36.843419        -1.300921         36.828195  Rider_Id_155   \n3        36.832396        -1.257147         36.795063  Rider_Id_855   \n4        36.792118        -1.295041         36.809817  Rider_Id_770   \n...            ...              ...               ...           ...   \n21196    36.804800        -1.275285         36.802702  Rider_Id_953   \n21197    36.825009        -1.331619         36.847976  Rider_Id_155   \n21198    36.897534        -1.258414         36.804800  Rider_Id_697   \n21199    36.874167        -1.279209         36.794872  Rider_Id_347   \n21200    36.782203        -1.320157         36.830887  Rider_Id_177   \n\n       Time from Pickup to Arrival  \n0                              745  \n1                             1993  \n2                              455  \n3                             1341  \n4                             1214  \n...                            ...  \n21196                            9  \n21197                          770  \n21198                         2953  \n21199                         1380  \n21200                         2128  \n\n[21201 rows x 19 columns]",
            "text/html": "<div>\n<style scoped>\n    .dataframe tbody tr th:only-of-type {\n        vertical-align: middle;\n    }\n\n    .dataframe tbody tr th {\n        vertical-align: top;\n    }\n\n    .dataframe thead th {\n        text-align: right;\n    }\n</style>\n<table border=\"1\" class=\"dataframe\">\n  <thead>\n    <tr style=\"text-align: right;\">\n      <th></th>\n      <th>Order No</th>\n      <th>User Id</th>\n      <th>Platform Type</th>\n      <th>Personal or Business</th>\n      <th>Placement - Time</th>\n      <th>Confirmation - Time</th>\n      <th>Arrival at Pickup - Time</th>\n      <th>Pickup - Time</th>\n      <th>Arrival at Destination - Day of Month</th>\n      <th>Arrival at Destination - Weekday (Mo = 1)</th>\n      <th>Arrival at Destination - Time</th>\n      <th>Distance (KM)</th>\n      <th>Temperature</th>\n      <th>Pickup Lat</th>\n      <th>Pickup Long</th>\n      <th>Destination Lat</th>\n      <th>Destination Long</th>\n      <th>Rider Id</th>\n      <th>Time from Pickup to Arrival</th>\n    </tr>\n  </thead>\n  <tbody>\n    <tr>\n      <th>0</th>\n      <td>Order_No_4211</td>\n      <td>User_Id_633</td>\n      <td>3</td>\n      <td>Business</td>\n      <td>34546.0</td>\n      <td>34810.0</td>\n      <td>36287.0</td>\n      <td>37650.0</td>\n      <td>9</td>\n      <td>5</td>\n      <td>38395.0</td>\n      <td>4</td>\n      <td>20.4</td>\n      <td>-1.317755</td>\n      <td>36.830370</td>\n      <td>-1.300406</td>\n      <td>36.829741</td>\n      <td>Rider_Id_432</td>\n      <td>745</td>\n    </tr>\n    <tr>\n      <th>1</th>\n      <td>Order_No_25375</td>\n      <td>User_Id_2285</td>\n      <td>3</td>\n      <td>Personal</td>\n      <td>40576.0</td>\n      <td>41001.0</td>\n      <td>42022.0</td>\n      <td>42249.0</td>\n      <td>12</td>\n      <td>5</td>\n      <td>44242.0</td>\n      <td>16</td>\n      <td>26.4</td>\n      <td>-1.351453</td>\n      <td>36.899315</td>\n      <td>-1.295004</td>\n      <td>36.814358</td>\n      <td>Rider_Id_856</td>\n      <td>1993</td>\n    </tr>\n    <tr>\n      <th>2</th>\n      <td>Order_No_1899</td>\n      <td>User_Id_265</td>\n      <td>3</td>\n      <td>Business</td>\n      <td>45565.0</td>\n      <td>45764.0</td>\n      <td>46174.0</td>\n      <td>46383.0</td>\n      <td>30</td>\n      <td>2</td>\n      <td>46838.0</td>\n      <td>3</td>\n      <td>NaN</td>\n      <td>-1.308284</td>\n      <td>36.843419</td>\n      <td>-1.300921</td>\n      <td>36.828195</td>\n      <td>Rider_Id_155</td>\n      <td>455</td>\n    </tr>\n    <tr>\n      <th>3</th>\n      <td>Order_No_9336</td>\n      <td>User_Id_1402</td>\n      <td>3</td>\n      <td>Business</td>\n      <td>33934.0</td>\n      <td>33965.0</td>\n      <td>34676.0</td>\n      <td>34986.0</td>\n      <td>15</td>\n      <td>5</td>\n      <td>36327.0</td>\n      <td>9</td>\n      <td>19.2</td>\n      <td>-1.281301</td>\n      <td>36.832396</td>\n      <td>-1.257147</td>\n      <td>36.795063</td>\n      <td>Rider_Id_855</td>\n      <td>1341</td>\n    </tr>\n    <tr>\n      <th>4</th>\n      <td>Order_No_27883</td>\n      <td>User_Id_1737</td>\n      <td>1</td>\n      <td>Personal</td>\n      <td>35718.0</td>\n      <td>35778.0</td>\n      <td>36233.0</td>\n      <td>36323.0</td>\n      <td>13</td>\n      <td>1</td>\n      <td>37537.0</td>\n      <td>9</td>\n      <td>15.4</td>\n      <td>-1.266597</td>\n      <td>36.792118</td>\n      <td>-1.295041</td>\n      <td>36.809817</td>\n      <td>Rider_Id_770</td>\n      <td>1214</td>\n    </tr>\n    <tr>\n      <th>...</th>\n      <td>...</td>\n      <td>...</td>\n      <td>...</td>\n      <td>...</td>\n      <td>...</td>\n      <td>...</td>\n      <td>...</td>\n      <td>...</td>\n      <td>...</td>\n      <td>...</td>\n      <td>...</td>\n      <td>...</td>\n      <td>...</td>\n      <td>...</td>\n      <td>...</td>\n      <td>...</td>\n      <td>...</td>\n      <td>...</td>\n      <td>...</td>\n    </tr>\n    <tr>\n      <th>21196</th>\n      <td>Order_No_8834</td>\n      <td>User_Id_2001</td>\n      <td>3</td>\n      <td>Personal</td>\n      <td>57278.0</td>\n      <td>57309.0</td>\n      <td>57529.0</td>\n      <td>58808.0</td>\n      <td>20</td>\n      <td>3</td>\n      <td>58817.0</td>\n      <td>3</td>\n      <td>28.6</td>\n      <td>-1.258414</td>\n      <td>36.804800</td>\n      <td>-1.275285</td>\n      <td>36.802702</td>\n      <td>Rider_Id_953</td>\n      <td>9</td>\n    </tr>\n    <tr>\n      <th>21197</th>\n      <td>Order_No_22892</td>\n      <td>User_Id_1796</td>\n      <td>3</td>\n      <td>Business</td>\n      <td>36814.0</td>\n      <td>36821.0</td>\n      <td>37204.0</td>\n      <td>38007.0</td>\n      <td>13</td>\n      <td>6</td>\n      <td>38777.0</td>\n      <td>7</td>\n      <td>26.0</td>\n      <td>-1.307143</td>\n      <td>36.825009</td>\n      <td>-1.331619</td>\n      <td>36.847976</td>\n      <td>Rider_Id_155</td>\n      <td>770</td>\n    </tr>\n    <tr>\n      <th>21198</th>\n      <td>Order_No_2831</td>\n      <td>User_Id_2956</td>\n      <td>3</td>\n      <td>Business</td>\n      <td>61576.0</td>\n      <td>61629.0</td>\n      <td>63017.0</td>\n      <td>64252.0</td>\n      <td>7</td>\n      <td>4</td>\n      <td>67205.0</td>\n      <td>20</td>\n      <td>29.2</td>\n      <td>-1.286018</td>\n      <td>36.897534</td>\n      <td>-1.258414</td>\n      <td>36.804800</td>\n      <td>Rider_Id_697</td>\n      <td>2953</td>\n    </tr>\n    <tr>\n      <th>21199</th>\n      <td>Order_No_6174</td>\n      <td>User_Id_2524</td>\n      <td>1</td>\n      <td>Personal</td>\n      <td>34299.0</td>\n      <td>34313.0</td>\n      <td>34739.0</td>\n      <td>35115.0</td>\n      <td>4</td>\n      <td>3</td>\n      <td>36495.0</td>\n      <td>13</td>\n      <td>15.0</td>\n      <td>-1.250030</td>\n      <td>36.874167</td>\n      <td>-1.279209</td>\n      <td>36.794872</td>\n      <td>Rider_Id_347</td>\n      <td>1380</td>\n    </tr>\n    <tr>\n      <th>21200</th>\n      <td>Order_No_9836</td>\n      <td>User_Id_718</td>\n      <td>3</td>\n      <td>Business</td>\n      <td>51587.0</td>\n      <td>51601.0</td>\n      <td>51869.0</td>\n      <td>52915.0</td>\n      <td>26</td>\n      <td>2</td>\n      <td>55043.0</td>\n      <td>12</td>\n      <td>30.9</td>\n      <td>-1.255189</td>\n      <td>36.782203</td>\n      <td>-1.320157</td>\n      <td>36.830887</td>\n      <td>Rider_Id_177</td>\n      <td>2128</td>\n    </tr>\n  </tbody>\n</table>\n<p>21201 rows × 19 columns</p>\n</div>"
          },
          "metadata": {},
          "execution_count": 135
        }
      ],
      "source": [
        "time_to_seconds(train_df)"
      ]
    },
    {
      "cell_type": "code",
      "execution_count": 133,
      "metadata": {},
      "outputs": [
        {
          "output_type": "execute_result",
          "data": {
            "text/plain": "             Order No       User Id  Platform Type Personal or Business  \\\n0       Order_No_4211   User_Id_633              3             Business   \n1      Order_No_25375  User_Id_2285              3             Personal   \n2       Order_No_1899   User_Id_265              3             Business   \n3       Order_No_9336  User_Id_1402              3             Business   \n4      Order_No_27883  User_Id_1737              1             Personal   \n...               ...           ...            ...                  ...   \n21196   Order_No_8834  User_Id_2001              3             Personal   \n21197  Order_No_22892  User_Id_1796              3             Business   \n21198   Order_No_2831  User_Id_2956              3             Business   \n21199   Order_No_6174  User_Id_2524              1             Personal   \n21200   Order_No_9836   User_Id_718              3             Business   \n\n      Placement - Time Confirmation - Time Arrival at Pickup - Time  \\\n0           9:35:46 AM          9:40:10 AM              10:04:47 AM   \n1          11:16:16 AM         11:23:21 AM              11:40:22 AM   \n2          12:39:25 PM         12:42:44 PM              12:49:34 PM   \n3           9:25:34 AM          9:26:05 AM               9:37:56 AM   \n4           9:55:18 AM          9:56:18 AM              10:03:53 AM   \n...                ...                 ...                      ...   \n21196       3:54:38 PM          3:55:09 PM               3:58:49 PM   \n21197      10:13:34 AM         10:13:41 AM              10:20:04 AM   \n21198       5:06:16 PM          5:07:09 PM               5:30:17 PM   \n21199       9:31:39 AM          9:31:53 AM               9:38:59 AM   \n21200       2:19:47 PM          2:20:01 PM               2:24:29 PM   \n\n      Pickup - Time  Arrival at Destination - Day of Month  \\\n0       10:27:30 AM                                      9   \n1       11:44:09 AM                                     12   \n2       12:53:03 PM                                     30   \n3        9:43:06 AM                                     15   \n4       10:05:23 AM                                     13   \n...             ...                                    ...   \n21196    4:20:08 PM                                     20   \n21197   10:33:27 AM                                     13   \n21198    5:50:52 PM                                      7   \n21199    9:45:15 AM                                      4   \n21200    2:41:55 PM                                     26   \n\n       Arrival at Destination - Weekday (Mo = 1)  \\\n0                                              5   \n1                                              5   \n2                                              2   \n3                                              5   \n4                                              1   \n...                                          ...   \n21196                                          3   \n21197                                          6   \n21198                                          4   \n21199                                          3   \n21200                                          2   \n\n      Arrival at Destination - Time  Distance (KM)  Temperature  Pickup Lat  \\\n0                       10:39:55 AM              4         20.4   -1.317755   \n1                       12:17:22 PM             16         26.4   -1.351453   \n2                        1:00:38 PM              3          NaN   -1.308284   \n3                       10:05:27 AM              9         19.2   -1.281301   \n4                       10:25:37 AM              9         15.4   -1.266597   \n...                             ...            ...          ...         ...   \n21196                    4:20:17 PM              3         28.6   -1.258414   \n21197                   10:46:17 AM              7         26.0   -1.307143   \n21198                    6:40:05 PM             20         29.2   -1.286018   \n21199                   10:08:15 AM             13         15.0   -1.250030   \n21200                    3:17:23 PM             12         30.9   -1.255189   \n\n       Pickup Long  Destination Lat  Destination Long      Rider Id  \\\n0        36.830370        -1.300406         36.829741  Rider_Id_432   \n1        36.899315        -1.295004         36.814358  Rider_Id_856   \n2        36.843419        -1.300921         36.828195  Rider_Id_155   \n3        36.832396        -1.257147         36.795063  Rider_Id_855   \n4        36.792118        -1.295041         36.809817  Rider_Id_770   \n...            ...              ...               ...           ...   \n21196    36.804800        -1.275285         36.802702  Rider_Id_953   \n21197    36.825009        -1.331619         36.847976  Rider_Id_155   \n21198    36.897534        -1.258414         36.804800  Rider_Id_697   \n21199    36.874167        -1.279209         36.794872  Rider_Id_347   \n21200    36.782203        -1.320157         36.830887  Rider_Id_177   \n\n       Time from Pickup to Arrival  \n0                              745  \n1                             1993  \n2                              455  \n3                             1341  \n4                             1214  \n...                            ...  \n21196                            9  \n21197                          770  \n21198                         2953  \n21199                         1380  \n21200                         2128  \n\n[21201 rows x 19 columns]",
            "text/html": "<div>\n<style scoped>\n    .dataframe tbody tr th:only-of-type {\n        vertical-align: middle;\n    }\n\n    .dataframe tbody tr th {\n        vertical-align: top;\n    }\n\n    .dataframe thead th {\n        text-align: right;\n    }\n</style>\n<table border=\"1\" class=\"dataframe\">\n  <thead>\n    <tr style=\"text-align: right;\">\n      <th></th>\n      <th>Order No</th>\n      <th>User Id</th>\n      <th>Platform Type</th>\n      <th>Personal or Business</th>\n      <th>Placement - Time</th>\n      <th>Confirmation - Time</th>\n      <th>Arrival at Pickup - Time</th>\n      <th>Pickup - Time</th>\n      <th>Arrival at Destination - Day of Month</th>\n      <th>Arrival at Destination - Weekday (Mo = 1)</th>\n      <th>Arrival at Destination - Time</th>\n      <th>Distance (KM)</th>\n      <th>Temperature</th>\n      <th>Pickup Lat</th>\n      <th>Pickup Long</th>\n      <th>Destination Lat</th>\n      <th>Destination Long</th>\n      <th>Rider Id</th>\n      <th>Time from Pickup to Arrival</th>\n    </tr>\n  </thead>\n  <tbody>\n    <tr>\n      <th>0</th>\n      <td>Order_No_4211</td>\n      <td>User_Id_633</td>\n      <td>3</td>\n      <td>Business</td>\n      <td>9:35:46 AM</td>\n      <td>9:40:10 AM</td>\n      <td>10:04:47 AM</td>\n      <td>10:27:30 AM</td>\n      <td>9</td>\n      <td>5</td>\n      <td>10:39:55 AM</td>\n      <td>4</td>\n      <td>20.4</td>\n      <td>-1.317755</td>\n      <td>36.830370</td>\n      <td>-1.300406</td>\n      <td>36.829741</td>\n      <td>Rider_Id_432</td>\n      <td>745</td>\n    </tr>\n    <tr>\n      <th>1</th>\n      <td>Order_No_25375</td>\n      <td>User_Id_2285</td>\n      <td>3</td>\n      <td>Personal</td>\n      <td>11:16:16 AM</td>\n      <td>11:23:21 AM</td>\n      <td>11:40:22 AM</td>\n      <td>11:44:09 AM</td>\n      <td>12</td>\n      <td>5</td>\n      <td>12:17:22 PM</td>\n      <td>16</td>\n      <td>26.4</td>\n      <td>-1.351453</td>\n      <td>36.899315</td>\n      <td>-1.295004</td>\n      <td>36.814358</td>\n      <td>Rider_Id_856</td>\n      <td>1993</td>\n    </tr>\n    <tr>\n      <th>2</th>\n      <td>Order_No_1899</td>\n      <td>User_Id_265</td>\n      <td>3</td>\n      <td>Business</td>\n      <td>12:39:25 PM</td>\n      <td>12:42:44 PM</td>\n      <td>12:49:34 PM</td>\n      <td>12:53:03 PM</td>\n      <td>30</td>\n      <td>2</td>\n      <td>1:00:38 PM</td>\n      <td>3</td>\n      <td>NaN</td>\n      <td>-1.308284</td>\n      <td>36.843419</td>\n      <td>-1.300921</td>\n      <td>36.828195</td>\n      <td>Rider_Id_155</td>\n      <td>455</td>\n    </tr>\n    <tr>\n      <th>3</th>\n      <td>Order_No_9336</td>\n      <td>User_Id_1402</td>\n      <td>3</td>\n      <td>Business</td>\n      <td>9:25:34 AM</td>\n      <td>9:26:05 AM</td>\n      <td>9:37:56 AM</td>\n      <td>9:43:06 AM</td>\n      <td>15</td>\n      <td>5</td>\n      <td>10:05:27 AM</td>\n      <td>9</td>\n      <td>19.2</td>\n      <td>-1.281301</td>\n      <td>36.832396</td>\n      <td>-1.257147</td>\n      <td>36.795063</td>\n      <td>Rider_Id_855</td>\n      <td>1341</td>\n    </tr>\n    <tr>\n      <th>4</th>\n      <td>Order_No_27883</td>\n      <td>User_Id_1737</td>\n      <td>1</td>\n      <td>Personal</td>\n      <td>9:55:18 AM</td>\n      <td>9:56:18 AM</td>\n      <td>10:03:53 AM</td>\n      <td>10:05:23 AM</td>\n      <td>13</td>\n      <td>1</td>\n      <td>10:25:37 AM</td>\n      <td>9</td>\n      <td>15.4</td>\n      <td>-1.266597</td>\n      <td>36.792118</td>\n      <td>-1.295041</td>\n      <td>36.809817</td>\n      <td>Rider_Id_770</td>\n      <td>1214</td>\n    </tr>\n    <tr>\n      <th>...</th>\n      <td>...</td>\n      <td>...</td>\n      <td>...</td>\n      <td>...</td>\n      <td>...</td>\n      <td>...</td>\n      <td>...</td>\n      <td>...</td>\n      <td>...</td>\n      <td>...</td>\n      <td>...</td>\n      <td>...</td>\n      <td>...</td>\n      <td>...</td>\n      <td>...</td>\n      <td>...</td>\n      <td>...</td>\n      <td>...</td>\n      <td>...</td>\n    </tr>\n    <tr>\n      <th>21196</th>\n      <td>Order_No_8834</td>\n      <td>User_Id_2001</td>\n      <td>3</td>\n      <td>Personal</td>\n      <td>3:54:38 PM</td>\n      <td>3:55:09 PM</td>\n      <td>3:58:49 PM</td>\n      <td>4:20:08 PM</td>\n      <td>20</td>\n      <td>3</td>\n      <td>4:20:17 PM</td>\n      <td>3</td>\n      <td>28.6</td>\n      <td>-1.258414</td>\n      <td>36.804800</td>\n      <td>-1.275285</td>\n      <td>36.802702</td>\n      <td>Rider_Id_953</td>\n      <td>9</td>\n    </tr>\n    <tr>\n      <th>21197</th>\n      <td>Order_No_22892</td>\n      <td>User_Id_1796</td>\n      <td>3</td>\n      <td>Business</td>\n      <td>10:13:34 AM</td>\n      <td>10:13:41 AM</td>\n      <td>10:20:04 AM</td>\n      <td>10:33:27 AM</td>\n      <td>13</td>\n      <td>6</td>\n      <td>10:46:17 AM</td>\n      <td>7</td>\n      <td>26.0</td>\n      <td>-1.307143</td>\n      <td>36.825009</td>\n      <td>-1.331619</td>\n      <td>36.847976</td>\n      <td>Rider_Id_155</td>\n      <td>770</td>\n    </tr>\n    <tr>\n      <th>21198</th>\n      <td>Order_No_2831</td>\n      <td>User_Id_2956</td>\n      <td>3</td>\n      <td>Business</td>\n      <td>5:06:16 PM</td>\n      <td>5:07:09 PM</td>\n      <td>5:30:17 PM</td>\n      <td>5:50:52 PM</td>\n      <td>7</td>\n      <td>4</td>\n      <td>6:40:05 PM</td>\n      <td>20</td>\n      <td>29.2</td>\n      <td>-1.286018</td>\n      <td>36.897534</td>\n      <td>-1.258414</td>\n      <td>36.804800</td>\n      <td>Rider_Id_697</td>\n      <td>2953</td>\n    </tr>\n    <tr>\n      <th>21199</th>\n      <td>Order_No_6174</td>\n      <td>User_Id_2524</td>\n      <td>1</td>\n      <td>Personal</td>\n      <td>9:31:39 AM</td>\n      <td>9:31:53 AM</td>\n      <td>9:38:59 AM</td>\n      <td>9:45:15 AM</td>\n      <td>4</td>\n      <td>3</td>\n      <td>10:08:15 AM</td>\n      <td>13</td>\n      <td>15.0</td>\n      <td>-1.250030</td>\n      <td>36.874167</td>\n      <td>-1.279209</td>\n      <td>36.794872</td>\n      <td>Rider_Id_347</td>\n      <td>1380</td>\n    </tr>\n    <tr>\n      <th>21200</th>\n      <td>Order_No_9836</td>\n      <td>User_Id_718</td>\n      <td>3</td>\n      <td>Business</td>\n      <td>2:19:47 PM</td>\n      <td>2:20:01 PM</td>\n      <td>2:24:29 PM</td>\n      <td>2:41:55 PM</td>\n      <td>26</td>\n      <td>2</td>\n      <td>3:17:23 PM</td>\n      <td>12</td>\n      <td>30.9</td>\n      <td>-1.255189</td>\n      <td>36.782203</td>\n      <td>-1.320157</td>\n      <td>36.830887</td>\n      <td>Rider_Id_177</td>\n      <td>2128</td>\n    </tr>\n  </tbody>\n</table>\n<p>21201 rows × 19 columns</p>\n</div>"
          },
          "metadata": {},
          "execution_count": 133
        }
      ],
      "source": [
        "train_df['']"
      ]
    },
    {
      "cell_type": "code",
      "execution_count": 124,
      "metadata": {},
      "outputs": [
        {
          "output_type": "execute_result",
          "data": {
            "text/plain": "      Placement - Time Confirmation - Time Arrival at Pickup - Time  \\\n0           9:35:46 AM          9:40:10 AM              10:04:47 AM   \n1          11:16:16 AM         11:23:21 AM              11:40:22 AM   \n2          12:39:25 PM         12:42:44 PM              12:49:34 PM   \n3           9:25:34 AM          9:26:05 AM               9:37:56 AM   \n4           9:55:18 AM          9:56:18 AM              10:03:53 AM   \n...                ...                 ...                      ...   \n21196       3:54:38 PM          3:55:09 PM               3:58:49 PM   \n21197      10:13:34 AM         10:13:41 AM              10:20:04 AM   \n21198       5:06:16 PM          5:07:09 PM               5:30:17 PM   \n21199       9:31:39 AM          9:31:53 AM               9:38:59 AM   \n21200       2:19:47 PM          2:20:01 PM               2:24:29 PM   \n\n      Pickup - Time Arrival at Destination - Time  Time from Pickup to Arrival  \n0       10:27:30 AM                   10:39:55 AM                          745  \n1       11:44:09 AM                   12:17:22 PM                         1993  \n2       12:53:03 PM                    1:00:38 PM                          455  \n3        9:43:06 AM                   10:05:27 AM                         1341  \n4       10:05:23 AM                   10:25:37 AM                         1214  \n...             ...                           ...                          ...  \n21196    4:20:08 PM                    4:20:17 PM                            9  \n21197   10:33:27 AM                   10:46:17 AM                          770  \n21198    5:50:52 PM                    6:40:05 PM                         2953  \n21199    9:45:15 AM                   10:08:15 AM                         1380  \n21200    2:41:55 PM                    3:17:23 PM                         2128  \n\n[21201 rows x 6 columns]",
            "text/html": "<div>\n<style scoped>\n    .dataframe tbody tr th:only-of-type {\n        vertical-align: middle;\n    }\n\n    .dataframe tbody tr th {\n        vertical-align: top;\n    }\n\n    .dataframe thead th {\n        text-align: right;\n    }\n</style>\n<table border=\"1\" class=\"dataframe\">\n  <thead>\n    <tr style=\"text-align: right;\">\n      <th></th>\n      <th>Placement - Time</th>\n      <th>Confirmation - Time</th>\n      <th>Arrival at Pickup - Time</th>\n      <th>Pickup - Time</th>\n      <th>Arrival at Destination - Time</th>\n      <th>Time from Pickup to Arrival</th>\n    </tr>\n  </thead>\n  <tbody>\n    <tr>\n      <th>0</th>\n      <td>9:35:46 AM</td>\n      <td>9:40:10 AM</td>\n      <td>10:04:47 AM</td>\n      <td>10:27:30 AM</td>\n      <td>10:39:55 AM</td>\n      <td>745</td>\n    </tr>\n    <tr>\n      <th>1</th>\n      <td>11:16:16 AM</td>\n      <td>11:23:21 AM</td>\n      <td>11:40:22 AM</td>\n      <td>11:44:09 AM</td>\n      <td>12:17:22 PM</td>\n      <td>1993</td>\n    </tr>\n    <tr>\n      <th>2</th>\n      <td>12:39:25 PM</td>\n      <td>12:42:44 PM</td>\n      <td>12:49:34 PM</td>\n      <td>12:53:03 PM</td>\n      <td>1:00:38 PM</td>\n      <td>455</td>\n    </tr>\n    <tr>\n      <th>3</th>\n      <td>9:25:34 AM</td>\n      <td>9:26:05 AM</td>\n      <td>9:37:56 AM</td>\n      <td>9:43:06 AM</td>\n      <td>10:05:27 AM</td>\n      <td>1341</td>\n    </tr>\n    <tr>\n      <th>4</th>\n      <td>9:55:18 AM</td>\n      <td>9:56:18 AM</td>\n      <td>10:03:53 AM</td>\n      <td>10:05:23 AM</td>\n      <td>10:25:37 AM</td>\n      <td>1214</td>\n    </tr>\n    <tr>\n      <th>...</th>\n      <td>...</td>\n      <td>...</td>\n      <td>...</td>\n      <td>...</td>\n      <td>...</td>\n      <td>...</td>\n    </tr>\n    <tr>\n      <th>21196</th>\n      <td>3:54:38 PM</td>\n      <td>3:55:09 PM</td>\n      <td>3:58:49 PM</td>\n      <td>4:20:08 PM</td>\n      <td>4:20:17 PM</td>\n      <td>9</td>\n    </tr>\n    <tr>\n      <th>21197</th>\n      <td>10:13:34 AM</td>\n      <td>10:13:41 AM</td>\n      <td>10:20:04 AM</td>\n      <td>10:33:27 AM</td>\n      <td>10:46:17 AM</td>\n      <td>770</td>\n    </tr>\n    <tr>\n      <th>21198</th>\n      <td>5:06:16 PM</td>\n      <td>5:07:09 PM</td>\n      <td>5:30:17 PM</td>\n      <td>5:50:52 PM</td>\n      <td>6:40:05 PM</td>\n      <td>2953</td>\n    </tr>\n    <tr>\n      <th>21199</th>\n      <td>9:31:39 AM</td>\n      <td>9:31:53 AM</td>\n      <td>9:38:59 AM</td>\n      <td>9:45:15 AM</td>\n      <td>10:08:15 AM</td>\n      <td>1380</td>\n    </tr>\n    <tr>\n      <th>21200</th>\n      <td>2:19:47 PM</td>\n      <td>2:20:01 PM</td>\n      <td>2:24:29 PM</td>\n      <td>2:41:55 PM</td>\n      <td>3:17:23 PM</td>\n      <td>2128</td>\n    </tr>\n  </tbody>\n</table>\n<p>21201 rows × 6 columns</p>\n</div>"
          },
          "metadata": {},
          "execution_count": 124
        }
      ],
      "source": [
        "times_df = train_df[[col for col in train_df.columns if 'Time' in [col[-4:], col[:4]]]]\n",
        "times_df"
      ]
    },
    {
      "cell_type": "code",
      "execution_count": 125,
      "metadata": {},
      "outputs": [],
      "source": [
        "time = times_df.iloc[21200,0]"
      ]
    },
    {
      "cell_type": "code",
      "execution_count": 126,
      "metadata": {},
      "outputs": [
        {
          "output_type": "execute_result",
          "data": {
            "text/plain": "'2:19:47 PM'"
          },
          "metadata": {},
          "execution_count": 126
        }
      ],
      "source": [
        "time"
      ]
    },
    {
      "cell_type": "code",
      "execution_count": 127,
      "metadata": {},
      "outputs": [
        {
          "output_type": "execute_result",
          "data": {
            "text/plain": "str"
          },
          "metadata": {},
          "execution_count": 127
        }
      ],
      "source": [
        "type(time)"
      ]
    },
    {
      "cell_type": "code",
      "execution_count": 128,
      "metadata": {},
      "outputs": [
        {
          "output_type": "execute_result",
          "data": {
            "text/plain": "datetime.datetime(1900, 1, 1, 14, 19, 47)"
          },
          "metadata": {},
          "execution_count": 128
        }
      ],
      "source": [
        "from datetime import datetime\n",
        "new_time = datetime.strptime(time, '%I:%M:%S %p') \n",
        "new_time"
      ]
    },
    {
      "cell_type": "code",
      "execution_count": 129,
      "metadata": {},
      "outputs": [
        {
          "output_type": "execute_result",
          "data": {
            "text/plain": "datetime.timedelta(seconds=51587)"
          },
          "metadata": {},
          "execution_count": 129
        }
      ],
      "source": [
        "(new_time - datetime(1900,1,1))"
      ]
    },
    {
      "cell_type": "code",
      "execution_count": 130,
      "metadata": {},
      "outputs": [
        {
          "output_type": "execute_result",
          "data": {
            "text/plain": "float"
          },
          "metadata": {},
          "execution_count": 130
        }
      ],
      "source": [
        "type((new_time - datetime(1900,1,1)).total_seconds())"
      ]
    },
    {
      "cell_type": "code",
      "execution_count": null,
      "metadata": {},
      "outputs": [],
      "source": []
    },
    {
      "cell_type": "code",
      "execution_count": null,
      "metadata": {},
      "outputs": [],
      "source": []
    },
    {
      "cell_type": "code",
      "execution_count": 85,
      "metadata": {},
      "outputs": [
        {
          "output_type": "stream",
          "name": "stdout",
          "text": "True\nTrue\n"
        }
      ],
      "source": [
        "print(set(dataset['User Id']) == set(dataset['User Id'].unique()))\n",
        "print(set(dataset['Order No']) == set(dataset['Order No'].unique()))"
      ]
    },
    {
      "cell_type": "code",
      "execution_count": null,
      "metadata": {},
      "outputs": [],
      "source": []
    },
    {
      "cell_type": "code",
      "execution_count": null,
      "metadata": {},
      "outputs": [],
      "source": []
    },
    {
      "cell_type": "code",
      "execution_count": null,
      "metadata": {},
      "outputs": [],
      "source": []
    },
    {
      "cell_type": "code",
      "execution_count": null,
      "metadata": {},
      "outputs": [],
      "source": []
    },
    {
      "cell_type": "code",
      "execution_count": 4,
      "metadata": {},
      "outputs": [],
      "source": [
        "riders = pd.read_csv('Riders.csv')"
      ]
    },
    {
      "cell_type": "code",
      "execution_count": 5,
      "metadata": {},
      "outputs": [
        {
          "output_type": "execute_result",
          "data": {
            "text/plain": "       Rider Id  No_Of_Orders   Age  Average_Rating  No_of_Ratings\n0  Rider_Id_396          2946  2298            14.0           1159\n1  Rider_Id_479           360   951            13.5            176\n2  Rider_Id_648          1746   821            14.3            466\n3  Rider_Id_753           314   980            12.5             75\n4  Rider_Id_335           536  1113            13.7            156",
            "text/html": "<div>\n<style scoped>\n    .dataframe tbody tr th:only-of-type {\n        vertical-align: middle;\n    }\n\n    .dataframe tbody tr th {\n        vertical-align: top;\n    }\n\n    .dataframe thead th {\n        text-align: right;\n    }\n</style>\n<table border=\"1\" class=\"dataframe\">\n  <thead>\n    <tr style=\"text-align: right;\">\n      <th></th>\n      <th>Rider Id</th>\n      <th>No_Of_Orders</th>\n      <th>Age</th>\n      <th>Average_Rating</th>\n      <th>No_of_Ratings</th>\n    </tr>\n  </thead>\n  <tbody>\n    <tr>\n      <th>0</th>\n      <td>Rider_Id_396</td>\n      <td>2946</td>\n      <td>2298</td>\n      <td>14.0</td>\n      <td>1159</td>\n    </tr>\n    <tr>\n      <th>1</th>\n      <td>Rider_Id_479</td>\n      <td>360</td>\n      <td>951</td>\n      <td>13.5</td>\n      <td>176</td>\n    </tr>\n    <tr>\n      <th>2</th>\n      <td>Rider_Id_648</td>\n      <td>1746</td>\n      <td>821</td>\n      <td>14.3</td>\n      <td>466</td>\n    </tr>\n    <tr>\n      <th>3</th>\n      <td>Rider_Id_753</td>\n      <td>314</td>\n      <td>980</td>\n      <td>12.5</td>\n      <td>75</td>\n    </tr>\n    <tr>\n      <th>4</th>\n      <td>Rider_Id_335</td>\n      <td>536</td>\n      <td>1113</td>\n      <td>13.7</td>\n      <td>156</td>\n    </tr>\n  </tbody>\n</table>\n</div>"
          },
          "metadata": {},
          "execution_count": 5
        }
      ],
      "source": [
        "riders.head()"
      ]
    },
    {
      "cell_type": "code",
      "execution_count": 7,
      "metadata": {},
      "outputs": [
        {
          "output_type": "stream",
          "name": "stdout",
          "text": "<class 'pandas.core.frame.DataFrame'>\nRangeIndex: 21201 entries, 0 to 21200\nData columns (total 29 columns):\n #   Column                                     Non-Null Count  Dtype  \n---  ------                                     --------------  -----  \n 0   Order No                                   21201 non-null  object \n 1   User Id                                    21201 non-null  object \n 2   Vehicle Type                               21201 non-null  object \n 3   Platform Type                              21201 non-null  int64  \n 4   Personal or Business                       21201 non-null  object \n 5   Placement - Day of Month                   21201 non-null  int64  \n 6   Placement - Weekday (Mo = 1)               21201 non-null  int64  \n 7   Placement - Time                           21201 non-null  object \n 8   Confirmation - Day of Month                21201 non-null  int64  \n 9   Confirmation - Weekday (Mo = 1)            21201 non-null  int64  \n 10  Confirmation - Time                        21201 non-null  object \n 11  Arrival at Pickup - Day of Month           21201 non-null  int64  \n 12  Arrival at Pickup - Weekday (Mo = 1)       21201 non-null  int64  \n 13  Arrival at Pickup - Time                   21201 non-null  object \n 14  Pickup - Day of Month                      21201 non-null  int64  \n 15  Pickup - Weekday (Mo = 1)                  21201 non-null  int64  \n 16  Pickup - Time                              21201 non-null  object \n 17  Arrival at Destination - Day of Month      21201 non-null  int64  \n 18  Arrival at Destination - Weekday (Mo = 1)  21201 non-null  int64  \n 19  Arrival at Destination - Time              21201 non-null  object \n 20  Distance (KM)                              21201 non-null  int64  \n 21  Temperature                                16835 non-null  float64\n 22  Precipitation in millimeters               552 non-null    float64\n 23  Pickup Lat                                 21201 non-null  float64\n 24  Pickup Long                                21201 non-null  float64\n 25  Destination Lat                            21201 non-null  float64\n 26  Destination Long                           21201 non-null  float64\n 27  Rider Id                                   21201 non-null  object \n 28  Time from Pickup to Arrival                21201 non-null  int64  \ndtypes: float64(6), int64(13), object(10)\nmemory usage: 4.7+ MB\n"
        }
      ],
      "source": [
        "dataset.info()"
      ]
    },
    {
      "cell_type": "code",
      "execution_count": 8,
      "metadata": {},
      "outputs": [],
      "source": [
        "sample = pd.read_csv('SampleSubmission.csv')"
      ]
    },
    {
      "cell_type": "code",
      "execution_count": 10,
      "metadata": {},
      "outputs": [
        {
          "output_type": "execute_result",
          "data": {
            "text/plain": "            Order_No  Time from Pickup to Arrival\n0     Order_No_19248                        567.0\n1     Order_No_12736                       4903.0\n2       Order_No_768                       5649.0\n3     Order_No_15332                          NaN\n4     Order_No_21373                          NaN\n...              ...                          ...\n7063   Order_No_3612                          NaN\n7064   Order_No_7657                          NaN\n7065   Order_No_1969                          NaN\n7066  Order_No_10591                          NaN\n7067   Order_No_1603                          NaN\n\n[7068 rows x 2 columns]",
            "text/html": "<div>\n<style scoped>\n    .dataframe tbody tr th:only-of-type {\n        vertical-align: middle;\n    }\n\n    .dataframe tbody tr th {\n        vertical-align: top;\n    }\n\n    .dataframe thead th {\n        text-align: right;\n    }\n</style>\n<table border=\"1\" class=\"dataframe\">\n  <thead>\n    <tr style=\"text-align: right;\">\n      <th></th>\n      <th>Order_No</th>\n      <th>Time from Pickup to Arrival</th>\n    </tr>\n  </thead>\n  <tbody>\n    <tr>\n      <th>0</th>\n      <td>Order_No_19248</td>\n      <td>567.0</td>\n    </tr>\n    <tr>\n      <th>1</th>\n      <td>Order_No_12736</td>\n      <td>4903.0</td>\n    </tr>\n    <tr>\n      <th>2</th>\n      <td>Order_No_768</td>\n      <td>5649.0</td>\n    </tr>\n    <tr>\n      <th>3</th>\n      <td>Order_No_15332</td>\n      <td>NaN</td>\n    </tr>\n    <tr>\n      <th>4</th>\n      <td>Order_No_21373</td>\n      <td>NaN</td>\n    </tr>\n    <tr>\n      <th>...</th>\n      <td>...</td>\n      <td>...</td>\n    </tr>\n    <tr>\n      <th>7063</th>\n      <td>Order_No_3612</td>\n      <td>NaN</td>\n    </tr>\n    <tr>\n      <th>7064</th>\n      <td>Order_No_7657</td>\n      <td>NaN</td>\n    </tr>\n    <tr>\n      <th>7065</th>\n      <td>Order_No_1969</td>\n      <td>NaN</td>\n    </tr>\n    <tr>\n      <th>7066</th>\n      <td>Order_No_10591</td>\n      <td>NaN</td>\n    </tr>\n    <tr>\n      <th>7067</th>\n      <td>Order_No_1603</td>\n      <td>NaN</td>\n    </tr>\n  </tbody>\n</table>\n<p>7068 rows × 2 columns</p>\n</div>"
          },
          "metadata": {},
          "execution_count": 10
        }
      ],
      "source": [
        "sample"
      ]
    },
    {
      "cell_type": "code",
      "execution_count": 11,
      "metadata": {},
      "outputs": [],
      "source": [
        "finaltest = pd.read_csv(\"Test.csv\")"
      ]
    },
    {
      "cell_type": "code",
      "execution_count": 12,
      "metadata": {},
      "outputs": [
        {
          "output_type": "execute_result",
          "data": {
            "text/plain": "            Order No       User Id Vehicle Type  Platform Type  \\\n0     Order_No_19248  User_Id_3355         Bike              3   \n1     Order_No_12736  User_Id_3647         Bike              3   \n2       Order_No_768  User_Id_2154         Bike              3   \n3     Order_No_15332  User_Id_2910         Bike              3   \n4     Order_No_21373  User_Id_1205         Bike              3   \n...              ...           ...          ...            ...   \n7063   Order_No_3612  User_Id_2587         Bike              3   \n7064   Order_No_7657  User_Id_3547         Bike              3   \n7065   Order_No_1969   User_Id_136         Bike              3   \n7066  Order_No_10591  User_Id_1979         Bike              3   \n7067   Order_No_1603  User_Id_1721         Bike              3   \n\n     Personal or Business  Placement - Day of Month  \\\n0                Business                        27   \n1                Business                        17   \n2                Business                        27   \n3                Business                        17   \n4                Business                        11   \n...                   ...                       ...   \n7063             Business                         7   \n7064             Business                        10   \n7065             Business                         5   \n7066             Personal                        29   \n7067             Business                         4   \n\n      Placement - Weekday (Mo = 1) Placement - Time  \\\n0                                3       4:44:10 PM   \n1                                5      12:57:35 PM   \n2                                4      11:08:14 AM   \n3                                1       1:51:35 PM   \n4                                2      11:30:28 AM   \n...                            ...              ...   \n7063                             1      10:35:49 AM   \n7064                             3       2:59:42 PM   \n7065                             3       2:45:12 PM   \n7066                             2       3:18:26 PM   \n7067                             2       3:37:09 PM   \n\n      Confirmation - Day of Month  Confirmation - Weekday (Mo = 1)  ...  \\\n0                              27                                3  ...   \n1                              17                                5  ...   \n2                              27                                4  ...   \n3                              17                                1  ...   \n4                              11                                2  ...   \n...                           ...                              ...  ...   \n7063                            7                                1  ...   \n7064                           10                                3  ...   \n7065                            5                                3  ...   \n7066                           29                                2  ...   \n7067                            4                                2  ...   \n\n     Pickup - Weekday (Mo = 1)  Pickup - Time  Distance (KM) Temperature  \\\n0                            3     5:06:47 PM              8         NaN   \n1                            5     1:25:37 PM              5         NaN   \n2                            4    11:57:54 AM              5        22.8   \n3                            1     2:16:52 PM              5        24.5   \n4                            2    11:56:04 AM              6        24.4   \n...                        ...            ...            ...         ...   \n7063                         1    10:48:18 AM              5        24.8   \n7064                         3     3:21:44 PM             22        30.7   \n7065                         3     3:07:52 PM             10        25.1   \n7066                         2     3:46:35 PM             18        23.6   \n7067                         2     4:04:43 PM              8        22.3   \n\n      Precipitation in millimeters  Pickup Lat Pickup Long  Destination Lat  \\\n0                              NaN   -1.333275   36.870815        -1.305249   \n1                              NaN   -1.272639   36.794723        -1.277007   \n2                              NaN   -1.290894   36.822971        -1.276574   \n3                              NaN   -1.290503   36.809646        -1.303382   \n4                              NaN   -1.281081   36.814423        -1.266467   \n...                            ...         ...         ...              ...   \n7063                           NaN   -1.258414   36.804800        -1.288780   \n7064                           NaN   -1.276141   36.771084        -1.316098   \n7065                           NaN   -1.301446   36.766138        -1.264960   \n7066                           NaN   -1.248404   36.678276        -1.272027   \n7067                           NaN   -1.255189   36.782203        -1.300406   \n\n      Destination Long      Rider Id  \n0            36.822390  Rider_Id_192  \n1            36.823907  Rider_Id_868  \n2            36.851365   Rider_Id_26  \n3            36.790658  Rider_Id_685  \n4            36.792161  Rider_Id_858  \n...                ...           ...  \n7063         36.816831  Rider_Id_362  \n7064         36.913164  Rider_Id_669  \n7065         36.798178  Rider_Id_379  \n7066         36.817411  Rider_Id_474  \n7067         36.829741   Rider_Id_76  \n\n[7068 rows x 25 columns]",
            "text/html": "<div>\n<style scoped>\n    .dataframe tbody tr th:only-of-type {\n        vertical-align: middle;\n    }\n\n    .dataframe tbody tr th {\n        vertical-align: top;\n    }\n\n    .dataframe thead th {\n        text-align: right;\n    }\n</style>\n<table border=\"1\" class=\"dataframe\">\n  <thead>\n    <tr style=\"text-align: right;\">\n      <th></th>\n      <th>Order No</th>\n      <th>User Id</th>\n      <th>Vehicle Type</th>\n      <th>Platform Type</th>\n      <th>Personal or Business</th>\n      <th>Placement - Day of Month</th>\n      <th>Placement - Weekday (Mo = 1)</th>\n      <th>Placement - Time</th>\n      <th>Confirmation - Day of Month</th>\n      <th>Confirmation - Weekday (Mo = 1)</th>\n      <th>...</th>\n      <th>Pickup - Weekday (Mo = 1)</th>\n      <th>Pickup - Time</th>\n      <th>Distance (KM)</th>\n      <th>Temperature</th>\n      <th>Precipitation in millimeters</th>\n      <th>Pickup Lat</th>\n      <th>Pickup Long</th>\n      <th>Destination Lat</th>\n      <th>Destination Long</th>\n      <th>Rider Id</th>\n    </tr>\n  </thead>\n  <tbody>\n    <tr>\n      <th>0</th>\n      <td>Order_No_19248</td>\n      <td>User_Id_3355</td>\n      <td>Bike</td>\n      <td>3</td>\n      <td>Business</td>\n      <td>27</td>\n      <td>3</td>\n      <td>4:44:10 PM</td>\n      <td>27</td>\n      <td>3</td>\n      <td>...</td>\n      <td>3</td>\n      <td>5:06:47 PM</td>\n      <td>8</td>\n      <td>NaN</td>\n      <td>NaN</td>\n      <td>-1.333275</td>\n      <td>36.870815</td>\n      <td>-1.305249</td>\n      <td>36.822390</td>\n      <td>Rider_Id_192</td>\n    </tr>\n    <tr>\n      <th>1</th>\n      <td>Order_No_12736</td>\n      <td>User_Id_3647</td>\n      <td>Bike</td>\n      <td>3</td>\n      <td>Business</td>\n      <td>17</td>\n      <td>5</td>\n      <td>12:57:35 PM</td>\n      <td>17</td>\n      <td>5</td>\n      <td>...</td>\n      <td>5</td>\n      <td>1:25:37 PM</td>\n      <td>5</td>\n      <td>NaN</td>\n      <td>NaN</td>\n      <td>-1.272639</td>\n      <td>36.794723</td>\n      <td>-1.277007</td>\n      <td>36.823907</td>\n      <td>Rider_Id_868</td>\n    </tr>\n    <tr>\n      <th>2</th>\n      <td>Order_No_768</td>\n      <td>User_Id_2154</td>\n      <td>Bike</td>\n      <td>3</td>\n      <td>Business</td>\n      <td>27</td>\n      <td>4</td>\n      <td>11:08:14 AM</td>\n      <td>27</td>\n      <td>4</td>\n      <td>...</td>\n      <td>4</td>\n      <td>11:57:54 AM</td>\n      <td>5</td>\n      <td>22.8</td>\n      <td>NaN</td>\n      <td>-1.290894</td>\n      <td>36.822971</td>\n      <td>-1.276574</td>\n      <td>36.851365</td>\n      <td>Rider_Id_26</td>\n    </tr>\n    <tr>\n      <th>3</th>\n      <td>Order_No_15332</td>\n      <td>User_Id_2910</td>\n      <td>Bike</td>\n      <td>3</td>\n      <td>Business</td>\n      <td>17</td>\n      <td>1</td>\n      <td>1:51:35 PM</td>\n      <td>17</td>\n      <td>1</td>\n      <td>...</td>\n      <td>1</td>\n      <td>2:16:52 PM</td>\n      <td>5</td>\n      <td>24.5</td>\n      <td>NaN</td>\n      <td>-1.290503</td>\n      <td>36.809646</td>\n      <td>-1.303382</td>\n      <td>36.790658</td>\n      <td>Rider_Id_685</td>\n    </tr>\n    <tr>\n      <th>4</th>\n      <td>Order_No_21373</td>\n      <td>User_Id_1205</td>\n      <td>Bike</td>\n      <td>3</td>\n      <td>Business</td>\n      <td>11</td>\n      <td>2</td>\n      <td>11:30:28 AM</td>\n      <td>11</td>\n      <td>2</td>\n      <td>...</td>\n      <td>2</td>\n      <td>11:56:04 AM</td>\n      <td>6</td>\n      <td>24.4</td>\n      <td>NaN</td>\n      <td>-1.281081</td>\n      <td>36.814423</td>\n      <td>-1.266467</td>\n      <td>36.792161</td>\n      <td>Rider_Id_858</td>\n    </tr>\n    <tr>\n      <th>...</th>\n      <td>...</td>\n      <td>...</td>\n      <td>...</td>\n      <td>...</td>\n      <td>...</td>\n      <td>...</td>\n      <td>...</td>\n      <td>...</td>\n      <td>...</td>\n      <td>...</td>\n      <td>...</td>\n      <td>...</td>\n      <td>...</td>\n      <td>...</td>\n      <td>...</td>\n      <td>...</td>\n      <td>...</td>\n      <td>...</td>\n      <td>...</td>\n      <td>...</td>\n      <td>...</td>\n    </tr>\n    <tr>\n      <th>7063</th>\n      <td>Order_No_3612</td>\n      <td>User_Id_2587</td>\n      <td>Bike</td>\n      <td>3</td>\n      <td>Business</td>\n      <td>7</td>\n      <td>1</td>\n      <td>10:35:49 AM</td>\n      <td>7</td>\n      <td>1</td>\n      <td>...</td>\n      <td>1</td>\n      <td>10:48:18 AM</td>\n      <td>5</td>\n      <td>24.8</td>\n      <td>NaN</td>\n      <td>-1.258414</td>\n      <td>36.804800</td>\n      <td>-1.288780</td>\n      <td>36.816831</td>\n      <td>Rider_Id_362</td>\n    </tr>\n    <tr>\n      <th>7064</th>\n      <td>Order_No_7657</td>\n      <td>User_Id_3547</td>\n      <td>Bike</td>\n      <td>3</td>\n      <td>Business</td>\n      <td>10</td>\n      <td>3</td>\n      <td>2:59:42 PM</td>\n      <td>10</td>\n      <td>3</td>\n      <td>...</td>\n      <td>3</td>\n      <td>3:21:44 PM</td>\n      <td>22</td>\n      <td>30.7</td>\n      <td>NaN</td>\n      <td>-1.276141</td>\n      <td>36.771084</td>\n      <td>-1.316098</td>\n      <td>36.913164</td>\n      <td>Rider_Id_669</td>\n    </tr>\n    <tr>\n      <th>7065</th>\n      <td>Order_No_1969</td>\n      <td>User_Id_136</td>\n      <td>Bike</td>\n      <td>3</td>\n      <td>Business</td>\n      <td>5</td>\n      <td>3</td>\n      <td>2:45:12 PM</td>\n      <td>5</td>\n      <td>3</td>\n      <td>...</td>\n      <td>3</td>\n      <td>3:07:52 PM</td>\n      <td>10</td>\n      <td>25.1</td>\n      <td>NaN</td>\n      <td>-1.301446</td>\n      <td>36.766138</td>\n      <td>-1.264960</td>\n      <td>36.798178</td>\n      <td>Rider_Id_379</td>\n    </tr>\n    <tr>\n      <th>7066</th>\n      <td>Order_No_10591</td>\n      <td>User_Id_1979</td>\n      <td>Bike</td>\n      <td>3</td>\n      <td>Personal</td>\n      <td>29</td>\n      <td>2</td>\n      <td>3:18:26 PM</td>\n      <td>29</td>\n      <td>2</td>\n      <td>...</td>\n      <td>2</td>\n      <td>3:46:35 PM</td>\n      <td>18</td>\n      <td>23.6</td>\n      <td>NaN</td>\n      <td>-1.248404</td>\n      <td>36.678276</td>\n      <td>-1.272027</td>\n      <td>36.817411</td>\n      <td>Rider_Id_474</td>\n    </tr>\n    <tr>\n      <th>7067</th>\n      <td>Order_No_1603</td>\n      <td>User_Id_1721</td>\n      <td>Bike</td>\n      <td>3</td>\n      <td>Business</td>\n      <td>4</td>\n      <td>2</td>\n      <td>3:37:09 PM</td>\n      <td>4</td>\n      <td>2</td>\n      <td>...</td>\n      <td>2</td>\n      <td>4:04:43 PM</td>\n      <td>8</td>\n      <td>22.3</td>\n      <td>NaN</td>\n      <td>-1.255189</td>\n      <td>36.782203</td>\n      <td>-1.300406</td>\n      <td>36.829741</td>\n      <td>Rider_Id_76</td>\n    </tr>\n  </tbody>\n</table>\n<p>7068 rows × 25 columns</p>\n</div>"
          },
          "metadata": {},
          "execution_count": 12
        }
      ],
      "source": [
        "finaltest"
      ]
    },
    {
      "cell_type": "code",
      "execution_count": 15,
      "metadata": {},
      "outputs": [
        {
          "output_type": "execute_result",
          "data": {
            "text/plain": "21201"
          },
          "metadata": {},
          "execution_count": 15
        }
      ],
      "source": [
        "len(dataset['Order No'].unique())"
      ]
    },
    {
      "cell_type": "code",
      "execution_count": null,
      "metadata": {},
      "outputs": [],
      "source": []
    }
  ],
  "metadata": {
    "colab": {
      "name": "sam_regression.ipynb",
      "provenance": [],
      "collapsed_sections": [],
      "authorship_tag": "ABX9TyMuW28rZFUbkQlqjGk0nZFk",
      "include_colab_link": true
    },
    "kernelspec": {
      "name": "python3",
      "display_name": "Python 3"
    }
  },
  "nbformat": 4,
  "nbformat_minor": 0
}